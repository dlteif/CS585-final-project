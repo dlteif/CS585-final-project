{
 "cells": [
  {
   "cell_type": "code",
   "execution_count": 28,
   "metadata": {},
   "outputs": [],
   "source": [
    "import cv2\n",
    "import numpy as np\n",
    "import glob \n",
    "import os\n",
    "from moviepy.editor import *\n",
    "import subprocess"
   ]
  },
  {
   "cell_type": "code",
   "execution_count": 67,
   "metadata": {},
   "outputs": [],
   "source": [
    "gt_path = 'norm_sparsity_code/results/ground_truth'\n",
    "deconv_path = 'norm_sparsity_code/results/deblurred'\n",
    "gan_path = 'deblur_gan/results/deblurred'\n",
    "wiener_path = 'wiener_deconvolution/results'"
   ]
  },
  {
   "cell_type": "code",
   "execution_count": 68,
   "metadata": {},
   "outputs": [],
   "source": [
    "gt_frames = sorted(glob.glob(os.path.join(gt_path,'*.png')))\n",
    "deconv_frames = sorted(glob.glob(os.path.join(deconv_path,'*.png')))\n",
    "gan_frames = sorted(glob.glob(os.path.join(gan_path,'*.png')))\n",
    "wiener_frames = sorted(glob.glob(os.path.join(wiener_path,'*.jpg')))"
   ]
  },
  {
   "cell_type": "code",
   "execution_count": 63,
   "metadata": {},
   "outputs": [],
   "source": [
    "out_path = 'compared_results/' \n",
    "if not os.path.exists(out_path): os.mkdir(out_path)\n",
    "cv2.namedWindow('results', cv2.WINDOW_AUTOSIZE)\n",
    "for i, (gt, deconv, gan, wiener) in enumerate(zip(gt_frames,deconv_frames,gan_frames,wiener_frames)): \n",
    "    gt_im = cv2.imread(gt)\n",
    "    deconv_im = cv2.imread(deconv)\n",
    "    gan_im = cv2.imread(gan)\n",
    "    wiener_im = cv2.imread(wiener)\n",
    "    h,w = wiener_im.shape[0],wiener_im.shape[1]\n",
    "    cv2.putText(gt_im, 'original', (10,h-50), cv2.FONT_HERSHEY_SIMPLEX,2,(0,255,0),2)\n",
    "    cv2.putText(deconv_im, 'blind_deconv', (10,h-50), cv2.FONT_HERSHEY_SIMPLEX,2,(0,255,0),2)\n",
    "    cv2.putText(gan_im, 'deblurGAN', (10,h-50), cv2.FONT_HERSHEY_SIMPLEX,2,(0,255,0),2)\n",
    "    cv2.putText(wiener_im, 'wiener_deconv', (10,h-50), cv2.FONT_HERSHEY_SIMPLEX,2,(0,255,0),2)\n",
    "    frame = np.concatenate((gt_im,deconv_im,gan_im,wiener_im),axis=1)\n",
    "    cv2.imwrite(os.path.join(out_path, f'{i}_out.jpg'), frame)\n",
    "    cv2.imshow('results', frame)\n",
    "    if cv2.waitKey(1) & 0xFF == ord('q'):\n",
    "        break\n",
    "cv2.destroyAllWindows()\n",
    "    "
   ]
  },
  {
   "cell_type": "code",
   "execution_count": 70,
   "metadata": {
    "scrolled": true
   },
   "outputs": [
    {
     "name": "stderr",
     "output_type": "stream",
     "text": [
      "                                                            \n",
      "\n",
      "\n",
      "                                                          \n",
      "                                                            \n",
      "\n",
      "                                                          \n",
      "\n",
      "\n",
      "\n",
      "                                                          \r"
     ]
    },
    {
     "name": "stdout",
     "output_type": "stream",
     "text": [
      "Moviepy - Building video gifs/blind_deconv\\0_out.mp4.\n"
     ]
    },
    {
     "name": "stderr",
     "output_type": "stream",
     "text": [
      "t: 100%|██████████| 2/2 [3:52:28<00:00,  2.95it/s, now=None]\n",
      "\n",
      "\n",
      "t: 100%|██████████| 2/2 [01:30<00:00,  6.96it/s, now=None]\n",
      "t: 100%|██████████| 2/2 [3:51:55<00:00,  6.58it/s, now=None]\n",
      "\n",
      "t: 100%|██████████| 2/2 [02:31<00:00,  6.35it/s, now=None]\n",
      "\n",
      "\n",
      "\n",
      "                                                            \n",
      "\n",
      "\n",
      "                                                          \n",
      "                                                            \n",
      "\n",
      "                                                          \n",
      "\n",
      "\n",
      "\n",
      "                                                          \r"
     ]
    },
    {
     "name": "stdout",
     "output_type": "stream",
     "text": [
      "Moviepy - Writing video gifs/blind_deconv\\0_out.mp4\n",
      "\n"
     ]
    },
    {
     "name": "stderr",
     "output_type": "stream",
     "text": [
      "t: 100%|██████████| 2/2 [3:52:28<00:00,  2.95it/s, now=None]\n",
      "\n",
      "\n",
      "t: 100%|██████████| 2/2 [01:30<00:00,  6.96it/s, now=None]\n",
      "t: 100%|██████████| 2/2 [3:51:55<00:00,  6.58it/s, now=None]\n",
      "\n",
      "t: 100%|██████████| 2/2 [02:31<00:00,  6.35it/s, now=None]\n",
      "\n",
      "\n",
      "\n",
      "t: 100%|██████████| 2/2 [00:23<00:00,  7.61it/s, now=None]\n",
      "\n",
      "\n",
      "\n",
      "\n",
      "t:   0%|          | 0/2 [00:00<?, ?it/s, now=None]\n",
      "\n",
      "\n",
      "\n",
      "\n",
      "t: 100%|██████████| 2/2 [00:00<00:00,  7.02it/s, now=None]\n",
      "\n",
      "\n",
      "\n",
      "\n",
      "                                                            \n",
      "\n",
      "\n",
      "                                                          \n",
      "                                                            \n",
      "\n",
      "                                                          \n",
      "\n",
      "\n",
      "\n",
      "                                                          \r"
     ]
    },
    {
     "name": "stdout",
     "output_type": "stream",
     "text": [
      "Moviepy - Done !\n"
     ]
    },
    {
     "name": "stderr",
     "output_type": "stream",
     "text": [
      "t: 100%|██████████| 2/2 [3:52:29<00:00,  2.95it/s, now=None]\n",
      "\n",
      "\n",
      "t: 100%|██████████| 2/2 [01:30<00:00,  6.96it/s, now=None]\n",
      "t: 100%|██████████| 2/2 [3:51:56<00:00,  6.58it/s, now=None]\n",
      "\n",
      "t: 100%|██████████| 2/2 [02:31<00:00,  6.35it/s, now=None]\n",
      "\n",
      "\n",
      "\n",
      "                                                            \n",
      "\n",
      "\n",
      "                                                          \n",
      "                                                            \n",
      "\n",
      "                                                          \n",
      "\n",
      "\n",
      "\n",
      "                                                          \r"
     ]
    },
    {
     "name": "stdout",
     "output_type": "stream",
     "text": [
      "Moviepy - video ready gifs/blind_deconv\\0_out.mp4\n"
     ]
    },
    {
     "name": "stderr",
     "output_type": "stream",
     "text": [
      "t: 100%|██████████| 2/2 [3:52:29<00:00,  2.95it/s, now=None]\n",
      "\n",
      "\n",
      "t: 100%|██████████| 2/2 [01:30<00:00,  6.96it/s, now=None]\n",
      "t: 100%|██████████| 2/2 [3:51:56<00:00,  6.58it/s, now=None]\n",
      "\n",
      "t: 100%|██████████| 2/2 [02:32<00:00,  6.35it/s, now=None]\n",
      "\n",
      "\n",
      "\n",
      "                                                            \n",
      "\n",
      "\n",
      "                                                          \n",
      "                                                            \n",
      "\n",
      "                                                          \n",
      "\n",
      "\n",
      "\n",
      "                                                          \r"
     ]
    },
    {
     "name": "stdout",
     "output_type": "stream",
     "text": [
      "Moviepy - Building video gifs/deblur_gan\\0_out.mp4.\n"
     ]
    },
    {
     "name": "stderr",
     "output_type": "stream",
     "text": [
      "t: 100%|██████████| 2/2 [3:52:29<00:00,  2.95it/s, now=None]\n",
      "\n",
      "\n",
      "t: 100%|██████████| 2/2 [01:30<00:00,  6.96it/s, now=None]\n",
      "t: 100%|██████████| 2/2 [3:51:56<00:00,  6.58it/s, now=None]\n",
      "\n",
      "t: 100%|██████████| 2/2 [02:32<00:00,  6.35it/s, now=None]\n",
      "\n",
      "\n",
      "\n",
      "                                                            \n",
      "\n",
      "\n",
      "                                                          \n",
      "                                                            \n",
      "\n",
      "                                                          \n",
      "\n",
      "\n",
      "\n",
      "                                                          \r"
     ]
    },
    {
     "name": "stdout",
     "output_type": "stream",
     "text": [
      "Moviepy - Writing video gifs/deblur_gan\\0_out.mp4\n",
      "\n"
     ]
    },
    {
     "name": "stderr",
     "output_type": "stream",
     "text": [
      "t: 100%|██████████| 2/2 [3:52:29<00:00,  2.95it/s, now=None]\n",
      "\n",
      "\n",
      "t: 100%|██████████| 2/2 [01:30<00:00,  6.96it/s, now=None]\n",
      "t: 100%|██████████| 2/2 [3:51:56<00:00,  6.58it/s, now=None]\n",
      "\n",
      "t: 100%|██████████| 2/2 [02:32<00:00,  6.35it/s, now=None]\n",
      "\n",
      "\n",
      "\n",
      "t: 100%|██████████| 2/2 [00:24<00:00,  7.61it/s, now=None]\n",
      "\n",
      "\n",
      "\n",
      "\n",
      "t:   0%|          | 0/2 [00:00<?, ?it/s, now=None]\n",
      "\n",
      "\n",
      "\n",
      "\n",
      "t: 100%|██████████| 2/2 [00:00<00:00,  7.16it/s, now=None]\n",
      "\n",
      "\n",
      "\n",
      "\n",
      "                                                            \n",
      "\n",
      "\n",
      "                                                          \n",
      "                                                            \n",
      "\n",
      "                                                          \n",
      "\n",
      "\n",
      "\n",
      "                                                          \r"
     ]
    },
    {
     "name": "stdout",
     "output_type": "stream",
     "text": [
      "Moviepy - Done !\n"
     ]
    },
    {
     "name": "stderr",
     "output_type": "stream",
     "text": [
      "t: 100%|██████████| 2/2 [3:52:29<00:00,  2.95it/s, now=None]\n",
      "\n",
      "\n",
      "t: 100%|██████████| 2/2 [01:31<00:00,  6.96it/s, now=None]\n",
      "t: 100%|██████████| 2/2 [3:51:56<00:00,  6.58it/s, now=None]\n",
      "\n",
      "t: 100%|██████████| 2/2 [02:32<00:00,  6.35it/s, now=None]\n",
      "\n",
      "\n",
      "\n",
      "                                                            \n",
      "\n",
      "\n",
      "                                                          \n",
      "                                                            \n",
      "\n",
      "                                                          \n",
      "\n",
      "\n",
      "\n",
      "                                                          \r"
     ]
    },
    {
     "name": "stdout",
     "output_type": "stream",
     "text": [
      "Moviepy - video ready gifs/deblur_gan\\0_out.mp4\n"
     ]
    },
    {
     "name": "stderr",
     "output_type": "stream",
     "text": [
      "t: 100%|██████████| 2/2 [3:52:29<00:00,  2.95it/s, now=None]\n",
      "\n",
      "\n",
      "t: 100%|██████████| 2/2 [01:31<00:00,  6.96it/s, now=None]\n",
      "t: 100%|██████████| 2/2 [3:51:56<00:00,  6.58it/s, now=None]\n",
      "\n",
      "t: 100%|██████████| 2/2 [02:32<00:00,  6.35it/s, now=None]\n",
      "\n",
      "\n",
      "\n",
      "                                                            \n",
      "\n",
      "\n",
      "                                                          \n",
      "                                                            \n",
      "\n",
      "                                                          \n",
      "\n",
      "\n",
      "\n",
      "                                                          \r"
     ]
    },
    {
     "name": "stdout",
     "output_type": "stream",
     "text": [
      "Moviepy - Building video gifs/wiener_deconv\\0_out.mp4.\n"
     ]
    },
    {
     "name": "stderr",
     "output_type": "stream",
     "text": [
      "t: 100%|██████████| 2/2 [3:52:29<00:00,  2.95it/s, now=None]\n",
      "\n",
      "\n",
      "t: 100%|██████████| 2/2 [01:31<00:00,  6.96it/s, now=None]\n",
      "t: 100%|██████████| 2/2 [3:51:56<00:00,  6.58it/s, now=None]\n",
      "\n",
      "t: 100%|██████████| 2/2 [02:32<00:00,  6.35it/s, now=None]\n",
      "\n",
      "\n",
      "\n",
      "                                                            \n",
      "\n",
      "\n",
      "                                                          \n",
      "                                                            \n",
      "\n",
      "                                                          \n",
      "\n",
      "\n",
      "\n",
      "                                                          \r"
     ]
    },
    {
     "name": "stdout",
     "output_type": "stream",
     "text": [
      "Moviepy - Writing video gifs/wiener_deconv\\0_out.mp4\n",
      "\n"
     ]
    },
    {
     "name": "stderr",
     "output_type": "stream",
     "text": [
      "t: 100%|██████████| 2/2 [3:52:29<00:00,  2.95it/s, now=None]\n",
      "\n",
      "\n",
      "t: 100%|██████████| 2/2 [01:31<00:00,  6.96it/s, now=None]\n",
      "t: 100%|██████████| 2/2 [3:51:56<00:00,  6.58it/s, now=None]\n",
      "\n",
      "t: 100%|██████████| 2/2 [02:32<00:00,  6.35it/s, now=None]\n",
      "\n",
      "\n",
      "\n",
      "t: 100%|██████████| 2/2 [00:24<00:00,  7.61it/s, now=None]\n",
      "\n",
      "\n",
      "\n",
      "\n",
      "t:   0%|          | 0/2 [00:00<?, ?it/s, now=None]\n",
      "\n",
      "\n",
      "\n",
      "\n",
      "t: 100%|██████████| 2/2 [00:00<00:00,  7.24it/s, now=None]\n",
      "\n",
      "\n",
      "\n",
      "\n",
      "                                                            \n",
      "\n",
      "\n",
      "                                                          \n",
      "                                                            \n",
      "\n",
      "                                                          \n",
      "\n",
      "\n",
      "\n",
      "                                                          \r"
     ]
    },
    {
     "name": "stdout",
     "output_type": "stream",
     "text": [
      "Moviepy - Done !\n"
     ]
    },
    {
     "name": "stderr",
     "output_type": "stream",
     "text": [
      "t: 100%|██████████| 2/2 [3:52:30<00:00,  2.95it/s, now=None]\n",
      "\n",
      "\n",
      "t: 100%|██████████| 2/2 [01:32<00:00,  6.96it/s, now=None]\n",
      "t: 100%|██████████| 2/2 [3:51:57<00:00,  6.58it/s, now=None]\n",
      "\n",
      "t: 100%|██████████| 2/2 [02:33<00:00,  6.35it/s, now=None]\n",
      "\n",
      "\n",
      "\n",
      "                                                            \n",
      "\n",
      "\n",
      "                                                          \n",
      "                                                            \n",
      "\n",
      "                                                          \n",
      "\n",
      "\n",
      "\n",
      "                                                          \r"
     ]
    },
    {
     "name": "stdout",
     "output_type": "stream",
     "text": [
      "Moviepy - video ready gifs/wiener_deconv\\0_out.mp4\n"
     ]
    },
    {
     "name": "stderr",
     "output_type": "stream",
     "text": [
      "t: 100%|██████████| 2/2 [3:52:30<00:00,  2.95it/s, now=None]\n",
      "\n",
      "\n",
      "t: 100%|██████████| 2/2 [01:32<00:00,  6.96it/s, now=None]\n",
      "t: 100%|██████████| 2/2 [3:51:57<00:00,  6.58it/s, now=None]\n",
      "\n",
      "t: 100%|██████████| 2/2 [02:33<00:00,  6.35it/s, now=None]\n",
      "\n",
      "\n",
      "\n",
      "                                                            \n",
      "\n",
      "\n",
      "                                                          \n",
      "                                                            \n",
      "\n",
      "                                                          \n",
      "\n",
      "\n",
      "\n",
      "                                                          \r"
     ]
    },
    {
     "name": "stdout",
     "output_type": "stream",
     "text": [
      "Moviepy - Building video gifs/blind_deconv\\1_out.mp4.\n"
     ]
    },
    {
     "name": "stderr",
     "output_type": "stream",
     "text": [
      "t: 100%|██████████| 2/2 [3:52:30<00:00,  2.95it/s, now=None]\n",
      "\n",
      "\n",
      "t: 100%|██████████| 2/2 [01:32<00:00,  6.96it/s, now=None]\n",
      "t: 100%|██████████| 2/2 [3:51:57<00:00,  6.58it/s, now=None]\n",
      "\n",
      "t: 100%|██████████| 2/2 [02:33<00:00,  6.35it/s, now=None]\n",
      "\n",
      "\n",
      "\n",
      "                                                            \n",
      "\n",
      "\n",
      "                                                          \n",
      "                                                            \n",
      "\n",
      "                                                          \n",
      "\n",
      "\n",
      "\n",
      "                                                          \r"
     ]
    },
    {
     "name": "stdout",
     "output_type": "stream",
     "text": [
      "Moviepy - Writing video gifs/blind_deconv\\1_out.mp4\n",
      "\n"
     ]
    },
    {
     "name": "stderr",
     "output_type": "stream",
     "text": [
      "t: 100%|██████████| 2/2 [3:52:30<00:00,  2.95it/s, now=None]\n",
      "\n",
      "\n",
      "t: 100%|██████████| 2/2 [01:32<00:00,  6.96it/s, now=None]\n",
      "t: 100%|██████████| 2/2 [3:51:57<00:00,  6.58it/s, now=None]\n",
      "\n",
      "t: 100%|██████████| 2/2 [02:33<00:00,  6.35it/s, now=None]\n",
      "\n",
      "\n",
      "\n",
      "t: 100%|██████████| 2/2 [00:25<00:00,  7.61it/s, now=None]\n",
      "\n",
      "\n",
      "\n",
      "\n",
      "t:   0%|          | 0/2 [00:00<?, ?it/s, now=None]\n",
      "\n",
      "\n",
      "\n",
      "\n",
      "t: 100%|██████████| 2/2 [00:00<00:00,  6.83it/s, now=None]\n",
      "\n",
      "\n",
      "\n",
      "\n",
      "                                                            \n",
      "\n",
      "\n",
      "                                                          \n",
      "                                                            \n",
      "\n",
      "                                                          \n",
      "\n",
      "\n",
      "\n",
      "                                                          \r"
     ]
    },
    {
     "name": "stdout",
     "output_type": "stream",
     "text": [
      "Moviepy - Done !\n"
     ]
    },
    {
     "name": "stderr",
     "output_type": "stream",
     "text": [
      "t: 100%|██████████| 2/2 [3:52:30<00:00,  2.95it/s, now=None]\n",
      "\n",
      "\n",
      "t: 100%|██████████| 2/2 [01:32<00:00,  6.96it/s, now=None]\n",
      "t: 100%|██████████| 2/2 [3:51:58<00:00,  6.58it/s, now=None]\n",
      "\n",
      "t: 100%|██████████| 2/2 [02:33<00:00,  6.35it/s, now=None]\n",
      "\n",
      "\n",
      "\n",
      "                                                            \n",
      "\n",
      "\n",
      "                                                          \n",
      "                                                            \n",
      "\n",
      "                                                          \n",
      "\n",
      "\n",
      "\n",
      "                                                          \r"
     ]
    },
    {
     "name": "stdout",
     "output_type": "stream",
     "text": [
      "Moviepy - video ready gifs/blind_deconv\\1_out.mp4\n"
     ]
    },
    {
     "name": "stderr",
     "output_type": "stream",
     "text": [
      "t: 100%|██████████| 2/2 [3:52:30<00:00,  2.95it/s, now=None]\n",
      "\n",
      "\n",
      "t: 100%|██████████| 2/2 [01:32<00:00,  6.96it/s, now=None]\n",
      "t: 100%|██████████| 2/2 [3:51:58<00:00,  6.58it/s, now=None]\n",
      "\n",
      "t: 100%|██████████| 2/2 [02:33<00:00,  6.35it/s, now=None]\n",
      "\n",
      "\n",
      "\n",
      "                                                            \n",
      "\n",
      "\n",
      "                                                          \n",
      "                                                            \n",
      "\n",
      "                                                          \n",
      "\n",
      "\n",
      "\n",
      "                                                          \r"
     ]
    },
    {
     "name": "stdout",
     "output_type": "stream",
     "text": [
      "Moviepy - Building video gifs/deblur_gan\\1_out.mp4.\n"
     ]
    },
    {
     "name": "stderr",
     "output_type": "stream",
     "text": [
      "t: 100%|██████████| 2/2 [3:52:30<00:00,  2.95it/s, now=None]\n",
      "\n",
      "\n",
      "t: 100%|██████████| 2/2 [01:32<00:00,  6.96it/s, now=None]\n",
      "t: 100%|██████████| 2/2 [3:51:58<00:00,  6.58it/s, now=None]\n",
      "\n",
      "t: 100%|██████████| 2/2 [02:33<00:00,  6.35it/s, now=None]\n",
      "\n",
      "\n",
      "\n",
      "                                                            \n",
      "\n",
      "\n",
      "                                                          \n",
      "                                                            \n",
      "\n",
      "                                                          \n",
      "\n",
      "\n",
      "\n",
      "                                                          \r"
     ]
    },
    {
     "name": "stdout",
     "output_type": "stream",
     "text": [
      "Moviepy - Writing video gifs/deblur_gan\\1_out.mp4\n",
      "\n"
     ]
    },
    {
     "name": "stderr",
     "output_type": "stream",
     "text": [
      "t: 100%|██████████| 2/2 [3:52:30<00:00,  2.95it/s, now=None]\n",
      "\n",
      "\n",
      "t: 100%|██████████| 2/2 [01:32<00:00,  6.96it/s, now=None]\n",
      "t: 100%|██████████| 2/2 [3:51:58<00:00,  6.58it/s, now=None]\n",
      "\n",
      "t: 100%|██████████| 2/2 [02:33<00:00,  6.35it/s, now=None]\n",
      "\n",
      "\n",
      "\n",
      "t: 100%|██████████| 2/2 [00:25<00:00,  7.61it/s, now=None]\n",
      "\n",
      "\n",
      "\n",
      "\n",
      "t:   0%|          | 0/2 [00:00<?, ?it/s, now=None]\n",
      "\n",
      "\n",
      "\n",
      "\n",
      "t: 100%|██████████| 2/2 [00:00<00:00,  7.37it/s, now=None]\n",
      "\n",
      "\n",
      "\n",
      "\n",
      "                                                            \n",
      "\n",
      "\n",
      "                                                          \n",
      "                                                            \n",
      "\n",
      "                                                          \n",
      "\n",
      "\n",
      "\n",
      "                                                          \r"
     ]
    },
    {
     "name": "stdout",
     "output_type": "stream",
     "text": [
      "Moviepy - Done !\n"
     ]
    },
    {
     "name": "stderr",
     "output_type": "stream",
     "text": [
      "t: 100%|██████████| 2/2 [3:52:31<00:00,  2.95it/s, now=None]\n",
      "\n",
      "\n",
      "t: 100%|██████████| 2/2 [01:33<00:00,  6.96it/s, now=None]\n",
      "t: 100%|██████████| 2/2 [3:51:58<00:00,  6.58it/s, now=None]\n",
      "\n",
      "t: 100%|██████████| 2/2 [02:34<00:00,  6.35it/s, now=None]\n",
      "\n",
      "\n",
      "\n",
      "                                                            \n",
      "\n",
      "\n",
      "                                                          \n",
      "                                                            \n",
      "\n",
      "                                                          \n",
      "\n",
      "\n",
      "\n",
      "                                                          \r"
     ]
    },
    {
     "name": "stdout",
     "output_type": "stream",
     "text": [
      "Moviepy - video ready gifs/deblur_gan\\1_out.mp4\n"
     ]
    },
    {
     "name": "stderr",
     "output_type": "stream",
     "text": [
      "t: 100%|██████████| 2/2 [3:52:31<00:00,  2.95it/s, now=None]\n",
      "\n",
      "\n",
      "t: 100%|██████████| 2/2 [01:33<00:00,  6.96it/s, now=None]\n",
      "t: 100%|██████████| 2/2 [3:51:58<00:00,  6.58it/s, now=None]\n",
      "\n",
      "t: 100%|██████████| 2/2 [02:34<00:00,  6.35it/s, now=None]\n",
      "\n",
      "\n",
      "\n",
      "                                                            \n",
      "\n",
      "\n",
      "                                                          \n",
      "                                                            \n",
      "\n",
      "                                                          \n",
      "\n",
      "\n",
      "\n",
      "                                                          \r"
     ]
    },
    {
     "name": "stdout",
     "output_type": "stream",
     "text": [
      "Moviepy - Building video gifs/wiener_deconv\\1_out.mp4.\n"
     ]
    },
    {
     "name": "stderr",
     "output_type": "stream",
     "text": [
      "t: 100%|██████████| 2/2 [3:52:31<00:00,  2.95it/s, now=None]\n",
      "\n",
      "\n",
      "t: 100%|██████████| 2/2 [01:33<00:00,  6.96it/s, now=None]\n",
      "t: 100%|██████████| 2/2 [3:51:58<00:00,  6.58it/s, now=None]\n",
      "\n",
      "t: 100%|██████████| 2/2 [02:34<00:00,  6.35it/s, now=None]\n",
      "\n",
      "\n",
      "\n",
      "                                                            \n",
      "\n",
      "\n",
      "                                                          \n",
      "                                                            \n",
      "\n",
      "                                                          \n",
      "\n",
      "\n",
      "\n",
      "                                                          \r"
     ]
    },
    {
     "name": "stdout",
     "output_type": "stream",
     "text": [
      "Moviepy - Writing video gifs/wiener_deconv\\1_out.mp4\n",
      "\n"
     ]
    },
    {
     "name": "stderr",
     "output_type": "stream",
     "text": [
      "t: 100%|██████████| 2/2 [3:52:31<00:00,  2.95it/s, now=None]\n",
      "\n",
      "\n",
      "t: 100%|██████████| 2/2 [01:33<00:00,  6.96it/s, now=None]\n",
      "t: 100%|██████████| 2/2 [3:51:58<00:00,  6.58it/s, now=None]\n",
      "\n",
      "t: 100%|██████████| 2/2 [02:34<00:00,  6.35it/s, now=None]\n",
      "\n",
      "\n",
      "\n",
      "t: 100%|██████████| 2/2 [00:26<00:00,  7.61it/s, now=None]\n",
      "\n",
      "\n",
      "\n",
      "\n",
      "t:   0%|          | 0/2 [00:00<?, ?it/s, now=None]\n",
      "\n",
      "\n",
      "\n",
      "\n",
      "t: 100%|██████████| 2/2 [00:00<00:00,  4.59it/s, now=None]\n",
      "\n",
      "\n",
      "\n",
      "\n",
      "                                                            \n",
      "\n",
      "\n",
      "                                                          \n",
      "                                                            \n",
      "\n",
      "                                                          \n",
      "\n",
      "\n",
      "\n",
      "                                                          \r"
     ]
    },
    {
     "name": "stdout",
     "output_type": "stream",
     "text": [
      "Moviepy - Done !\n"
     ]
    },
    {
     "name": "stderr",
     "output_type": "stream",
     "text": [
      "t: 100%|██████████| 2/2 [3:52:32<00:00,  2.95it/s, now=None]\n",
      "\n",
      "\n",
      "t: 100%|██████████| 2/2 [01:34<00:00,  6.96it/s, now=None]\n",
      "t: 100%|██████████| 2/2 [3:51:59<00:00,  6.58it/s, now=None]\n",
      "\n",
      "t: 100%|██████████| 2/2 [02:35<00:00,  6.35it/s, now=None]\n",
      "\n",
      "\n",
      "\n",
      "                                                            \n",
      "\n",
      "\n",
      "                                                          \n",
      "                                                            \n",
      "\n",
      "                                                          \n",
      "\n",
      "\n",
      "\n",
      "                                                          \r"
     ]
    },
    {
     "name": "stdout",
     "output_type": "stream",
     "text": [
      "Moviepy - video ready gifs/wiener_deconv\\1_out.mp4\n"
     ]
    },
    {
     "name": "stderr",
     "output_type": "stream",
     "text": [
      "t: 100%|██████████| 2/2 [3:52:32<00:00,  2.95it/s, now=None]\n",
      "\n",
      "\n",
      "t: 100%|██████████| 2/2 [01:34<00:00,  6.96it/s, now=None]\n",
      "t: 100%|██████████| 2/2 [3:51:59<00:00,  6.58it/s, now=None]\n",
      "\n",
      "t: 100%|██████████| 2/2 [02:35<00:00,  6.35it/s, now=None]\n",
      "\n",
      "\n",
      "\n",
      "                                                            \n",
      "\n",
      "\n",
      "                                                          \n",
      "                                                            \n",
      "\n",
      "                                                          \n",
      "\n",
      "\n",
      "\n",
      "                                                          \r"
     ]
    },
    {
     "name": "stdout",
     "output_type": "stream",
     "text": [
      "Moviepy - Building video gifs/blind_deconv\\2_out.mp4.\n"
     ]
    },
    {
     "name": "stderr",
     "output_type": "stream",
     "text": [
      "t: 100%|██████████| 2/2 [3:52:32<00:00,  2.95it/s, now=None]\n",
      "\n",
      "\n",
      "t: 100%|██████████| 2/2 [01:34<00:00,  6.96it/s, now=None]\n",
      "t: 100%|██████████| 2/2 [3:51:59<00:00,  6.58it/s, now=None]\n",
      "\n",
      "t: 100%|██████████| 2/2 [02:35<00:00,  6.35it/s, now=None]\n",
      "\n",
      "\n",
      "\n",
      "                                                            \n",
      "\n",
      "\n",
      "                                                          \n",
      "                                                            \n",
      "\n",
      "                                                          \n",
      "\n",
      "\n",
      "\n",
      "                                                          \r"
     ]
    },
    {
     "name": "stdout",
     "output_type": "stream",
     "text": [
      "Moviepy - Writing video gifs/blind_deconv\\2_out.mp4\n",
      "\n"
     ]
    },
    {
     "name": "stderr",
     "output_type": "stream",
     "text": [
      "t: 100%|██████████| 2/2 [3:52:32<00:00,  2.95it/s, now=None]\n",
      "\n",
      "\n",
      "t: 100%|██████████| 2/2 [01:34<00:00,  6.96it/s, now=None]\n",
      "t: 100%|██████████| 2/2 [3:51:59<00:00,  6.58it/s, now=None]\n",
      "\n",
      "t: 100%|██████████| 2/2 [02:35<00:00,  6.35it/s, now=None]\n",
      "\n",
      "\n",
      "\n",
      "t: 100%|██████████| 2/2 [00:27<00:00,  7.61it/s, now=None]\n",
      "\n",
      "\n",
      "\n",
      "\n",
      "t:   0%|          | 0/2 [00:00<?, ?it/s, now=None]\n",
      "\n",
      "\n",
      "\n",
      "\n",
      "t: 100%|██████████| 2/2 [00:00<00:00,  4.36it/s, now=None]\n",
      "\n",
      "\n",
      "\n",
      "\n",
      "                                                            \n",
      "\n",
      "\n",
      "                                                          \n",
      "                                                            \n",
      "\n",
      "                                                          \n",
      "\n",
      "\n",
      "\n",
      "                                                          \r"
     ]
    },
    {
     "name": "stdout",
     "output_type": "stream",
     "text": [
      "Moviepy - Done !\n"
     ]
    },
    {
     "name": "stderr",
     "output_type": "stream",
     "text": [
      "t: 100%|██████████| 2/2 [3:52:33<00:00,  2.95it/s, now=None]\n",
      "\n",
      "\n",
      "t: 100%|██████████| 2/2 [01:35<00:00,  6.96it/s, now=None]\n",
      "t: 100%|██████████| 2/2 [3:52:00<00:00,  6.58it/s, now=None]\n",
      "\n",
      "t: 100%|██████████| 2/2 [02:36<00:00,  6.35it/s, now=None]\n",
      "\n",
      "\n",
      "\n",
      "                                                            \n",
      "\n",
      "\n",
      "                                                          \n",
      "                                                            \n",
      "\n",
      "                                                          \n",
      "\n",
      "\n",
      "\n",
      "                                                          \r"
     ]
    },
    {
     "name": "stdout",
     "output_type": "stream",
     "text": [
      "Moviepy - video ready gifs/blind_deconv\\2_out.mp4\n"
     ]
    },
    {
     "name": "stderr",
     "output_type": "stream",
     "text": [
      "t: 100%|██████████| 2/2 [3:52:33<00:00,  2.95it/s, now=None]\n",
      "\n",
      "\n",
      "t: 100%|██████████| 2/2 [01:35<00:00,  6.96it/s, now=None]\n",
      "t: 100%|██████████| 2/2 [3:52:00<00:00,  6.58it/s, now=None]\n",
      "\n",
      "t: 100%|██████████| 2/2 [02:36<00:00,  6.35it/s, now=None]\n",
      "\n",
      "\n",
      "\n",
      "                                                            \n",
      "\n",
      "\n",
      "                                                          \n",
      "                                                            \n",
      "\n",
      "                                                          \n",
      "\n",
      "\n",
      "\n",
      "                                                          \r"
     ]
    },
    {
     "name": "stdout",
     "output_type": "stream",
     "text": [
      "Moviepy - Building video gifs/deblur_gan\\2_out.mp4.\n"
     ]
    },
    {
     "name": "stderr",
     "output_type": "stream",
     "text": [
      "t: 100%|██████████| 2/2 [3:52:33<00:00,  2.95it/s, now=None]\n",
      "\n",
      "\n",
      "t: 100%|██████████| 2/2 [01:35<00:00,  6.96it/s, now=None]\n",
      "t: 100%|██████████| 2/2 [3:52:00<00:00,  6.58it/s, now=None]\n",
      "\n",
      "t: 100%|██████████| 2/2 [02:36<00:00,  6.35it/s, now=None]\n",
      "\n",
      "\n",
      "\n",
      "                                                            \n",
      "\n",
      "\n",
      "                                                          \n",
      "                                                            \n",
      "\n",
      "                                                          \n",
      "\n",
      "\n",
      "\n",
      "                                                          \r"
     ]
    },
    {
     "name": "stdout",
     "output_type": "stream",
     "text": [
      "Moviepy - Writing video gifs/deblur_gan\\2_out.mp4\n",
      "\n"
     ]
    },
    {
     "name": "stderr",
     "output_type": "stream",
     "text": [
      "t: 100%|██████████| 2/2 [3:52:33<00:00,  2.95it/s, now=None]\n",
      "\n",
      "\n",
      "t: 100%|██████████| 2/2 [01:35<00:00,  6.96it/s, now=None]\n",
      "t: 100%|██████████| 2/2 [3:52:00<00:00,  6.58it/s, now=None]\n",
      "\n",
      "t: 100%|██████████| 2/2 [02:36<00:00,  6.35it/s, now=None]\n",
      "\n",
      "\n",
      "\n",
      "t: 100%|██████████| 2/2 [00:28<00:00,  7.61it/s, now=None]\n",
      "\n",
      "\n",
      "\n",
      "\n",
      "t:   0%|          | 0/2 [00:00<?, ?it/s, now=None]\n",
      "\n",
      "\n",
      "\n",
      "\n",
      "t: 100%|██████████| 2/2 [00:00<00:00,  7.32it/s, now=None]\n",
      "\n",
      "\n",
      "\n",
      "\n",
      "                                                            \n",
      "\n",
      "\n",
      "                                                          \n",
      "                                                            \n",
      "\n",
      "                                                          \n",
      "\n",
      "\n",
      "\n",
      "                                                          \r"
     ]
    },
    {
     "name": "stdout",
     "output_type": "stream",
     "text": [
      "Moviepy - Done !\n"
     ]
    },
    {
     "name": "stderr",
     "output_type": "stream",
     "text": [
      "t: 100%|██████████| 2/2 [3:52:33<00:00,  2.95it/s, now=None]\n",
      "\n",
      "\n",
      "t: 100%|██████████| 2/2 [01:35<00:00,  6.96it/s, now=None]\n",
      "t: 100%|██████████| 2/2 [3:52:00<00:00,  6.58it/s, now=None]\n",
      "\n",
      "t: 100%|██████████| 2/2 [02:36<00:00,  6.35it/s, now=None]\n",
      "\n",
      "\n",
      "\n",
      "                                                            \n",
      "\n",
      "\n",
      "                                                          \n",
      "                                                            \n",
      "\n",
      "                                                          \n",
      "\n",
      "\n",
      "\n",
      "                                                          \r"
     ]
    },
    {
     "name": "stdout",
     "output_type": "stream",
     "text": [
      "Moviepy - video ready gifs/deblur_gan\\2_out.mp4\n"
     ]
    },
    {
     "name": "stderr",
     "output_type": "stream",
     "text": [
      "t: 100%|██████████| 2/2 [3:52:33<00:00,  2.95it/s, now=None]\n",
      "\n",
      "\n",
      "t: 100%|██████████| 2/2 [01:35<00:00,  6.96it/s, now=None]\n",
      "t: 100%|██████████| 2/2 [3:52:00<00:00,  6.58it/s, now=None]\n",
      "\n",
      "t: 100%|██████████| 2/2 [02:36<00:00,  6.35it/s, now=None]\n",
      "\n",
      "\n",
      "\n",
      "                                                            \n",
      "\n",
      "\n",
      "                                                          \n",
      "                                                            \n",
      "\n",
      "                                                          \n",
      "\n",
      "\n",
      "\n",
      "                                                          \r"
     ]
    },
    {
     "name": "stdout",
     "output_type": "stream",
     "text": [
      "Moviepy - Building video gifs/wiener_deconv\\2_out.mp4.\n"
     ]
    },
    {
     "name": "stderr",
     "output_type": "stream",
     "text": [
      "t: 100%|██████████| 2/2 [3:52:33<00:00,  2.95it/s, now=None]\n",
      "\n",
      "\n",
      "t: 100%|██████████| 2/2 [01:35<00:00,  6.96it/s, now=None]\n",
      "t: 100%|██████████| 2/2 [3:52:00<00:00,  6.58it/s, now=None]\n",
      "\n",
      "t: 100%|██████████| 2/2 [02:36<00:00,  6.35it/s, now=None]\n",
      "\n",
      "\n",
      "\n",
      "                                                            \n",
      "\n",
      "\n",
      "                                                          \n",
      "                                                            \n",
      "\n",
      "                                                          \n",
      "\n",
      "\n",
      "\n",
      "                                                          \r"
     ]
    },
    {
     "name": "stdout",
     "output_type": "stream",
     "text": [
      "Moviepy - Writing video gifs/wiener_deconv\\2_out.mp4\n",
      "\n"
     ]
    },
    {
     "name": "stderr",
     "output_type": "stream",
     "text": [
      "t: 100%|██████████| 2/2 [3:52:33<00:00,  2.95it/s, now=None]\n",
      "\n",
      "\n",
      "t: 100%|██████████| 2/2 [01:35<00:00,  6.96it/s, now=None]\n",
      "t: 100%|██████████| 2/2 [3:52:00<00:00,  6.58it/s, now=None]\n",
      "\n",
      "t: 100%|██████████| 2/2 [02:36<00:00,  6.35it/s, now=None]\n",
      "\n",
      "\n",
      "\n",
      "t: 100%|██████████| 2/2 [00:28<00:00,  7.61it/s, now=None]\n",
      "\n",
      "\n",
      "\n",
      "\n",
      "t:   0%|          | 0/2 [00:00<?, ?it/s, now=None]\n",
      "\n",
      "\n",
      "\n",
      "\n",
      "t: 100%|██████████| 2/2 [00:00<00:00,  7.26it/s, now=None]\n",
      "\n",
      "\n",
      "\n",
      "\n",
      "                                                            \n",
      "\n",
      "\n",
      "                                                          \n",
      "                                                            \n",
      "\n",
      "                                                          \n",
      "\n",
      "\n",
      "\n",
      "                                                          \r"
     ]
    },
    {
     "name": "stdout",
     "output_type": "stream",
     "text": [
      "Moviepy - Done !\n"
     ]
    },
    {
     "name": "stderr",
     "output_type": "stream",
     "text": [
      "t: 100%|██████████| 2/2 [3:52:34<00:00,  2.95it/s, now=None]\n",
      "\n",
      "\n",
      "t: 100%|██████████| 2/2 [01:36<00:00,  6.96it/s, now=None]\n",
      "t: 100%|██████████| 2/2 [3:52:01<00:00,  6.58it/s, now=None]\n",
      "\n",
      "t: 100%|██████████| 2/2 [02:37<00:00,  6.35it/s, now=None]\n",
      "\n",
      "\n",
      "\n",
      "                                                            \n",
      "\n",
      "\n",
      "                                                          \n",
      "                                                            \n",
      "\n",
      "                                                          \n",
      "\n",
      "\n",
      "\n",
      "                                                          \r"
     ]
    },
    {
     "name": "stdout",
     "output_type": "stream",
     "text": [
      "Moviepy - video ready gifs/wiener_deconv\\2_out.mp4\n"
     ]
    },
    {
     "name": "stderr",
     "output_type": "stream",
     "text": [
      "t: 100%|██████████| 2/2 [3:52:34<00:00,  2.95it/s, now=None]\n",
      "\n",
      "\n",
      "t: 100%|██████████| 2/2 [01:36<00:00,  6.96it/s, now=None]\n",
      "t: 100%|██████████| 2/2 [3:52:01<00:00,  6.58it/s, now=None]\n",
      "\n",
      "t: 100%|██████████| 2/2 [02:37<00:00,  6.35it/s, now=None]\n",
      "\n",
      "\n",
      "\n",
      "                                                            \n",
      "\n",
      "\n",
      "                                                          \n",
      "                                                            \n",
      "\n",
      "                                                          \n",
      "\n",
      "\n",
      "\n",
      "                                                          \r"
     ]
    },
    {
     "name": "stdout",
     "output_type": "stream",
     "text": [
      "Moviepy - Building video gifs/blind_deconv\\3_out.mp4.\n"
     ]
    },
    {
     "name": "stderr",
     "output_type": "stream",
     "text": [
      "t: 100%|██████████| 2/2 [3:52:34<00:00,  2.95it/s, now=None]\n",
      "\n",
      "\n",
      "t: 100%|██████████| 2/2 [01:36<00:00,  6.96it/s, now=None]\n",
      "t: 100%|██████████| 2/2 [3:52:01<00:00,  6.58it/s, now=None]\n",
      "\n",
      "t: 100%|██████████| 2/2 [02:37<00:00,  6.35it/s, now=None]\n",
      "\n",
      "\n",
      "\n",
      "                                                            \n",
      "\n",
      "\n",
      "                                                          \n",
      "                                                            \n",
      "\n",
      "                                                          \n",
      "\n",
      "\n",
      "\n",
      "                                                          \r"
     ]
    },
    {
     "name": "stdout",
     "output_type": "stream",
     "text": [
      "Moviepy - Writing video gifs/blind_deconv\\3_out.mp4\n",
      "\n"
     ]
    },
    {
     "name": "stderr",
     "output_type": "stream",
     "text": [
      "t: 100%|██████████| 2/2 [3:52:34<00:00,  2.95it/s, now=None]\n",
      "\n",
      "\n",
      "t: 100%|██████████| 2/2 [01:36<00:00,  6.96it/s, now=None]\n",
      "t: 100%|██████████| 2/2 [3:52:01<00:00,  6.58it/s, now=None]\n",
      "\n",
      "t: 100%|██████████| 2/2 [02:37<00:00,  6.35it/s, now=None]\n",
      "\n",
      "\n",
      "\n",
      "t: 100%|██████████| 2/2 [00:29<00:00,  7.61it/s, now=None]\n",
      "\n",
      "\n",
      "\n",
      "\n",
      "t:   0%|          | 0/2 [00:00<?, ?it/s, now=None]\n",
      "\n",
      "\n",
      "\n",
      "\n",
      "t: 100%|██████████| 2/2 [00:00<00:00,  6.36it/s, now=None]\n",
      "\n",
      "\n",
      "\n",
      "\n",
      "                                                            \n",
      "\n",
      "\n",
      "                                                          \n",
      "                                                            \n",
      "\n",
      "                                                          \n",
      "\n",
      "\n",
      "\n",
      "                                                          \r"
     ]
    },
    {
     "name": "stdout",
     "output_type": "stream",
     "text": [
      "Moviepy - Done !\n"
     ]
    },
    {
     "name": "stderr",
     "output_type": "stream",
     "text": [
      "t: 100%|██████████| 2/2 [3:52:35<00:00,  2.95it/s, now=None]\n",
      "\n",
      "\n",
      "t: 100%|██████████| 2/2 [01:36<00:00,  6.96it/s, now=None]\n",
      "t: 100%|██████████| 2/2 [3:52:02<00:00,  6.58it/s, now=None]\n",
      "\n",
      "t: 100%|██████████| 2/2 [02:38<00:00,  6.35it/s, now=None]\n",
      "\n",
      "\n",
      "\n",
      "                                                            \n",
      "\n",
      "\n",
      "                                                          \n",
      "                                                            \n",
      "\n",
      "                                                          \n",
      "\n",
      "\n",
      "\n",
      "                                                          \r"
     ]
    },
    {
     "name": "stdout",
     "output_type": "stream",
     "text": [
      "Moviepy - video ready gifs/blind_deconv\\3_out.mp4\n"
     ]
    },
    {
     "name": "stderr",
     "output_type": "stream",
     "text": [
      "t: 100%|██████████| 2/2 [3:52:35<00:00,  2.95it/s, now=None]\n",
      "\n",
      "\n",
      "t: 100%|██████████| 2/2 [01:36<00:00,  6.96it/s, now=None]\n",
      "t: 100%|██████████| 2/2 [3:52:02<00:00,  6.58it/s, now=None]\n",
      "\n",
      "t: 100%|██████████| 2/2 [02:38<00:00,  6.35it/s, now=None]\n",
      "\n",
      "\n",
      "\n",
      "                                                            \n",
      "\n",
      "\n",
      "                                                          \n",
      "                                                            \n",
      "\n",
      "                                                          \n",
      "\n",
      "\n",
      "\n",
      "                                                          \r"
     ]
    },
    {
     "name": "stdout",
     "output_type": "stream",
     "text": [
      "Moviepy - Building video gifs/deblur_gan\\3_out.mp4.\n"
     ]
    },
    {
     "name": "stderr",
     "output_type": "stream",
     "text": [
      "t: 100%|██████████| 2/2 [3:52:35<00:00,  2.95it/s, now=None]\n",
      "\n",
      "\n",
      "t: 100%|██████████| 2/2 [01:37<00:00,  6.96it/s, now=None]\n",
      "t: 100%|██████████| 2/2 [3:52:02<00:00,  6.58it/s, now=None]\n",
      "\n",
      "t: 100%|██████████| 2/2 [02:38<00:00,  6.35it/s, now=None]\n",
      "\n",
      "\n",
      "\n",
      "                                                            \n",
      "\n",
      "\n",
      "                                                          \n",
      "                                                            \n",
      "\n",
      "                                                          \n",
      "\n",
      "\n",
      "\n",
      "                                                          \r"
     ]
    },
    {
     "name": "stdout",
     "output_type": "stream",
     "text": [
      "Moviepy - Writing video gifs/deblur_gan\\3_out.mp4\n",
      "\n"
     ]
    },
    {
     "name": "stderr",
     "output_type": "stream",
     "text": [
      "t: 100%|██████████| 2/2 [3:52:35<00:00,  2.95it/s, now=None]\n",
      "\n",
      "\n",
      "t: 100%|██████████| 2/2 [01:37<00:00,  6.96it/s, now=None]\n",
      "t: 100%|██████████| 2/2 [3:52:02<00:00,  6.58it/s, now=None]\n",
      "\n",
      "t: 100%|██████████| 2/2 [02:38<00:00,  6.35it/s, now=None]\n",
      "\n",
      "\n",
      "\n",
      "t: 100%|██████████| 2/2 [00:30<00:00,  7.61it/s, now=None]\n",
      "\n",
      "\n",
      "\n",
      "\n",
      "t:   0%|          | 0/2 [00:00<?, ?it/s, now=None]\n",
      "\n",
      "\n",
      "\n",
      "\n",
      "t: 100%|██████████| 2/2 [00:00<00:00,  6.86it/s, now=None]\n",
      "\n",
      "\n",
      "\n",
      "\n",
      "                                                            \n",
      "\n",
      "\n",
      "                                                          \n",
      "                                                            \n",
      "\n",
      "                                                          \n",
      "\n",
      "\n",
      "\n",
      "                                                          \r"
     ]
    },
    {
     "name": "stdout",
     "output_type": "stream",
     "text": [
      "Moviepy - Done !\n"
     ]
    },
    {
     "name": "stderr",
     "output_type": "stream",
     "text": [
      "t: 100%|██████████| 2/2 [3:52:35<00:00,  2.95it/s, now=None]\n",
      "\n",
      "\n",
      "t: 100%|██████████| 2/2 [01:37<00:00,  6.96it/s, now=None]\n",
      "t: 100%|██████████| 2/2 [3:52:02<00:00,  6.58it/s, now=None]\n",
      "\n",
      "t: 100%|██████████| 2/2 [02:38<00:00,  6.35it/s, now=None]\n",
      "\n",
      "\n",
      "\n",
      "                                                            \n",
      "\n",
      "\n",
      "                                                          \n",
      "                                                            \n",
      "\n",
      "                                                          \n",
      "\n",
      "\n",
      "\n",
      "                                                          \r"
     ]
    },
    {
     "name": "stdout",
     "output_type": "stream",
     "text": [
      "Moviepy - video ready gifs/deblur_gan\\3_out.mp4\n"
     ]
    },
    {
     "name": "stderr",
     "output_type": "stream",
     "text": [
      "t: 100%|██████████| 2/2 [3:52:35<00:00,  2.95it/s, now=None]\n",
      "\n",
      "\n",
      "t: 100%|██████████| 2/2 [01:37<00:00,  6.96it/s, now=None]\n",
      "t: 100%|██████████| 2/2 [3:52:02<00:00,  6.58it/s, now=None]\n",
      "\n",
      "t: 100%|██████████| 2/2 [02:38<00:00,  6.35it/s, now=None]\n",
      "\n",
      "\n",
      "\n",
      "                                                            \n",
      "\n",
      "\n",
      "                                                          \n",
      "                                                            \n",
      "\n",
      "                                                          \n",
      "\n",
      "\n",
      "\n",
      "                                                          \r"
     ]
    },
    {
     "name": "stdout",
     "output_type": "stream",
     "text": [
      "Moviepy - Building video gifs/wiener_deconv\\3_out.mp4.\n"
     ]
    },
    {
     "name": "stderr",
     "output_type": "stream",
     "text": [
      "t: 100%|██████████| 2/2 [3:52:35<00:00,  2.95it/s, now=None]\n",
      "\n",
      "\n",
      "t: 100%|██████████| 2/2 [01:37<00:00,  6.96it/s, now=None]\n",
      "t: 100%|██████████| 2/2 [3:52:02<00:00,  6.58it/s, now=None]\n",
      "\n",
      "t: 100%|██████████| 2/2 [02:38<00:00,  6.35it/s, now=None]\n",
      "\n",
      "\n",
      "\n",
      "                                                            \n",
      "\n",
      "\n",
      "                                                          \n",
      "                                                            \n",
      "\n",
      "                                                          \n",
      "\n",
      "\n",
      "\n",
      "                                                          \r"
     ]
    },
    {
     "name": "stdout",
     "output_type": "stream",
     "text": [
      "Moviepy - Writing video gifs/wiener_deconv\\3_out.mp4\n",
      "\n"
     ]
    },
    {
     "name": "stderr",
     "output_type": "stream",
     "text": [
      "t: 100%|██████████| 2/2 [3:52:35<00:00,  2.95it/s, now=None]\n",
      "\n",
      "\n",
      "t: 100%|██████████| 2/2 [01:37<00:00,  6.96it/s, now=None]\n",
      "t: 100%|██████████| 2/2 [3:52:02<00:00,  6.58it/s, now=None]\n",
      "\n",
      "t: 100%|██████████| 2/2 [02:38<00:00,  6.35it/s, now=None]\n",
      "\n",
      "\n",
      "\n",
      "t: 100%|██████████| 2/2 [00:30<00:00,  7.61it/s, now=None]\n",
      "\n",
      "\n",
      "\n",
      "\n",
      "t:   0%|          | 0/2 [00:00<?, ?it/s, now=None]\n",
      "\n",
      "\n",
      "\n",
      "\n",
      "t: 100%|██████████| 2/2 [00:00<00:00,  7.22it/s, now=None]\n",
      "\n",
      "\n",
      "\n",
      "\n",
      "                                                            \n",
      "\n",
      "\n",
      "                                                          \n",
      "                                                            \n",
      "\n",
      "                                                          \n",
      "\n",
      "\n",
      "\n",
      "                                                          \r"
     ]
    },
    {
     "name": "stdout",
     "output_type": "stream",
     "text": [
      "Moviepy - Done !\n"
     ]
    },
    {
     "name": "stderr",
     "output_type": "stream",
     "text": [
      "t: 100%|██████████| 2/2 [3:52:36<00:00,  2.95it/s, now=None]\n",
      "\n",
      "\n",
      "t: 100%|██████████| 2/2 [01:38<00:00,  6.96it/s, now=None]\n",
      "t: 100%|██████████| 2/2 [3:52:03<00:00,  6.58it/s, now=None]\n",
      "\n",
      "t: 100%|██████████| 2/2 [02:39<00:00,  6.35it/s, now=None]\n",
      "\n",
      "\n",
      "\n",
      "                                                            \n",
      "\n",
      "\n",
      "                                                          \n",
      "                                                            \n",
      "\n",
      "                                                          \n",
      "\n",
      "\n",
      "\n",
      "                                                          \r"
     ]
    },
    {
     "name": "stdout",
     "output_type": "stream",
     "text": [
      "Moviepy - video ready gifs/wiener_deconv\\3_out.mp4\n"
     ]
    },
    {
     "name": "stderr",
     "output_type": "stream",
     "text": [
      "t: 100%|██████████| 2/2 [3:52:36<00:00,  2.95it/s, now=None]\n",
      "\n",
      "\n",
      "t: 100%|██████████| 2/2 [01:38<00:00,  6.96it/s, now=None]\n",
      "t: 100%|██████████| 2/2 [3:52:03<00:00,  6.58it/s, now=None]\n",
      "\n",
      "t: 100%|██████████| 2/2 [02:39<00:00,  6.35it/s, now=None]\n",
      "\n",
      "\n",
      "\n",
      "                                                            \n",
      "\n",
      "\n",
      "                                                          \n",
      "                                                            \n",
      "\n",
      "                                                          \n",
      "\n",
      "\n",
      "\n",
      "                                                          \r"
     ]
    },
    {
     "name": "stdout",
     "output_type": "stream",
     "text": [
      "Moviepy - Building video gifs/blind_deconv\\4_out.mp4.\n"
     ]
    },
    {
     "name": "stderr",
     "output_type": "stream",
     "text": [
      "t: 100%|██████████| 2/2 [3:52:36<00:00,  2.95it/s, now=None]\n",
      "\n",
      "\n",
      "t: 100%|██████████| 2/2 [01:38<00:00,  6.96it/s, now=None]\n",
      "t: 100%|██████████| 2/2 [3:52:03<00:00,  6.58it/s, now=None]\n",
      "\n",
      "t: 100%|██████████| 2/2 [02:39<00:00,  6.35it/s, now=None]\n",
      "\n",
      "\n",
      "\n",
      "                                                            \n",
      "\n",
      "\n",
      "                                                          \n",
      "                                                            \n",
      "\n",
      "                                                          \n",
      "\n",
      "\n",
      "\n",
      "                                                          \r"
     ]
    },
    {
     "name": "stdout",
     "output_type": "stream",
     "text": [
      "Moviepy - Writing video gifs/blind_deconv\\4_out.mp4\n",
      "\n"
     ]
    },
    {
     "name": "stderr",
     "output_type": "stream",
     "text": [
      "t: 100%|██████████| 2/2 [3:52:36<00:00,  2.95it/s, now=None]\n",
      "\n",
      "\n",
      "t: 100%|██████████| 2/2 [01:38<00:00,  6.96it/s, now=None]\n",
      "t: 100%|██████████| 2/2 [3:52:03<00:00,  6.58it/s, now=None]\n",
      "\n",
      "t: 100%|██████████| 2/2 [02:39<00:00,  6.35it/s, now=None]\n",
      "\n",
      "\n",
      "\n",
      "t: 100%|██████████| 2/2 [00:31<00:00,  7.61it/s, now=None]\n",
      "\n",
      "\n",
      "\n",
      "\n",
      "t:   0%|          | 0/2 [00:00<?, ?it/s, now=None]\n",
      "\n",
      "\n",
      "\n",
      "\n",
      "t: 100%|██████████| 2/2 [00:00<00:00,  3.36it/s, now=None]\n",
      "\n",
      "\n",
      "\n",
      "\n",
      "                                                            \n",
      "\n",
      "\n",
      "                                                          \n",
      "                                                            \n",
      "\n",
      "                                                          \n",
      "\n",
      "\n",
      "\n",
      "                                                          \r"
     ]
    },
    {
     "name": "stdout",
     "output_type": "stream",
     "text": [
      "Moviepy - Done !\n"
     ]
    },
    {
     "name": "stderr",
     "output_type": "stream",
     "text": [
      "t: 100%|██████████| 2/2 [3:52:37<00:00,  2.95it/s, now=None]\n",
      "\n",
      "\n",
      "t: 100%|██████████| 2/2 [01:39<00:00,  6.96it/s, now=None]\n",
      "t: 100%|██████████| 2/2 [3:52:04<00:00,  6.58it/s, now=None]\n",
      "\n",
      "t: 100%|██████████| 2/2 [02:40<00:00,  6.35it/s, now=None]\n",
      "\n",
      "\n",
      "\n",
      "                                                            \n",
      "\n",
      "\n",
      "                                                          \n",
      "                                                            \n",
      "\n",
      "                                                          \n",
      "\n",
      "\n",
      "\n",
      "                                                          \r"
     ]
    },
    {
     "name": "stdout",
     "output_type": "stream",
     "text": [
      "Moviepy - video ready gifs/blind_deconv\\4_out.mp4\n"
     ]
    },
    {
     "name": "stderr",
     "output_type": "stream",
     "text": [
      "t: 100%|██████████| 2/2 [3:52:37<00:00,  2.95it/s, now=None]\n",
      "\n",
      "\n",
      "t: 100%|██████████| 2/2 [01:39<00:00,  6.96it/s, now=None]\n",
      "t: 100%|██████████| 2/2 [3:52:04<00:00,  6.58it/s, now=None]\n",
      "\n",
      "t: 100%|██████████| 2/2 [02:40<00:00,  6.35it/s, now=None]\n",
      "\n",
      "\n",
      "\n",
      "                                                            \n",
      "\n",
      "\n",
      "                                                          \n",
      "                                                            \n",
      "\n",
      "                                                          \n",
      "\n",
      "\n",
      "\n",
      "                                                          \r"
     ]
    },
    {
     "name": "stdout",
     "output_type": "stream",
     "text": [
      "Moviepy - Building video gifs/deblur_gan\\4_out.mp4.\n"
     ]
    },
    {
     "name": "stderr",
     "output_type": "stream",
     "text": [
      "t: 100%|██████████| 2/2 [3:52:37<00:00,  2.95it/s, now=None]\n",
      "\n",
      "\n",
      "t: 100%|██████████| 2/2 [01:39<00:00,  6.96it/s, now=None]\n",
      "t: 100%|██████████| 2/2 [3:52:04<00:00,  6.58it/s, now=None]\n",
      "\n",
      "t: 100%|██████████| 2/2 [02:40<00:00,  6.35it/s, now=None]\n",
      "\n",
      "\n",
      "\n",
      "                                                            \n",
      "\n",
      "\n",
      "                                                          \n",
      "                                                            \n",
      "\n",
      "                                                          \n",
      "\n",
      "\n",
      "\n",
      "                                                          \r"
     ]
    },
    {
     "name": "stdout",
     "output_type": "stream",
     "text": [
      "Moviepy - Writing video gifs/deblur_gan\\4_out.mp4\n",
      "\n"
     ]
    },
    {
     "name": "stderr",
     "output_type": "stream",
     "text": [
      "t: 100%|██████████| 2/2 [3:52:37<00:00,  2.95it/s, now=None]\n",
      "\n",
      "\n",
      "t: 100%|██████████| 2/2 [01:39<00:00,  6.96it/s, now=None]\n",
      "t: 100%|██████████| 2/2 [3:52:04<00:00,  6.58it/s, now=None]\n",
      "\n",
      "t: 100%|██████████| 2/2 [02:40<00:00,  6.35it/s, now=None]\n",
      "\n",
      "\n",
      "\n",
      "t: 100%|██████████| 2/2 [00:32<00:00,  7.61it/s, now=None]\n",
      "\n",
      "\n",
      "\n",
      "\n",
      "t:   0%|          | 0/2 [00:00<?, ?it/s, now=None]\n",
      "\n",
      "\n",
      "\n",
      "\n",
      "t: 100%|██████████| 2/2 [00:00<00:00,  4.96it/s, now=None]\n",
      "\n",
      "\n",
      "\n",
      "\n",
      "                                                            \n",
      "\n",
      "\n",
      "                                                          \n",
      "                                                            \n",
      "\n",
      "                                                          \n",
      "\n",
      "\n",
      "\n",
      "                                                          \r"
     ]
    },
    {
     "name": "stdout",
     "output_type": "stream",
     "text": [
      "Moviepy - Done !\n"
     ]
    },
    {
     "name": "stderr",
     "output_type": "stream",
     "text": [
      "t: 100%|██████████| 2/2 [3:52:38<00:00,  2.95it/s, now=None]\n",
      "\n",
      "\n",
      "t: 100%|██████████| 2/2 [01:40<00:00,  6.96it/s, now=None]\n",
      "t: 100%|██████████| 2/2 [3:52:05<00:00,  6.58it/s, now=None]\n",
      "\n",
      "t: 100%|██████████| 2/2 [02:41<00:00,  6.35it/s, now=None]\n",
      "\n",
      "\n",
      "\n",
      "                                                            \n",
      "\n",
      "\n",
      "                                                          \n",
      "                                                            \n",
      "\n",
      "                                                          \n",
      "\n",
      "\n",
      "\n",
      "                                                          \r"
     ]
    },
    {
     "name": "stdout",
     "output_type": "stream",
     "text": [
      "Moviepy - video ready gifs/deblur_gan\\4_out.mp4\n"
     ]
    },
    {
     "name": "stderr",
     "output_type": "stream",
     "text": [
      "t: 100%|██████████| 2/2 [3:52:38<00:00,  2.95it/s, now=None]\n",
      "\n",
      "\n",
      "t: 100%|██████████| 2/2 [01:40<00:00,  6.96it/s, now=None]\n",
      "t: 100%|██████████| 2/2 [3:52:05<00:00,  6.58it/s, now=None]\n",
      "\n",
      "t: 100%|██████████| 2/2 [02:41<00:00,  6.35it/s, now=None]\n",
      "\n",
      "\n",
      "\n",
      "                                                            \n",
      "\n",
      "\n",
      "                                                          \n",
      "                                                            \n",
      "\n",
      "                                                          \n",
      "\n",
      "\n",
      "\n",
      "                                                          \r"
     ]
    },
    {
     "name": "stdout",
     "output_type": "stream",
     "text": [
      "Moviepy - Building video gifs/wiener_deconv\\4_out.mp4.\n"
     ]
    },
    {
     "name": "stderr",
     "output_type": "stream",
     "text": [
      "t: 100%|██████████| 2/2 [3:52:38<00:00,  2.95it/s, now=None]\n",
      "\n",
      "\n",
      "t: 100%|██████████| 2/2 [01:40<00:00,  6.96it/s, now=None]\n",
      "t: 100%|██████████| 2/2 [3:52:05<00:00,  6.58it/s, now=None]\n",
      "\n",
      "t: 100%|██████████| 2/2 [02:41<00:00,  6.35it/s, now=None]\n",
      "\n",
      "\n",
      "\n",
      "                                                            \n",
      "\n",
      "\n",
      "                                                          \n",
      "                                                            \n",
      "\n",
      "                                                          \n",
      "\n",
      "\n",
      "\n",
      "                                                          \r"
     ]
    },
    {
     "name": "stdout",
     "output_type": "stream",
     "text": [
      "Moviepy - Writing video gifs/wiener_deconv\\4_out.mp4\n",
      "\n"
     ]
    },
    {
     "name": "stderr",
     "output_type": "stream",
     "text": [
      "t: 100%|██████████| 2/2 [3:52:38<00:00,  2.95it/s, now=None]\n",
      "\n",
      "\n",
      "t: 100%|██████████| 2/2 [01:40<00:00,  6.96it/s, now=None]\n",
      "t: 100%|██████████| 2/2 [3:52:05<00:00,  6.58it/s, now=None]\n",
      "\n",
      "t: 100%|██████████| 2/2 [02:41<00:00,  6.35it/s, now=None]\n",
      "\n",
      "\n",
      "\n",
      "t: 100%|██████████| 2/2 [00:33<00:00,  7.61it/s, now=None]\n",
      "\n",
      "\n",
      "\n",
      "\n",
      "t:   0%|          | 0/2 [00:00<?, ?it/s, now=None]\n",
      "\n",
      "\n",
      "\n",
      "\n",
      "t: 100%|██████████| 2/2 [00:00<00:00,  7.04it/s, now=None]\n",
      "\n",
      "\n",
      "\n",
      "\n",
      "                                                            \n",
      "\n",
      "\n",
      "                                                          \n",
      "                                                            \n",
      "\n",
      "                                                          \n",
      "\n",
      "\n",
      "\n",
      "                                                          \r"
     ]
    },
    {
     "name": "stdout",
     "output_type": "stream",
     "text": [
      "Moviepy - Done !\n"
     ]
    },
    {
     "name": "stderr",
     "output_type": "stream",
     "text": [
      "t: 100%|██████████| 2/2 [3:52:38<00:00,  2.95it/s, now=None]\n",
      "\n",
      "\n",
      "t: 100%|██████████| 2/2 [01:40<00:00,  6.96it/s, now=None]\n",
      "t: 100%|██████████| 2/2 [3:52:05<00:00,  6.58it/s, now=None]\n",
      "\n",
      "t: 100%|██████████| 2/2 [02:41<00:00,  6.35it/s, now=None]\n",
      "\n",
      "\n",
      "\n",
      "                                                            \n",
      "\n",
      "\n",
      "                                                          \n",
      "                                                            \n",
      "\n",
      "                                                          \n",
      "\n",
      "\n",
      "\n",
      "                                                          \r"
     ]
    },
    {
     "name": "stdout",
     "output_type": "stream",
     "text": [
      "Moviepy - video ready gifs/wiener_deconv\\4_out.mp4\n"
     ]
    },
    {
     "name": "stderr",
     "output_type": "stream",
     "text": [
      "t: 100%|██████████| 2/2 [3:52:38<00:00,  2.95it/s, now=None]\n",
      "\n",
      "\n",
      "t: 100%|██████████| 2/2 [01:40<00:00,  6.96it/s, now=None]\n",
      "t: 100%|██████████| 2/2 [3:52:05<00:00,  6.58it/s, now=None]\n",
      "\n",
      "t: 100%|██████████| 2/2 [02:41<00:00,  6.35it/s, now=None]\n",
      "\n",
      "\n",
      "\n",
      "                                                            \n",
      "\n",
      "\n",
      "                                                          \n",
      "                                                            \n",
      "\n",
      "                                                          \n",
      "\n",
      "\n",
      "\n",
      "                                                          \r"
     ]
    },
    {
     "name": "stdout",
     "output_type": "stream",
     "text": [
      "Moviepy - Building video gifs/blind_deconv\\5_out.mp4.\n"
     ]
    },
    {
     "name": "stderr",
     "output_type": "stream",
     "text": [
      "t: 100%|██████████| 2/2 [3:52:38<00:00,  2.95it/s, now=None]\n",
      "\n",
      "\n",
      "t: 100%|██████████| 2/2 [01:40<00:00,  6.96it/s, now=None]\n",
      "t: 100%|██████████| 2/2 [3:52:06<00:00,  6.58it/s, now=None]\n",
      "\n",
      "t: 100%|██████████| 2/2 [02:41<00:00,  6.35it/s, now=None]\n",
      "\n",
      "\n",
      "\n",
      "                                                            \n",
      "\n",
      "\n",
      "                                                          \n",
      "                                                            \n",
      "\n",
      "                                                          \n",
      "\n",
      "\n",
      "\n",
      "                                                          \r"
     ]
    },
    {
     "name": "stdout",
     "output_type": "stream",
     "text": [
      "Moviepy - Writing video gifs/blind_deconv\\5_out.mp4\n",
      "\n"
     ]
    },
    {
     "name": "stderr",
     "output_type": "stream",
     "text": [
      "t: 100%|██████████| 2/2 [3:52:38<00:00,  2.95it/s, now=None]\n",
      "\n",
      "\n",
      "t: 100%|██████████| 2/2 [01:40<00:00,  6.96it/s, now=None]\n",
      "t: 100%|██████████| 2/2 [3:52:06<00:00,  6.58it/s, now=None]\n",
      "\n",
      "t: 100%|██████████| 2/2 [02:41<00:00,  6.35it/s, now=None]\n",
      "\n",
      "\n",
      "\n",
      "t: 100%|██████████| 2/2 [00:33<00:00,  7.61it/s, now=None]\n",
      "\n",
      "\n",
      "\n",
      "\n",
      "t:   0%|          | 0/2 [00:00<?, ?it/s, now=None]\n",
      "\n",
      "\n",
      "\n",
      "\n",
      "t: 100%|██████████| 2/2 [00:00<00:00,  7.10it/s, now=None]\n",
      "\n",
      "\n",
      "\n",
      "\n",
      "                                                            \n",
      "\n",
      "\n",
      "                                                          \n",
      "                                                            \n",
      "\n",
      "                                                          \n",
      "\n",
      "\n",
      "\n",
      "                                                          \r"
     ]
    },
    {
     "name": "stdout",
     "output_type": "stream",
     "text": [
      "Moviepy - Done !\n"
     ]
    },
    {
     "name": "stderr",
     "output_type": "stream",
     "text": [
      "t: 100%|██████████| 2/2 [3:52:39<00:00,  2.95it/s, now=None]\n",
      "\n",
      "\n",
      "t: 100%|██████████| 2/2 [01:41<00:00,  6.96it/s, now=None]\n",
      "t: 100%|██████████| 2/2 [3:52:06<00:00,  6.58it/s, now=None]\n",
      "\n",
      "t: 100%|██████████| 2/2 [02:42<00:00,  6.35it/s, now=None]\n",
      "\n",
      "\n",
      "\n",
      "                                                            \n",
      "\n",
      "\n",
      "                                                          \n",
      "                                                            \n",
      "\n",
      "                                                          \n",
      "\n",
      "\n",
      "\n",
      "                                                          \r"
     ]
    },
    {
     "name": "stdout",
     "output_type": "stream",
     "text": [
      "Moviepy - video ready gifs/blind_deconv\\5_out.mp4\n"
     ]
    },
    {
     "name": "stderr",
     "output_type": "stream",
     "text": [
      "t: 100%|██████████| 2/2 [3:52:39<00:00,  2.95it/s, now=None]\n",
      "\n",
      "\n",
      "t: 100%|██████████| 2/2 [01:41<00:00,  6.96it/s, now=None]\n",
      "t: 100%|██████████| 2/2 [3:52:06<00:00,  6.58it/s, now=None]\n",
      "\n",
      "t: 100%|██████████| 2/2 [02:42<00:00,  6.35it/s, now=None]\n",
      "\n",
      "\n",
      "\n",
      "                                                            \n",
      "\n",
      "\n",
      "                                                          \n",
      "                                                            \n",
      "\n",
      "                                                          \n",
      "\n",
      "\n",
      "\n",
      "                                                          \r"
     ]
    },
    {
     "name": "stdout",
     "output_type": "stream",
     "text": [
      "Moviepy - Building video gifs/deblur_gan\\5_out.mp4.\n"
     ]
    },
    {
     "name": "stderr",
     "output_type": "stream",
     "text": [
      "t: 100%|██████████| 2/2 [3:52:39<00:00,  2.95it/s, now=None]\n",
      "\n",
      "\n",
      "t: 100%|██████████| 2/2 [01:41<00:00,  6.96it/s, now=None]\n",
      "t: 100%|██████████| 2/2 [3:52:06<00:00,  6.58it/s, now=None]\n",
      "\n",
      "t: 100%|██████████| 2/2 [02:42<00:00,  6.35it/s, now=None]\n",
      "\n",
      "\n",
      "\n",
      "                                                            \n",
      "\n",
      "\n",
      "                                                          \n",
      "                                                            \n",
      "\n",
      "                                                          \n",
      "\n",
      "\n",
      "\n",
      "                                                          \r"
     ]
    },
    {
     "name": "stdout",
     "output_type": "stream",
     "text": [
      "Moviepy - Writing video gifs/deblur_gan\\5_out.mp4\n",
      "\n"
     ]
    },
    {
     "name": "stderr",
     "output_type": "stream",
     "text": [
      "t: 100%|██████████| 2/2 [3:52:39<00:00,  2.95it/s, now=None]\n",
      "\n",
      "\n",
      "t: 100%|██████████| 2/2 [01:41<00:00,  6.96it/s, now=None]\n",
      "t: 100%|██████████| 2/2 [3:52:06<00:00,  6.58it/s, now=None]\n",
      "\n",
      "t: 100%|██████████| 2/2 [02:42<00:00,  6.35it/s, now=None]\n",
      "\n",
      "\n",
      "\n",
      "t: 100%|██████████| 2/2 [00:34<00:00,  7.61it/s, now=None]\n",
      "\n",
      "\n",
      "\n",
      "\n",
      "t:   0%|          | 0/2 [00:00<?, ?it/s, now=None]\n",
      "\n",
      "\n",
      "\n",
      "\n",
      "t: 100%|██████████| 2/2 [00:00<00:00,  6.08it/s, now=None]\n",
      "\n",
      "\n",
      "\n",
      "\n",
      "                                                            \n",
      "\n",
      "\n",
      "                                                          \n",
      "                                                            \n",
      "\n",
      "                                                          \n",
      "\n",
      "\n",
      "\n",
      "                                                          \r"
     ]
    },
    {
     "name": "stdout",
     "output_type": "stream",
     "text": [
      "Moviepy - Done !\n"
     ]
    },
    {
     "name": "stderr",
     "output_type": "stream",
     "text": [
      "t: 100%|██████████| 2/2 [3:52:40<00:00,  2.95it/s, now=None]\n",
      "\n",
      "\n",
      "t: 100%|██████████| 2/2 [01:42<00:00,  6.96it/s, now=None]\n",
      "t: 100%|██████████| 2/2 [3:52:07<00:00,  6.58it/s, now=None]\n",
      "\n",
      "t: 100%|██████████| 2/2 [02:43<00:00,  6.35it/s, now=None]\n",
      "\n",
      "\n",
      "\n",
      "                                                            \n",
      "\n",
      "\n",
      "                                                          \n",
      "                                                            \n",
      "\n",
      "                                                          \n",
      "\n",
      "\n",
      "\n",
      "                                                          \r"
     ]
    },
    {
     "name": "stdout",
     "output_type": "stream",
     "text": [
      "Moviepy - video ready gifs/deblur_gan\\5_out.mp4\n"
     ]
    },
    {
     "name": "stderr",
     "output_type": "stream",
     "text": [
      "t: 100%|██████████| 2/2 [3:52:40<00:00,  2.95it/s, now=None]\n",
      "\n",
      "\n",
      "t: 100%|██████████| 2/2 [01:42<00:00,  6.96it/s, now=None]\n",
      "t: 100%|██████████| 2/2 [3:52:07<00:00,  6.58it/s, now=None]\n",
      "\n",
      "t: 100%|██████████| 2/2 [02:43<00:00,  6.35it/s, now=None]\n",
      "\n",
      "\n",
      "\n",
      "                                                            \n",
      "\n",
      "\n",
      "                                                          \n",
      "                                                            \n",
      "\n",
      "                                                          \n",
      "\n",
      "\n",
      "\n",
      "                                                          \r"
     ]
    },
    {
     "name": "stdout",
     "output_type": "stream",
     "text": [
      "Moviepy - Building video gifs/wiener_deconv\\5_out.mp4.\n"
     ]
    },
    {
     "name": "stderr",
     "output_type": "stream",
     "text": [
      "t: 100%|██████████| 2/2 [3:52:40<00:00,  2.95it/s, now=None]\n",
      "\n",
      "\n",
      "t: 100%|██████████| 2/2 [01:42<00:00,  6.96it/s, now=None]\n",
      "t: 100%|██████████| 2/2 [3:52:07<00:00,  6.58it/s, now=None]\n",
      "\n",
      "t: 100%|██████████| 2/2 [02:43<00:00,  6.35it/s, now=None]\n",
      "\n",
      "\n",
      "\n",
      "                                                            \n",
      "\n",
      "\n",
      "                                                          \n",
      "                                                            \n",
      "\n",
      "                                                          \n",
      "\n",
      "\n",
      "\n",
      "                                                          \r"
     ]
    },
    {
     "name": "stdout",
     "output_type": "stream",
     "text": [
      "Moviepy - Writing video gifs/wiener_deconv\\5_out.mp4\n",
      "\n"
     ]
    },
    {
     "name": "stderr",
     "output_type": "stream",
     "text": [
      "t: 100%|██████████| 2/2 [3:52:40<00:00,  2.95it/s, now=None]\n",
      "\n",
      "\n",
      "t: 100%|██████████| 2/2 [01:42<00:00,  6.96it/s, now=None]\n",
      "t: 100%|██████████| 2/2 [3:52:07<00:00,  6.58it/s, now=None]\n",
      "\n",
      "t: 100%|██████████| 2/2 [02:43<00:00,  6.35it/s, now=None]\n",
      "\n",
      "\n",
      "\n",
      "t: 100%|██████████| 2/2 [00:35<00:00,  7.61it/s, now=None]\n",
      "\n",
      "\n",
      "\n",
      "\n",
      "t:   0%|          | 0/2 [00:00<?, ?it/s, now=None]\n",
      "\n",
      "\n",
      "\n",
      "\n",
      "t: 100%|██████████| 2/2 [00:00<00:00,  7.41it/s, now=None]\n",
      "\n",
      "\n",
      "\n",
      "\n",
      "                                                            \n",
      "\n",
      "\n",
      "                                                          \n",
      "                                                            \n",
      "\n",
      "                                                          \n",
      "\n",
      "\n",
      "\n",
      "                                                          \r"
     ]
    },
    {
     "name": "stdout",
     "output_type": "stream",
     "text": [
      "Moviepy - Done !\n"
     ]
    },
    {
     "name": "stderr",
     "output_type": "stream",
     "text": [
      "t: 100%|██████████| 2/2 [3:52:40<00:00,  2.95it/s, now=None]\n",
      "\n",
      "\n",
      "t: 100%|██████████| 2/2 [01:42<00:00,  6.96it/s, now=None]\n",
      "t: 100%|██████████| 2/2 [3:52:07<00:00,  6.58it/s, now=None]\n",
      "\n",
      "t: 100%|██████████| 2/2 [02:43<00:00,  6.35it/s, now=None]\n",
      "\n",
      "\n",
      "\n",
      "                                                            \n",
      "\n",
      "\n",
      "                                                          \n",
      "                                                            \n",
      "\n",
      "                                                          \n",
      "\n",
      "\n",
      "\n",
      "                                                          \r"
     ]
    },
    {
     "name": "stdout",
     "output_type": "stream",
     "text": [
      "Moviepy - video ready gifs/wiener_deconv\\5_out.mp4\n"
     ]
    },
    {
     "name": "stderr",
     "output_type": "stream",
     "text": [
      "t: 100%|██████████| 2/2 [3:52:40<00:00,  2.95it/s, now=None]\n",
      "\n",
      "\n",
      "t: 100%|██████████| 2/2 [01:42<00:00,  6.96it/s, now=None]\n",
      "t: 100%|██████████| 2/2 [3:52:07<00:00,  6.58it/s, now=None]\n",
      "\n",
      "t: 100%|██████████| 2/2 [02:43<00:00,  6.35it/s, now=None]\n",
      "\n",
      "\n",
      "\n",
      "                                                            \n",
      "\n",
      "\n",
      "                                                          \n",
      "                                                            \n",
      "\n",
      "                                                          \n",
      "\n",
      "\n",
      "\n",
      "                                                          \r"
     ]
    },
    {
     "name": "stdout",
     "output_type": "stream",
     "text": [
      "Moviepy - Building video gifs/blind_deconv\\6_out.mp4.\n"
     ]
    },
    {
     "name": "stderr",
     "output_type": "stream",
     "text": [
      "t: 100%|██████████| 2/2 [3:52:40<00:00,  2.95it/s, now=None]\n",
      "\n",
      "\n",
      "t: 100%|██████████| 2/2 [01:42<00:00,  6.96it/s, now=None]\n",
      "t: 100%|██████████| 2/2 [3:52:08<00:00,  6.58it/s, now=None]\n",
      "\n",
      "t: 100%|██████████| 2/2 [02:43<00:00,  6.35it/s, now=None]\n",
      "\n",
      "\n",
      "\n",
      "                                                            \n",
      "\n",
      "\n",
      "                                                          \n",
      "                                                            \n",
      "\n",
      "                                                          \n",
      "\n",
      "\n",
      "\n",
      "                                                          \r"
     ]
    },
    {
     "name": "stdout",
     "output_type": "stream",
     "text": [
      "Moviepy - Writing video gifs/blind_deconv\\6_out.mp4\n",
      "\n"
     ]
    },
    {
     "name": "stderr",
     "output_type": "stream",
     "text": [
      "t: 100%|██████████| 2/2 [3:52:40<00:00,  2.95it/s, now=None]\n",
      "\n",
      "\n",
      "t: 100%|██████████| 2/2 [01:42<00:00,  6.96it/s, now=None]\n",
      "t: 100%|██████████| 2/2 [3:52:08<00:00,  6.58it/s, now=None]\n",
      "\n",
      "t: 100%|██████████| 2/2 [02:43<00:00,  6.35it/s, now=None]\n",
      "\n",
      "\n",
      "\n",
      "t: 100%|██████████| 2/2 [00:35<00:00,  7.61it/s, now=None]\n",
      "\n",
      "\n",
      "\n",
      "\n",
      "t:   0%|          | 0/2 [00:00<?, ?it/s, now=None]\n",
      "\n",
      "\n",
      "\n",
      "\n",
      "t: 100%|██████████| 2/2 [00:00<00:00,  7.47it/s, now=None]\n",
      "\n",
      "\n",
      "\n",
      "\n",
      "                                                            \n",
      "\n",
      "\n",
      "                                                          \n",
      "                                                            \n",
      "\n",
      "                                                          \n",
      "\n",
      "\n",
      "\n",
      "                                                          \r"
     ]
    },
    {
     "name": "stdout",
     "output_type": "stream",
     "text": [
      "Moviepy - Done !\n"
     ]
    },
    {
     "name": "stderr",
     "output_type": "stream",
     "text": [
      "t: 100%|██████████| 2/2 [3:52:41<00:00,  2.95it/s, now=None]\n",
      "\n",
      "\n",
      "t: 100%|██████████| 2/2 [01:43<00:00,  6.96it/s, now=None]\n",
      "t: 100%|██████████| 2/2 [3:52:08<00:00,  6.58it/s, now=None]\n",
      "\n",
      "t: 100%|██████████| 2/2 [02:44<00:00,  6.35it/s, now=None]\n",
      "\n",
      "\n",
      "\n",
      "                                                            \n",
      "\n",
      "\n",
      "                                                          \n",
      "                                                            \n",
      "\n",
      "                                                          \n",
      "\n",
      "\n",
      "\n",
      "                                                          \r"
     ]
    },
    {
     "name": "stdout",
     "output_type": "stream",
     "text": [
      "Moviepy - video ready gifs/blind_deconv\\6_out.mp4\n"
     ]
    },
    {
     "name": "stderr",
     "output_type": "stream",
     "text": [
      "t: 100%|██████████| 2/2 [3:52:41<00:00,  2.95it/s, now=None]\n",
      "\n",
      "\n",
      "t: 100%|██████████| 2/2 [01:43<00:00,  6.96it/s, now=None]\n",
      "t: 100%|██████████| 2/2 [3:52:08<00:00,  6.58it/s, now=None]\n",
      "\n",
      "t: 100%|██████████| 2/2 [02:44<00:00,  6.35it/s, now=None]\n",
      "\n",
      "\n",
      "\n",
      "                                                            \n",
      "\n",
      "\n",
      "                                                          \n",
      "                                                            \n",
      "\n",
      "                                                          \n",
      "\n",
      "\n",
      "\n",
      "                                                          \r"
     ]
    },
    {
     "name": "stdout",
     "output_type": "stream",
     "text": [
      "Moviepy - Building video gifs/deblur_gan\\6_out.mp4.\n"
     ]
    },
    {
     "name": "stderr",
     "output_type": "stream",
     "text": [
      "t: 100%|██████████| 2/2 [3:52:41<00:00,  2.95it/s, now=None]\n",
      "\n",
      "\n",
      "t: 100%|██████████| 2/2 [01:43<00:00,  6.96it/s, now=None]\n",
      "t: 100%|██████████| 2/2 [3:52:08<00:00,  6.58it/s, now=None]\n",
      "\n",
      "t: 100%|██████████| 2/2 [02:44<00:00,  6.35it/s, now=None]\n",
      "\n",
      "\n",
      "\n",
      "                                                            \n",
      "\n",
      "\n",
      "                                                          \n",
      "                                                            \n",
      "\n",
      "                                                          \n",
      "\n",
      "\n",
      "\n",
      "                                                          \r"
     ]
    },
    {
     "name": "stdout",
     "output_type": "stream",
     "text": [
      "Moviepy - Writing video gifs/deblur_gan\\6_out.mp4\n",
      "\n"
     ]
    },
    {
     "name": "stderr",
     "output_type": "stream",
     "text": [
      "t: 100%|██████████| 2/2 [3:52:41<00:00,  2.95it/s, now=None]\n",
      "\n",
      "\n",
      "t: 100%|██████████| 2/2 [01:43<00:00,  6.96it/s, now=None]\n",
      "t: 100%|██████████| 2/2 [3:52:08<00:00,  6.58it/s, now=None]\n",
      "\n",
      "t: 100%|██████████| 2/2 [02:44<00:00,  6.35it/s, now=None]\n",
      "\n",
      "\n",
      "\n",
      "t: 100%|██████████| 2/2 [00:36<00:00,  7.61it/s, now=None]\n",
      "\n",
      "\n",
      "\n",
      "\n",
      "t:   0%|          | 0/2 [00:00<?, ?it/s, now=None]\n",
      "\n",
      "\n",
      "\n",
      "\n",
      "t: 100%|██████████| 2/2 [00:00<00:00,  5.52it/s, now=None]\n",
      "\n",
      "\n",
      "\n",
      "\n",
      "                                                            \n",
      "\n",
      "\n",
      "                                                          \n",
      "                                                            \n",
      "\n",
      "                                                          \n",
      "\n",
      "\n",
      "\n",
      "                                                          \r"
     ]
    },
    {
     "name": "stdout",
     "output_type": "stream",
     "text": [
      "Moviepy - Done !\n"
     ]
    },
    {
     "name": "stderr",
     "output_type": "stream",
     "text": [
      "t: 100%|██████████| 2/2 [3:52:42<00:00,  2.95it/s, now=None]\n",
      "\n",
      "\n",
      "t: 100%|██████████| 2/2 [01:43<00:00,  6.96it/s, now=None]\n",
      "t: 100%|██████████| 2/2 [3:52:09<00:00,  6.58it/s, now=None]\n",
      "\n",
      "t: 100%|██████████| 2/2 [02:45<00:00,  6.35it/s, now=None]\n",
      "\n",
      "\n",
      "\n",
      "                                                            \n",
      "\n",
      "\n",
      "                                                          \n",
      "                                                            \n",
      "\n",
      "                                                          \n",
      "\n",
      "\n",
      "\n",
      "                                                          \r"
     ]
    },
    {
     "name": "stdout",
     "output_type": "stream",
     "text": [
      "Moviepy - video ready gifs/deblur_gan\\6_out.mp4\n"
     ]
    },
    {
     "name": "stderr",
     "output_type": "stream",
     "text": [
      "t: 100%|██████████| 2/2 [3:52:42<00:00,  2.95it/s, now=None]\n",
      "\n",
      "\n",
      "t: 100%|██████████| 2/2 [01:43<00:00,  6.96it/s, now=None]\n",
      "t: 100%|██████████| 2/2 [3:52:09<00:00,  6.58it/s, now=None]\n",
      "\n",
      "t: 100%|██████████| 2/2 [02:45<00:00,  6.35it/s, now=None]\n",
      "\n",
      "\n",
      "\n",
      "                                                            \n",
      "\n",
      "\n",
      "                                                          \n",
      "                                                            \n",
      "\n",
      "                                                          \n",
      "\n",
      "\n",
      "\n",
      "                                                          \r"
     ]
    },
    {
     "name": "stdout",
     "output_type": "stream",
     "text": [
      "Moviepy - Building video gifs/wiener_deconv\\6_out.mp4.\n"
     ]
    },
    {
     "name": "stderr",
     "output_type": "stream",
     "text": [
      "t: 100%|██████████| 2/2 [3:52:42<00:00,  2.95it/s, now=None]\n",
      "\n",
      "\n",
      "t: 100%|██████████| 2/2 [01:43<00:00,  6.96it/s, now=None]\n",
      "t: 100%|██████████| 2/2 [3:52:09<00:00,  6.58it/s, now=None]\n",
      "\n",
      "t: 100%|██████████| 2/2 [02:45<00:00,  6.35it/s, now=None]\n",
      "\n",
      "\n",
      "\n",
      "                                                            \n",
      "\n",
      "\n",
      "                                                          \n",
      "                                                            \n",
      "\n",
      "                                                          \n",
      "\n",
      "\n",
      "\n",
      "                                                          \r"
     ]
    },
    {
     "name": "stdout",
     "output_type": "stream",
     "text": [
      "Moviepy - Writing video gifs/wiener_deconv\\6_out.mp4\n",
      "\n"
     ]
    },
    {
     "name": "stderr",
     "output_type": "stream",
     "text": [
      "t: 100%|██████████| 2/2 [3:52:42<00:00,  2.95it/s, now=None]\n",
      "\n",
      "\n",
      "t: 100%|██████████| 2/2 [01:43<00:00,  6.96it/s, now=None]\n",
      "t: 100%|██████████| 2/2 [3:52:09<00:00,  6.58it/s, now=None]\n",
      "\n",
      "t: 100%|██████████| 2/2 [02:45<00:00,  6.35it/s, now=None]\n",
      "\n",
      "\n",
      "\n",
      "t: 100%|██████████| 2/2 [00:37<00:00,  7.61it/s, now=None]\n",
      "\n",
      "\n",
      "\n",
      "\n",
      "t:   0%|          | 0/2 [00:00<?, ?it/s, now=None]\n",
      "\n",
      "\n",
      "\n",
      "\n",
      "t: 100%|██████████| 2/2 [00:00<00:00,  7.23it/s, now=None]\n",
      "\n",
      "\n",
      "\n",
      "\n",
      "                                                            \n",
      "\n",
      "\n",
      "                                                          \n",
      "                                                            \n",
      "\n",
      "                                                          \n",
      "\n",
      "\n",
      "\n",
      "                                                          \r"
     ]
    },
    {
     "name": "stdout",
     "output_type": "stream",
     "text": [
      "Moviepy - Done !\n"
     ]
    },
    {
     "name": "stderr",
     "output_type": "stream",
     "text": [
      "t: 100%|██████████| 2/2 [3:52:42<00:00,  2.95it/s, now=None]\n",
      "\n",
      "\n",
      "t: 100%|██████████| 2/2 [01:44<00:00,  6.96it/s, now=None]\n",
      "t: 100%|██████████| 2/2 [3:52:09<00:00,  6.58it/s, now=None]\n",
      "\n",
      "t: 100%|██████████| 2/2 [02:45<00:00,  6.35it/s, now=None]\n",
      "\n",
      "\n",
      "\n",
      "                                                            \n",
      "\n",
      "\n",
      "                                                          \n",
      "                                                            \n",
      "\n",
      "                                                          \n",
      "\n",
      "\n",
      "\n",
      "                                                          \r"
     ]
    },
    {
     "name": "stdout",
     "output_type": "stream",
     "text": [
      "Moviepy - video ready gifs/wiener_deconv\\6_out.mp4\n"
     ]
    },
    {
     "name": "stderr",
     "output_type": "stream",
     "text": [
      "t: 100%|██████████| 2/2 [3:52:42<00:00,  2.95it/s, now=None]\n",
      "\n",
      "\n",
      "t: 100%|██████████| 2/2 [01:44<00:00,  6.96it/s, now=None]\n",
      "t: 100%|██████████| 2/2 [3:52:09<00:00,  6.58it/s, now=None]\n",
      "\n",
      "t: 100%|██████████| 2/2 [02:45<00:00,  6.35it/s, now=None]\n",
      "\n",
      "\n",
      "\n",
      "                                                            \n",
      "\n",
      "\n",
      "                                                          \n",
      "                                                            \n",
      "\n",
      "                                                          \n",
      "\n",
      "\n",
      "\n",
      "                                                          \r"
     ]
    },
    {
     "name": "stdout",
     "output_type": "stream",
     "text": [
      "Moviepy - Building video gifs/blind_deconv\\7_out.mp4.\n"
     ]
    },
    {
     "name": "stderr",
     "output_type": "stream",
     "text": [
      "t: 100%|██████████| 2/2 [3:52:42<00:00,  2.95it/s, now=None]\n",
      "\n",
      "\n",
      "t: 100%|██████████| 2/2 [01:44<00:00,  6.96it/s, now=None]\n",
      "t: 100%|██████████| 2/2 [3:52:10<00:00,  6.58it/s, now=None]\n",
      "\n",
      "t: 100%|██████████| 2/2 [02:45<00:00,  6.35it/s, now=None]\n",
      "\n",
      "\n",
      "\n",
      "                                                            \n",
      "\n",
      "\n",
      "                                                          \n",
      "                                                            \n",
      "\n",
      "                                                          \n",
      "\n",
      "\n",
      "\n",
      "                                                          \r"
     ]
    },
    {
     "name": "stdout",
     "output_type": "stream",
     "text": [
      "Moviepy - Writing video gifs/blind_deconv\\7_out.mp4\n",
      "\n"
     ]
    },
    {
     "name": "stderr",
     "output_type": "stream",
     "text": [
      "t: 100%|██████████| 2/2 [3:52:42<00:00,  2.95it/s, now=None]\n",
      "\n",
      "\n",
      "t: 100%|██████████| 2/2 [01:44<00:00,  6.96it/s, now=None]\n",
      "t: 100%|██████████| 2/2 [3:52:10<00:00,  6.58it/s, now=None]\n",
      "\n",
      "t: 100%|██████████| 2/2 [02:45<00:00,  6.35it/s, now=None]\n",
      "\n",
      "\n",
      "\n",
      "t: 100%|██████████| 2/2 [00:37<00:00,  7.61it/s, now=None]\n",
      "\n",
      "\n",
      "\n",
      "\n",
      "t:   0%|          | 0/2 [00:00<?, ?it/s, now=None]\n",
      "\n",
      "\n",
      "\n",
      "\n",
      "t: 100%|██████████| 2/2 [00:00<00:00,  7.45it/s, now=None]\n",
      "\n",
      "\n",
      "\n",
      "\n",
      "                                                            \n",
      "\n",
      "\n",
      "                                                          \n",
      "                                                            \n",
      "\n",
      "                                                          \n",
      "\n",
      "\n",
      "\n",
      "                                                          \r"
     ]
    },
    {
     "name": "stdout",
     "output_type": "stream",
     "text": [
      "Moviepy - Done !\n"
     ]
    },
    {
     "name": "stderr",
     "output_type": "stream",
     "text": [
      "t: 100%|██████████| 2/2 [3:52:43<00:00,  2.95it/s, now=None]\n",
      "\n",
      "\n",
      "t: 100%|██████████| 2/2 [01:45<00:00,  6.96it/s, now=None]\n",
      "t: 100%|██████████| 2/2 [3:52:10<00:00,  6.58it/s, now=None]\n",
      "\n",
      "t: 100%|██████████| 2/2 [02:46<00:00,  6.35it/s, now=None]\n",
      "\n",
      "\n",
      "\n",
      "                                                            \n",
      "\n",
      "\n",
      "                                                          \n",
      "                                                            \n",
      "\n",
      "                                                          \n",
      "\n",
      "\n",
      "\n",
      "                                                          \r"
     ]
    },
    {
     "name": "stdout",
     "output_type": "stream",
     "text": [
      "Moviepy - video ready gifs/blind_deconv\\7_out.mp4\n"
     ]
    },
    {
     "name": "stderr",
     "output_type": "stream",
     "text": [
      "t: 100%|██████████| 2/2 [3:52:43<00:00,  2.95it/s, now=None]\n",
      "\n",
      "\n",
      "t: 100%|██████████| 2/2 [01:45<00:00,  6.96it/s, now=None]\n",
      "t: 100%|██████████| 2/2 [3:52:10<00:00,  6.58it/s, now=None]\n",
      "\n",
      "t: 100%|██████████| 2/2 [02:46<00:00,  6.35it/s, now=None]\n",
      "\n",
      "\n",
      "\n",
      "                                                            \n",
      "\n",
      "\n",
      "                                                          \n",
      "                                                            \n",
      "\n",
      "                                                          \n",
      "\n",
      "\n",
      "\n",
      "                                                          \r"
     ]
    },
    {
     "name": "stdout",
     "output_type": "stream",
     "text": [
      "Moviepy - Building video gifs/deblur_gan\\7_out.mp4.\n"
     ]
    },
    {
     "name": "stderr",
     "output_type": "stream",
     "text": [
      "t: 100%|██████████| 2/2 [3:52:43<00:00,  2.95it/s, now=None]\n",
      "\n",
      "\n",
      "t: 100%|██████████| 2/2 [01:45<00:00,  6.96it/s, now=None]\n",
      "t: 100%|██████████| 2/2 [3:52:10<00:00,  6.58it/s, now=None]\n",
      "\n",
      "t: 100%|██████████| 2/2 [02:46<00:00,  6.35it/s, now=None]\n",
      "\n",
      "\n",
      "\n",
      "                                                            \n",
      "\n",
      "\n",
      "                                                          \n",
      "                                                            \n",
      "\n",
      "                                                          \n",
      "\n",
      "\n",
      "\n",
      "                                                          \r"
     ]
    },
    {
     "name": "stdout",
     "output_type": "stream",
     "text": [
      "Moviepy - Writing video gifs/deblur_gan\\7_out.mp4\n",
      "\n"
     ]
    },
    {
     "name": "stderr",
     "output_type": "stream",
     "text": [
      "t: 100%|██████████| 2/2 [3:52:43<00:00,  2.95it/s, now=None]\n",
      "\n",
      "\n",
      "t: 100%|██████████| 2/2 [01:45<00:00,  6.96it/s, now=None]\n",
      "t: 100%|██████████| 2/2 [3:52:10<00:00,  6.58it/s, now=None]\n",
      "\n",
      "t: 100%|██████████| 2/2 [02:46<00:00,  6.35it/s, now=None]\n",
      "\n",
      "\n",
      "\n",
      "t: 100%|██████████| 2/2 [00:38<00:00,  7.61it/s, now=None]\n",
      "\n",
      "\n",
      "\n",
      "\n",
      "t:   0%|          | 0/2 [00:00<?, ?it/s, now=None]\n",
      "\n",
      "\n",
      "\n",
      "\n",
      "t: 100%|██████████| 2/2 [00:00<00:00,  7.14it/s, now=None]\n",
      "\n",
      "\n",
      "\n",
      "\n",
      "                                                            \n",
      "\n",
      "\n",
      "                                                          \n",
      "                                                            \n",
      "\n",
      "                                                          \n",
      "\n",
      "\n",
      "\n",
      "                                                          \r"
     ]
    },
    {
     "name": "stdout",
     "output_type": "stream",
     "text": [
      "Moviepy - Done !\n"
     ]
    },
    {
     "name": "stderr",
     "output_type": "stream",
     "text": [
      "t: 100%|██████████| 2/2 [3:52:44<00:00,  2.95it/s, now=None]\n",
      "\n",
      "\n",
      "t: 100%|██████████| 2/2 [01:45<00:00,  6.96it/s, now=None]\n",
      "t: 100%|██████████| 2/2 [3:52:11<00:00,  6.58it/s, now=None]\n",
      "\n",
      "t: 100%|██████████| 2/2 [02:46<00:00,  6.35it/s, now=None]\n",
      "\n",
      "\n",
      "\n",
      "                                                            \n",
      "\n",
      "\n",
      "                                                          \n",
      "                                                            \n",
      "\n",
      "                                                          \n",
      "\n",
      "\n",
      "\n",
      "                                                          \r"
     ]
    },
    {
     "name": "stdout",
     "output_type": "stream",
     "text": [
      "Moviepy - video ready gifs/deblur_gan\\7_out.mp4\n"
     ]
    },
    {
     "name": "stderr",
     "output_type": "stream",
     "text": [
      "t: 100%|██████████| 2/2 [3:52:44<00:00,  2.95it/s, now=None]\n",
      "\n",
      "\n",
      "t: 100%|██████████| 2/2 [01:45<00:00,  6.96it/s, now=None]\n",
      "t: 100%|██████████| 2/2 [3:52:11<00:00,  6.58it/s, now=None]\n",
      "\n",
      "t: 100%|██████████| 2/2 [02:46<00:00,  6.35it/s, now=None]\n",
      "\n",
      "\n",
      "\n",
      "                                                            \n",
      "\n",
      "\n",
      "                                                          \n",
      "                                                            \n",
      "\n",
      "                                                          \n",
      "\n",
      "\n",
      "\n",
      "                                                          \r"
     ]
    },
    {
     "name": "stdout",
     "output_type": "stream",
     "text": [
      "Moviepy - Building video gifs/wiener_deconv\\7_out.mp4.\n"
     ]
    },
    {
     "name": "stderr",
     "output_type": "stream",
     "text": [
      "t: 100%|██████████| 2/2 [3:52:44<00:00,  2.95it/s, now=None]\n",
      "\n",
      "\n",
      "t: 100%|██████████| 2/2 [01:45<00:00,  6.96it/s, now=None]\n",
      "t: 100%|██████████| 2/2 [3:52:11<00:00,  6.58it/s, now=None]\n",
      "\n",
      "t: 100%|██████████| 2/2 [02:47<00:00,  6.35it/s, now=None]\n",
      "\n",
      "\n",
      "\n",
      "                                                            \n",
      "\n",
      "\n",
      "                                                          \n",
      "                                                            \n",
      "\n",
      "                                                          \n",
      "\n",
      "\n",
      "\n",
      "                                                          \r"
     ]
    },
    {
     "name": "stdout",
     "output_type": "stream",
     "text": [
      "Moviepy - Writing video gifs/wiener_deconv\\7_out.mp4\n",
      "\n"
     ]
    },
    {
     "name": "stderr",
     "output_type": "stream",
     "text": [
      "t: 100%|██████████| 2/2 [3:52:44<00:00,  2.95it/s, now=None]\n",
      "\n",
      "\n",
      "t: 100%|██████████| 2/2 [01:45<00:00,  6.96it/s, now=None]\n",
      "t: 100%|██████████| 2/2 [3:52:11<00:00,  6.58it/s, now=None]\n",
      "\n",
      "t: 100%|██████████| 2/2 [02:47<00:00,  6.35it/s, now=None]\n",
      "\n",
      "\n",
      "\n",
      "t: 100%|██████████| 2/2 [00:39<00:00,  7.61it/s, now=None]\n",
      "\n",
      "\n",
      "\n",
      "\n",
      "t:   0%|          | 0/2 [00:00<?, ?it/s, now=None]\n",
      "\n",
      "\n",
      "\n",
      "\n",
      "t: 100%|██████████| 2/2 [00:00<00:00,  6.77it/s, now=None]\n",
      "\n",
      "\n",
      "\n",
      "\n",
      "                                                            \n",
      "\n",
      "\n",
      "                                                          \n",
      "                                                            \n",
      "\n",
      "                                                          \n",
      "\n",
      "\n",
      "\n",
      "                                                          \r"
     ]
    },
    {
     "name": "stdout",
     "output_type": "stream",
     "text": [
      "Moviepy - Done !\n"
     ]
    },
    {
     "name": "stderr",
     "output_type": "stream",
     "text": [
      "t: 100%|██████████| 2/2 [3:52:44<00:00,  2.95it/s, now=None]\n",
      "\n",
      "\n",
      "t: 100%|██████████| 2/2 [01:46<00:00,  6.96it/s, now=None]\n",
      "t: 100%|██████████| 2/2 [3:52:11<00:00,  6.58it/s, now=None]\n",
      "\n",
      "t: 100%|██████████| 2/2 [02:47<00:00,  6.35it/s, now=None]\n",
      "\n",
      "\n",
      "\n",
      "                                                            \n",
      "\n",
      "\n",
      "                                                          \n",
      "                                                            \n",
      "\n",
      "                                                          \n",
      "\n",
      "\n",
      "\n",
      "                                                          \r"
     ]
    },
    {
     "name": "stdout",
     "output_type": "stream",
     "text": [
      "Moviepy - video ready gifs/wiener_deconv\\7_out.mp4\n"
     ]
    },
    {
     "name": "stderr",
     "output_type": "stream",
     "text": [
      "t: 100%|██████████| 2/2 [3:52:44<00:00,  2.95it/s, now=None]\n",
      "\n",
      "\n",
      "t: 100%|██████████| 2/2 [01:46<00:00,  6.96it/s, now=None]\n",
      "t: 100%|██████████| 2/2 [3:52:11<00:00,  6.58it/s, now=None]\n",
      "\n",
      "t: 100%|██████████| 2/2 [02:47<00:00,  6.35it/s, now=None]\n",
      "\n",
      "\n",
      "\n",
      "                                                            \n",
      "\n",
      "\n",
      "                                                          \n",
      "                                                            \n",
      "\n",
      "                                                          \n",
      "\n",
      "\n",
      "\n",
      "                                                          \r"
     ]
    },
    {
     "name": "stdout",
     "output_type": "stream",
     "text": [
      "Moviepy - Building video gifs/blind_deconv\\8_out.mp4.\n"
     ]
    },
    {
     "name": "stderr",
     "output_type": "stream",
     "text": [
      "t: 100%|██████████| 2/2 [3:52:44<00:00,  2.95it/s, now=None]\n",
      "\n",
      "\n",
      "t: 100%|██████████| 2/2 [01:46<00:00,  6.96it/s, now=None]\n",
      "t: 100%|██████████| 2/2 [3:52:11<00:00,  6.58it/s, now=None]\n",
      "\n",
      "t: 100%|██████████| 2/2 [02:47<00:00,  6.35it/s, now=None]\n",
      "\n",
      "\n",
      "\n",
      "                                                            \n",
      "\n",
      "\n",
      "                                                          \n",
      "                                                            \n",
      "\n",
      "                                                          \n",
      "\n",
      "\n",
      "\n",
      "                                                          \r"
     ]
    },
    {
     "name": "stdout",
     "output_type": "stream",
     "text": [
      "Moviepy - Writing video gifs/blind_deconv\\8_out.mp4\n",
      "\n"
     ]
    },
    {
     "name": "stderr",
     "output_type": "stream",
     "text": [
      "t: 100%|██████████| 2/2 [3:52:44<00:00,  2.95it/s, now=None]\n",
      "\n",
      "\n",
      "t: 100%|██████████| 2/2 [01:46<00:00,  6.96it/s, now=None]\n",
      "t: 100%|██████████| 2/2 [3:52:11<00:00,  6.58it/s, now=None]\n",
      "\n",
      "t: 100%|██████████| 2/2 [02:47<00:00,  6.35it/s, now=None]\n",
      "\n",
      "\n",
      "\n",
      "t: 100%|██████████| 2/2 [00:39<00:00,  7.61it/s, now=None]\n",
      "\n",
      "\n",
      "\n",
      "\n",
      "t:   0%|          | 0/2 [00:00<?, ?it/s, now=None]\n",
      "\n",
      "\n",
      "\n",
      "\n",
      "t: 100%|██████████| 2/2 [00:00<00:00,  5.81it/s, now=None]\n",
      "\n",
      "\n",
      "\n",
      "\n",
      "                                                            \n",
      "\n",
      "\n",
      "                                                          \n",
      "                                                            \n",
      "\n",
      "                                                          \n",
      "\n",
      "\n",
      "\n",
      "                                                          \r"
     ]
    },
    {
     "name": "stdout",
     "output_type": "stream",
     "text": [
      "Moviepy - Done !\n"
     ]
    },
    {
     "name": "stderr",
     "output_type": "stream",
     "text": [
      "t: 100%|██████████| 2/2 [3:52:45<00:00,  2.95it/s, now=None]\n",
      "\n",
      "\n",
      "t: 100%|██████████| 2/2 [01:47<00:00,  6.96it/s, now=None]\n",
      "t: 100%|██████████| 2/2 [3:52:12<00:00,  6.58it/s, now=None]\n",
      "\n",
      "t: 100%|██████████| 2/2 [02:48<00:00,  6.35it/s, now=None]\n",
      "\n",
      "\n",
      "\n",
      "                                                            \n",
      "\n",
      "\n",
      "                                                          \n",
      "                                                            \n",
      "\n",
      "                                                          \n",
      "\n",
      "\n",
      "\n",
      "                                                          \r"
     ]
    },
    {
     "name": "stdout",
     "output_type": "stream",
     "text": [
      "Moviepy - video ready gifs/blind_deconv\\8_out.mp4\n"
     ]
    },
    {
     "name": "stderr",
     "output_type": "stream",
     "text": [
      "t: 100%|██████████| 2/2 [3:52:45<00:00,  2.95it/s, now=None]\n",
      "\n",
      "\n",
      "t: 100%|██████████| 2/2 [01:47<00:00,  6.96it/s, now=None]\n",
      "t: 100%|██████████| 2/2 [3:52:12<00:00,  6.58it/s, now=None]\n",
      "\n",
      "t: 100%|██████████| 2/2 [02:48<00:00,  6.35it/s, now=None]\n",
      "\n",
      "\n",
      "\n",
      "                                                            \n",
      "\n",
      "\n",
      "                                                          \n",
      "                                                            \n",
      "\n",
      "                                                          \n",
      "\n",
      "\n",
      "\n",
      "                                                          \r"
     ]
    },
    {
     "name": "stdout",
     "output_type": "stream",
     "text": [
      "Moviepy - Building video gifs/deblur_gan\\8_out.mp4.\n"
     ]
    },
    {
     "name": "stderr",
     "output_type": "stream",
     "text": [
      "t: 100%|██████████| 2/2 [3:52:45<00:00,  2.95it/s, now=None]\n",
      "\n",
      "\n",
      "t: 100%|██████████| 2/2 [01:47<00:00,  6.96it/s, now=None]\n",
      "t: 100%|██████████| 2/2 [3:52:12<00:00,  6.58it/s, now=None]\n",
      "\n",
      "t: 100%|██████████| 2/2 [02:48<00:00,  6.35it/s, now=None]\n",
      "\n",
      "\n",
      "\n",
      "                                                            \n",
      "\n",
      "\n",
      "                                                          \n",
      "                                                            \n",
      "\n",
      "                                                          \n",
      "\n",
      "\n",
      "\n",
      "                                                          \r"
     ]
    },
    {
     "name": "stdout",
     "output_type": "stream",
     "text": [
      "Moviepy - Writing video gifs/deblur_gan\\8_out.mp4\n",
      "\n"
     ]
    },
    {
     "name": "stderr",
     "output_type": "stream",
     "text": [
      "t: 100%|██████████| 2/2 [3:52:45<00:00,  2.95it/s, now=None]\n",
      "\n",
      "\n",
      "t: 100%|██████████| 2/2 [01:47<00:00,  6.96it/s, now=None]\n",
      "t: 100%|██████████| 2/2 [3:52:12<00:00,  6.58it/s, now=None]\n",
      "\n",
      "t: 100%|██████████| 2/2 [02:48<00:00,  6.35it/s, now=None]\n",
      "\n",
      "\n",
      "\n",
      "t: 100%|██████████| 2/2 [00:40<00:00,  7.61it/s, now=None]\n",
      "\n",
      "\n",
      "\n",
      "\n",
      "t:   0%|          | 0/2 [00:00<?, ?it/s, now=None]\n",
      "\n",
      "\n",
      "\n",
      "\n",
      "t: 100%|██████████| 2/2 [00:00<00:00,  5.78it/s, now=None]\n",
      "\n",
      "\n",
      "\n",
      "\n",
      "                                                            \n",
      "\n",
      "\n",
      "                                                          \n",
      "                                                            \n",
      "\n",
      "                                                          \n",
      "\n",
      "\n",
      "\n",
      "                                                          \r"
     ]
    },
    {
     "name": "stdout",
     "output_type": "stream",
     "text": [
      "Moviepy - Done !\n"
     ]
    },
    {
     "name": "stderr",
     "output_type": "stream",
     "text": [
      "t: 100%|██████████| 2/2 [3:52:46<00:00,  2.95it/s, now=None]\n",
      "\n",
      "\n",
      "t: 100%|██████████| 2/2 [01:48<00:00,  6.96it/s, now=None]\n",
      "t: 100%|██████████| 2/2 [3:52:13<00:00,  6.58it/s, now=None]\n",
      "\n",
      "t: 100%|██████████| 2/2 [02:49<00:00,  6.35it/s, now=None]\n",
      "\n",
      "\n",
      "\n",
      "                                                            \n",
      "\n",
      "\n",
      "                                                          \n",
      "                                                            \n",
      "\n",
      "                                                          \n",
      "\n",
      "\n",
      "\n",
      "                                                          \r"
     ]
    },
    {
     "name": "stdout",
     "output_type": "stream",
     "text": [
      "Moviepy - video ready gifs/deblur_gan\\8_out.mp4\n"
     ]
    },
    {
     "name": "stderr",
     "output_type": "stream",
     "text": [
      "t: 100%|██████████| 2/2 [3:52:46<00:00,  2.95it/s, now=None]\n",
      "\n",
      "\n",
      "t: 100%|██████████| 2/2 [01:48<00:00,  6.96it/s, now=None]\n",
      "t: 100%|██████████| 2/2 [3:52:13<00:00,  6.58it/s, now=None]\n",
      "\n",
      "t: 100%|██████████| 2/2 [02:49<00:00,  6.35it/s, now=None]\n",
      "\n",
      "\n",
      "\n",
      "                                                            \n",
      "\n",
      "\n",
      "                                                          \n",
      "                                                            \n",
      "\n",
      "                                                          \n",
      "\n",
      "\n",
      "\n",
      "                                                          \r"
     ]
    },
    {
     "name": "stdout",
     "output_type": "stream",
     "text": [
      "Moviepy - Building video gifs/wiener_deconv\\8_out.mp4.\n"
     ]
    },
    {
     "name": "stderr",
     "output_type": "stream",
     "text": [
      "t: 100%|██████████| 2/2 [3:52:46<00:00,  2.95it/s, now=None]\n",
      "\n",
      "\n",
      "t: 100%|██████████| 2/2 [01:48<00:00,  6.96it/s, now=None]\n",
      "t: 100%|██████████| 2/2 [3:52:13<00:00,  6.58it/s, now=None]\n",
      "\n",
      "t: 100%|██████████| 2/2 [02:49<00:00,  6.35it/s, now=None]\n",
      "\n",
      "\n",
      "\n",
      "                                                            \n",
      "\n",
      "\n",
      "                                                          \n",
      "                                                            \n",
      "\n",
      "                                                          \n",
      "\n",
      "\n",
      "\n",
      "                                                          \r"
     ]
    },
    {
     "name": "stdout",
     "output_type": "stream",
     "text": [
      "Moviepy - Writing video gifs/wiener_deconv\\8_out.mp4\n",
      "\n"
     ]
    },
    {
     "name": "stderr",
     "output_type": "stream",
     "text": [
      "t: 100%|██████████| 2/2 [3:52:46<00:00,  2.95it/s, now=None]\n",
      "\n",
      "\n",
      "t: 100%|██████████| 2/2 [01:48<00:00,  6.96it/s, now=None]\n",
      "t: 100%|██████████| 2/2 [3:52:13<00:00,  6.58it/s, now=None]\n",
      "\n",
      "t: 100%|██████████| 2/2 [02:49<00:00,  6.35it/s, now=None]\n",
      "\n",
      "\n",
      "\n",
      "t: 100%|██████████| 2/2 [00:41<00:00,  7.61it/s, now=None]\n",
      "\n",
      "\n",
      "\n",
      "\n",
      "t:   0%|          | 0/2 [00:00<?, ?it/s, now=None]\n",
      "\n",
      "\n",
      "\n",
      "\n",
      "t: 100%|██████████| 2/2 [00:00<00:00,  4.76it/s, now=None]\n",
      "\n",
      "\n",
      "\n",
      "\n",
      "                                                            \n",
      "\n",
      "\n",
      "                                                          \n",
      "                                                            \n",
      "\n",
      "                                                          \n",
      "\n",
      "\n",
      "\n",
      "                                                          \r"
     ]
    },
    {
     "name": "stdout",
     "output_type": "stream",
     "text": [
      "Moviepy - Done !\n"
     ]
    },
    {
     "name": "stderr",
     "output_type": "stream",
     "text": [
      "t: 100%|██████████| 2/2 [3:52:46<00:00,  2.95it/s, now=None]\n",
      "\n",
      "\n",
      "t: 100%|██████████| 2/2 [01:48<00:00,  6.96it/s, now=None]\n",
      "t: 100%|██████████| 2/2 [3:52:13<00:00,  6.58it/s, now=None]\n",
      "\n",
      "t: 100%|██████████| 2/2 [02:49<00:00,  6.35it/s, now=None]\n",
      "\n",
      "\n",
      "\n",
      "                                                            \n",
      "\n",
      "\n",
      "                                                          \n",
      "                                                            \n",
      "\n",
      "                                                          \n",
      "\n",
      "\n",
      "\n",
      "                                                          \r"
     ]
    },
    {
     "name": "stdout",
     "output_type": "stream",
     "text": [
      "Moviepy - video ready gifs/wiener_deconv\\8_out.mp4\n"
     ]
    },
    {
     "name": "stderr",
     "output_type": "stream",
     "text": [
      "t: 100%|██████████| 2/2 [3:52:46<00:00,  2.95it/s, now=None]\n",
      "\n",
      "\n",
      "t: 100%|██████████| 2/2 [01:48<00:00,  6.96it/s, now=None]\n",
      "t: 100%|██████████| 2/2 [3:52:14<00:00,  6.58it/s, now=None]\n",
      "\n",
      "t: 100%|██████████| 2/2 [02:49<00:00,  6.35it/s, now=None]\n",
      "\n",
      "\n",
      "\n",
      "                                                            \n",
      "\n",
      "\n",
      "                                                          \n",
      "                                                            \n",
      "\n",
      "                                                          \n",
      "\n",
      "\n",
      "\n",
      "                                                          \r"
     ]
    },
    {
     "name": "stdout",
     "output_type": "stream",
     "text": [
      "Moviepy - Building video gifs/blind_deconv\\9_out.mp4.\n"
     ]
    },
    {
     "name": "stderr",
     "output_type": "stream",
     "text": [
      "t: 100%|██████████| 2/2 [3:52:47<00:00,  2.95it/s, now=None]\n",
      "\n",
      "\n",
      "t: 100%|██████████| 2/2 [01:49<00:00,  6.96it/s, now=None]\n",
      "t: 100%|██████████| 2/2 [3:52:14<00:00,  6.58it/s, now=None]\n",
      "\n",
      "t: 100%|██████████| 2/2 [02:50<00:00,  6.35it/s, now=None]\n",
      "\n",
      "\n",
      "\n",
      "                                                            \n",
      "\n",
      "\n",
      "                                                          \n",
      "                                                            \n",
      "\n",
      "                                                          \n",
      "\n",
      "\n",
      "\n",
      "                                                          \r"
     ]
    },
    {
     "name": "stdout",
     "output_type": "stream",
     "text": [
      "Moviepy - Writing video gifs/blind_deconv\\9_out.mp4\n",
      "\n"
     ]
    },
    {
     "name": "stderr",
     "output_type": "stream",
     "text": [
      "t: 100%|██████████| 2/2 [3:52:47<00:00,  2.95it/s, now=None]\n",
      "\n",
      "\n",
      "t: 100%|██████████| 2/2 [01:49<00:00,  6.96it/s, now=None]\n",
      "t: 100%|██████████| 2/2 [3:52:14<00:00,  6.58it/s, now=None]\n",
      "\n",
      "t: 100%|██████████| 2/2 [02:50<00:00,  6.35it/s, now=None]\n",
      "\n",
      "\n",
      "\n",
      "t: 100%|██████████| 2/2 [00:42<00:00,  7.61it/s, now=None]\n",
      "\n",
      "\n",
      "\n",
      "\n",
      "t:   0%|          | 0/2 [00:00<?, ?it/s, now=None]\n",
      "\n",
      "\n",
      "\n",
      "\n",
      "t: 100%|██████████| 2/2 [00:00<00:00,  5.51it/s, now=None]\n",
      "\n",
      "\n",
      "\n",
      "\n",
      "                                                            \n",
      "\n",
      "\n",
      "                                                          \n",
      "                                                            \n",
      "\n",
      "                                                          \n",
      "\n",
      "\n",
      "\n",
      "                                                          \r"
     ]
    },
    {
     "name": "stdout",
     "output_type": "stream",
     "text": [
      "Moviepy - Done !\n"
     ]
    },
    {
     "name": "stderr",
     "output_type": "stream",
     "text": [
      "t: 100%|██████████| 2/2 [3:52:47<00:00,  2.95it/s, now=None]\n",
      "\n",
      "\n",
      "t: 100%|██████████| 2/2 [01:49<00:00,  6.96it/s, now=None]\n",
      "t: 100%|██████████| 2/2 [3:52:14<00:00,  6.58it/s, now=None]\n",
      "\n",
      "t: 100%|██████████| 2/2 [02:50<00:00,  6.35it/s, now=None]\n",
      "\n",
      "\n",
      "\n",
      "                                                            \n",
      "\n",
      "\n",
      "                                                          \n",
      "                                                            \n",
      "\n",
      "                                                          \n",
      "\n",
      "\n",
      "\n",
      "                                                          \r"
     ]
    },
    {
     "name": "stdout",
     "output_type": "stream",
     "text": [
      "Moviepy - video ready gifs/blind_deconv\\9_out.mp4\n"
     ]
    },
    {
     "name": "stderr",
     "output_type": "stream",
     "text": [
      "t: 100%|██████████| 2/2 [3:52:47<00:00,  2.95it/s, now=None]\n",
      "\n",
      "\n",
      "t: 100%|██████████| 2/2 [01:49<00:00,  6.96it/s, now=None]\n",
      "t: 100%|██████████| 2/2 [3:52:14<00:00,  6.58it/s, now=None]\n",
      "\n",
      "t: 100%|██████████| 2/2 [02:50<00:00,  6.35it/s, now=None]\n",
      "\n",
      "\n",
      "\n",
      "                                                            \n",
      "\n",
      "\n",
      "                                                          \n",
      "                                                            \n",
      "\n",
      "                                                          \n",
      "\n",
      "\n",
      "\n",
      "                                                          \r"
     ]
    },
    {
     "name": "stdout",
     "output_type": "stream",
     "text": [
      "Moviepy - Building video gifs/deblur_gan\\9_out.mp4.\n"
     ]
    },
    {
     "name": "stderr",
     "output_type": "stream",
     "text": [
      "t: 100%|██████████| 2/2 [3:52:47<00:00,  2.95it/s, now=None]\n",
      "\n",
      "\n",
      "t: 100%|██████████| 2/2 [01:49<00:00,  6.96it/s, now=None]\n",
      "t: 100%|██████████| 2/2 [3:52:14<00:00,  6.58it/s, now=None]\n",
      "\n",
      "t: 100%|██████████| 2/2 [02:50<00:00,  6.35it/s, now=None]\n",
      "\n",
      "\n",
      "\n",
      "                                                            \n",
      "\n",
      "\n",
      "                                                          \n",
      "                                                            \n",
      "\n",
      "                                                          \n",
      "\n",
      "\n",
      "\n",
      "                                                          \r"
     ]
    },
    {
     "name": "stdout",
     "output_type": "stream",
     "text": [
      "Moviepy - Writing video gifs/deblur_gan\\9_out.mp4\n",
      "\n"
     ]
    },
    {
     "name": "stderr",
     "output_type": "stream",
     "text": [
      "t: 100%|██████████| 2/2 [3:52:47<00:00,  2.95it/s, now=None]\n",
      "\n",
      "\n",
      "t: 100%|██████████| 2/2 [01:49<00:00,  6.96it/s, now=None]\n",
      "t: 100%|██████████| 2/2 [3:52:14<00:00,  6.58it/s, now=None]\n",
      "\n",
      "t: 100%|██████████| 2/2 [02:50<00:00,  6.35it/s, now=None]\n",
      "\n",
      "\n",
      "\n",
      "t: 100%|██████████| 2/2 [00:42<00:00,  7.61it/s, now=None]\n",
      "\n",
      "\n",
      "\n",
      "\n",
      "t:   0%|          | 0/2 [00:00<?, ?it/s, now=None]\n",
      "\n",
      "\n",
      "\n",
      "\n",
      "t: 100%|██████████| 2/2 [00:00<00:00,  7.48it/s, now=None]\n",
      "\n",
      "\n",
      "\n",
      "\n",
      "                                                            \n",
      "\n",
      "\n",
      "                                                          \n",
      "                                                            \n",
      "\n",
      "                                                          \n",
      "\n",
      "\n",
      "\n",
      "                                                          \r"
     ]
    },
    {
     "name": "stdout",
     "output_type": "stream",
     "text": [
      "Moviepy - Done !\n"
     ]
    },
    {
     "name": "stderr",
     "output_type": "stream",
     "text": [
      "t: 100%|██████████| 2/2 [3:52:48<00:00,  2.95it/s, now=None]\n",
      "\n",
      "\n",
      "t: 100%|██████████| 2/2 [01:50<00:00,  6.96it/s, now=None]\n",
      "t: 100%|██████████| 2/2 [3:52:15<00:00,  6.58it/s, now=None]\n",
      "\n",
      "t: 100%|██████████| 2/2 [02:51<00:00,  6.35it/s, now=None]\n",
      "\n",
      "\n",
      "\n",
      "                                                            \n",
      "\n",
      "\n",
      "                                                          \n",
      "                                                            \n",
      "\n",
      "                                                          \n",
      "\n",
      "\n",
      "\n",
      "                                                          \r"
     ]
    },
    {
     "name": "stdout",
     "output_type": "stream",
     "text": [
      "Moviepy - video ready gifs/deblur_gan\\9_out.mp4\n"
     ]
    },
    {
     "name": "stderr",
     "output_type": "stream",
     "text": [
      "t: 100%|██████████| 2/2 [3:52:48<00:00,  2.95it/s, now=None]\n",
      "\n",
      "\n",
      "t: 100%|██████████| 2/2 [01:50<00:00,  6.96it/s, now=None]\n",
      "t: 100%|██████████| 2/2 [3:52:15<00:00,  6.58it/s, now=None]\n",
      "\n",
      "t: 100%|██████████| 2/2 [02:51<00:00,  6.35it/s, now=None]\n",
      "\n",
      "\n",
      "\n",
      "                                                            \n",
      "\n",
      "\n",
      "                                                          \n",
      "                                                            \n",
      "\n",
      "                                                          \n",
      "\n",
      "\n",
      "\n",
      "                                                          \r"
     ]
    },
    {
     "name": "stdout",
     "output_type": "stream",
     "text": [
      "Moviepy - Building video gifs/wiener_deconv\\9_out.mp4.\n"
     ]
    },
    {
     "name": "stderr",
     "output_type": "stream",
     "text": [
      "t: 100%|██████████| 2/2 [3:52:48<00:00,  2.95it/s, now=None]\n",
      "\n",
      "\n",
      "t: 100%|██████████| 2/2 [01:50<00:00,  6.96it/s, now=None]\n",
      "t: 100%|██████████| 2/2 [3:52:15<00:00,  6.58it/s, now=None]\n",
      "\n",
      "t: 100%|██████████| 2/2 [02:51<00:00,  6.35it/s, now=None]\n",
      "\n",
      "\n",
      "\n",
      "                                                            \n",
      "\n",
      "\n",
      "                                                          \n",
      "                                                            \n",
      "\n",
      "                                                          \n",
      "\n",
      "\n",
      "\n",
      "                                                          \r"
     ]
    },
    {
     "name": "stdout",
     "output_type": "stream",
     "text": [
      "Moviepy - Writing video gifs/wiener_deconv\\9_out.mp4\n",
      "\n"
     ]
    },
    {
     "name": "stderr",
     "output_type": "stream",
     "text": [
      "t: 100%|██████████| 2/2 [3:52:48<00:00,  2.95it/s, now=None]\n",
      "\n",
      "\n",
      "t: 100%|██████████| 2/2 [01:50<00:00,  6.96it/s, now=None]\n",
      "t: 100%|██████████| 2/2 [3:52:15<00:00,  6.58it/s, now=None]\n",
      "\n",
      "t: 100%|██████████| 2/2 [02:51<00:00,  6.35it/s, now=None]\n",
      "\n",
      "\n",
      "\n",
      "t: 100%|██████████| 2/2 [00:43<00:00,  7.61it/s, now=None]\n",
      "\n",
      "\n",
      "\n",
      "\n",
      "t:   0%|          | 0/2 [00:00<?, ?it/s, now=None]\n",
      "\n",
      "\n",
      "\n",
      "\n",
      "t: 100%|██████████| 2/2 [00:00<00:00,  6.95it/s, now=None]\n",
      "\n",
      "\n",
      "\n",
      "\n",
      "                                                            \n",
      "\n",
      "\n",
      "                                                          \n",
      "                                                            \n",
      "\n",
      "                                                          \n",
      "\n",
      "\n",
      "\n",
      "                                                          \r"
     ]
    },
    {
     "name": "stdout",
     "output_type": "stream",
     "text": [
      "Moviepy - Done !\n"
     ]
    },
    {
     "name": "stderr",
     "output_type": "stream",
     "text": [
      "t: 100%|██████████| 2/2 [3:52:48<00:00,  2.95it/s, now=None]\n",
      "\n",
      "\n",
      "t: 100%|██████████| 2/2 [01:50<00:00,  6.96it/s, now=None]\n",
      "t: 100%|██████████| 2/2 [3:52:16<00:00,  6.58it/s, now=None]\n",
      "\n",
      "t: 100%|██████████| 2/2 [02:51<00:00,  6.35it/s, now=None]\n",
      "\n",
      "\n",
      "\n",
      "                                                            \n",
      "\n",
      "\n",
      "                                                          \n",
      "                                                            \n",
      "\n",
      "                                                          \n",
      "\n",
      "\n",
      "\n",
      "                                                          \r"
     ]
    },
    {
     "name": "stdout",
     "output_type": "stream",
     "text": [
      "Moviepy - video ready gifs/wiener_deconv\\9_out.mp4\n"
     ]
    },
    {
     "name": "stderr",
     "output_type": "stream",
     "text": [
      "t: 100%|██████████| 2/2 [3:52:49<00:00,  2.95it/s, now=None]\n",
      "\n",
      "\n",
      "t: 100%|██████████| 2/2 [01:50<00:00,  6.96it/s, now=None]\n",
      "t: 100%|██████████| 2/2 [3:52:16<00:00,  6.58it/s, now=None]\n",
      "\n",
      "t: 100%|██████████| 2/2 [02:51<00:00,  6.35it/s, now=None]\n",
      "\n",
      "\n",
      "\n",
      "                                                            \n",
      "\n",
      "\n",
      "                                                          \n",
      "                                                            \n",
      "\n",
      "                                                          \n",
      "\n",
      "\n",
      "\n",
      "                                                          \r"
     ]
    },
    {
     "name": "stdout",
     "output_type": "stream",
     "text": [
      "Moviepy - Building video gifs/blind_deconv\\10_out.mp4.\n"
     ]
    },
    {
     "name": "stderr",
     "output_type": "stream",
     "text": [
      "t: 100%|██████████| 2/2 [3:52:49<00:00,  2.95it/s, now=None]\n",
      "\n",
      "\n",
      "t: 100%|██████████| 2/2 [01:51<00:00,  6.96it/s, now=None]\n",
      "t: 100%|██████████| 2/2 [3:52:16<00:00,  6.58it/s, now=None]\n",
      "\n",
      "t: 100%|██████████| 2/2 [02:52<00:00,  6.35it/s, now=None]\n",
      "\n",
      "\n",
      "\n",
      "                                                            \n",
      "\n",
      "\n",
      "                                                          \n",
      "                                                            \n",
      "\n",
      "                                                          \n",
      "\n",
      "\n",
      "\n",
      "                                                          \r"
     ]
    },
    {
     "name": "stdout",
     "output_type": "stream",
     "text": [
      "Moviepy - Writing video gifs/blind_deconv\\10_out.mp4\n",
      "\n"
     ]
    },
    {
     "name": "stderr",
     "output_type": "stream",
     "text": [
      "t: 100%|██████████| 2/2 [3:52:49<00:00,  2.95it/s, now=None]\n",
      "\n",
      "\n",
      "t: 100%|██████████| 2/2 [01:51<00:00,  6.96it/s, now=None]\n",
      "t: 100%|██████████| 2/2 [3:52:16<00:00,  6.58it/s, now=None]\n",
      "\n",
      "t: 100%|██████████| 2/2 [02:52<00:00,  6.35it/s, now=None]\n",
      "\n",
      "\n",
      "\n",
      "t: 100%|██████████| 2/2 [00:44<00:00,  7.61it/s, now=None]\n",
      "\n",
      "\n",
      "\n",
      "\n",
      "t:   0%|          | 0/2 [00:00<?, ?it/s, now=None]\n",
      "\n",
      "\n",
      "\n",
      "\n",
      "t: 100%|██████████| 2/2 [00:00<00:00,  7.04it/s, now=None]\n",
      "\n",
      "\n",
      "\n",
      "\n",
      "                                                            \n",
      "\n",
      "\n",
      "                                                          \n",
      "                                                            \n",
      "\n",
      "                                                          \n",
      "\n",
      "\n",
      "\n",
      "                                                          \r"
     ]
    },
    {
     "name": "stdout",
     "output_type": "stream",
     "text": [
      "Moviepy - Done !\n"
     ]
    },
    {
     "name": "stderr",
     "output_type": "stream",
     "text": [
      "t: 100%|██████████| 2/2 [3:52:49<00:00,  2.95it/s, now=None]\n",
      "\n",
      "\n",
      "t: 100%|██████████| 2/2 [01:51<00:00,  6.96it/s, now=None]\n",
      "t: 100%|██████████| 2/2 [3:52:16<00:00,  6.58it/s, now=None]\n",
      "\n",
      "t: 100%|██████████| 2/2 [02:52<00:00,  6.35it/s, now=None]\n",
      "\n",
      "\n",
      "\n",
      "                                                            \n",
      "\n",
      "\n",
      "                                                          \n",
      "                                                            \n",
      "\n",
      "                                                          \n",
      "\n",
      "\n",
      "\n",
      "                                                          \r"
     ]
    },
    {
     "name": "stdout",
     "output_type": "stream",
     "text": [
      "Moviepy - video ready gifs/blind_deconv\\10_out.mp4\n"
     ]
    },
    {
     "name": "stderr",
     "output_type": "stream",
     "text": [
      "t: 100%|██████████| 2/2 [3:52:49<00:00,  2.95it/s, now=None]\n",
      "\n",
      "\n",
      "t: 100%|██████████| 2/2 [01:51<00:00,  6.96it/s, now=None]\n",
      "t: 100%|██████████| 2/2 [3:52:16<00:00,  6.58it/s, now=None]\n",
      "\n",
      "t: 100%|██████████| 2/2 [02:52<00:00,  6.35it/s, now=None]\n",
      "\n",
      "\n",
      "\n",
      "                                                            \n",
      "\n",
      "\n",
      "                                                          \n",
      "                                                            \n",
      "\n",
      "                                                          \n",
      "\n",
      "\n",
      "\n",
      "                                                          \r"
     ]
    },
    {
     "name": "stdout",
     "output_type": "stream",
     "text": [
      "Moviepy - Building video gifs/deblur_gan\\10_out.mp4.\n"
     ]
    },
    {
     "name": "stderr",
     "output_type": "stream",
     "text": [
      "t: 100%|██████████| 2/2 [3:52:49<00:00,  2.95it/s, now=None]\n",
      "\n",
      "\n",
      "t: 100%|██████████| 2/2 [01:51<00:00,  6.96it/s, now=None]\n",
      "t: 100%|██████████| 2/2 [3:52:16<00:00,  6.58it/s, now=None]\n",
      "\n",
      "t: 100%|██████████| 2/2 [02:52<00:00,  6.35it/s, now=None]\n",
      "\n",
      "\n",
      "\n",
      "                                                            \n",
      "\n",
      "\n",
      "                                                          \n",
      "                                                            \n",
      "\n",
      "                                                          \n",
      "\n",
      "\n",
      "\n",
      "                                                          \r"
     ]
    },
    {
     "name": "stdout",
     "output_type": "stream",
     "text": [
      "Moviepy - Writing video gifs/deblur_gan\\10_out.mp4\n",
      "\n"
     ]
    },
    {
     "name": "stderr",
     "output_type": "stream",
     "text": [
      "t: 100%|██████████| 2/2 [3:52:49<00:00,  2.95it/s, now=None]\n",
      "\n",
      "\n",
      "t: 100%|██████████| 2/2 [01:51<00:00,  6.96it/s, now=None]\n",
      "t: 100%|██████████| 2/2 [3:52:16<00:00,  6.58it/s, now=None]\n",
      "\n",
      "t: 100%|██████████| 2/2 [02:52<00:00,  6.35it/s, now=None]\n",
      "\n",
      "\n",
      "\n",
      "t: 100%|██████████| 2/2 [00:44<00:00,  7.61it/s, now=None]\n",
      "\n",
      "\n",
      "\n",
      "\n",
      "t:   0%|          | 0/2 [00:00<?, ?it/s, now=None]\n",
      "\n",
      "\n",
      "\n",
      "\n",
      "t: 100%|██████████| 2/2 [00:00<00:00,  7.43it/s, now=None]\n",
      "\n",
      "\n",
      "\n",
      "\n",
      "                                                            \n",
      "\n",
      "\n",
      "                                                          \n",
      "                                                            \n",
      "\n",
      "                                                          \n",
      "\n",
      "\n",
      "\n",
      "                                                          \r"
     ]
    },
    {
     "name": "stdout",
     "output_type": "stream",
     "text": [
      "Moviepy - Done !\n"
     ]
    },
    {
     "name": "stderr",
     "output_type": "stream",
     "text": [
      "t: 100%|██████████| 2/2 [3:52:50<00:00,  2.95it/s, now=None]\n",
      "\n",
      "\n",
      "t: 100%|██████████| 2/2 [01:52<00:00,  6.96it/s, now=None]\n",
      "t: 100%|██████████| 2/2 [3:52:17<00:00,  6.58it/s, now=None]\n",
      "\n",
      "t: 100%|██████████| 2/2 [02:53<00:00,  6.35it/s, now=None]\n",
      "\n",
      "\n",
      "\n",
      "                                                            \n",
      "\n",
      "\n",
      "                                                          \n",
      "                                                            \n",
      "\n",
      "                                                          \n",
      "\n",
      "\n",
      "\n",
      "                                                          \r"
     ]
    },
    {
     "name": "stdout",
     "output_type": "stream",
     "text": [
      "Moviepy - video ready gifs/deblur_gan\\10_out.mp4\n"
     ]
    },
    {
     "name": "stderr",
     "output_type": "stream",
     "text": [
      "t: 100%|██████████| 2/2 [3:52:50<00:00,  2.95it/s, now=None]\n",
      "\n",
      "\n",
      "t: 100%|██████████| 2/2 [01:52<00:00,  6.96it/s, now=None]\n",
      "t: 100%|██████████| 2/2 [3:52:17<00:00,  6.58it/s, now=None]\n",
      "\n",
      "t: 100%|██████████| 2/2 [02:53<00:00,  6.35it/s, now=None]\n",
      "\n",
      "\n",
      "\n",
      "                                                            \n",
      "\n",
      "\n",
      "                                                          \n",
      "                                                            \n",
      "\n",
      "                                                          \n",
      "\n",
      "\n",
      "\n",
      "                                                          \r"
     ]
    },
    {
     "name": "stdout",
     "output_type": "stream",
     "text": [
      "Moviepy - Building video gifs/wiener_deconv\\10_out.mp4.\n"
     ]
    },
    {
     "name": "stderr",
     "output_type": "stream",
     "text": [
      "t: 100%|██████████| 2/2 [3:52:50<00:00,  2.95it/s, now=None]\n",
      "\n",
      "\n",
      "t: 100%|██████████| 2/2 [01:52<00:00,  6.96it/s, now=None]\n",
      "t: 100%|██████████| 2/2 [3:52:17<00:00,  6.58it/s, now=None]\n",
      "\n",
      "t: 100%|██████████| 2/2 [02:53<00:00,  6.35it/s, now=None]\n",
      "\n",
      "\n",
      "\n",
      "                                                            \n",
      "\n",
      "\n",
      "                                                          \n",
      "                                                            \n",
      "\n",
      "                                                          \n",
      "\n",
      "\n",
      "\n",
      "                                                          \r"
     ]
    },
    {
     "name": "stdout",
     "output_type": "stream",
     "text": [
      "Moviepy - Writing video gifs/wiener_deconv\\10_out.mp4\n",
      "\n"
     ]
    },
    {
     "name": "stderr",
     "output_type": "stream",
     "text": [
      "t: 100%|██████████| 2/2 [3:52:50<00:00,  2.95it/s, now=None]\n",
      "\n",
      "\n",
      "t: 100%|██████████| 2/2 [01:52<00:00,  6.96it/s, now=None]\n",
      "t: 100%|██████████| 2/2 [3:52:17<00:00,  6.58it/s, now=None]\n",
      "\n",
      "t: 100%|██████████| 2/2 [02:53<00:00,  6.35it/s, now=None]\n",
      "\n",
      "\n",
      "\n",
      "t: 100%|██████████| 2/2 [00:45<00:00,  7.61it/s, now=None]\n",
      "\n",
      "\n",
      "\n",
      "\n",
      "t:   0%|          | 0/2 [00:00<?, ?it/s, now=None]\n",
      "\n",
      "\n",
      "\n",
      "\n",
      "t: 100%|██████████| 2/2 [00:00<00:00,  7.58it/s, now=None]\n",
      "\n",
      "\n",
      "\n",
      "\n",
      "                                                            \n",
      "\n",
      "\n",
      "                                                          \n",
      "                                                            \n",
      "\n",
      "                                                          \n",
      "\n",
      "\n",
      "\n",
      "                                                          \r"
     ]
    },
    {
     "name": "stdout",
     "output_type": "stream",
     "text": [
      "Moviepy - Done !\n"
     ]
    },
    {
     "name": "stderr",
     "output_type": "stream",
     "text": [
      "t: 100%|██████████| 2/2 [3:52:50<00:00,  2.95it/s, now=None]\n",
      "\n",
      "\n",
      "t: 100%|██████████| 2/2 [01:52<00:00,  6.96it/s, now=None]\n",
      "t: 100%|██████████| 2/2 [3:52:18<00:00,  6.58it/s, now=None]\n",
      "\n",
      "t: 100%|██████████| 2/2 [02:53<00:00,  6.35it/s, now=None]\n",
      "\n",
      "\n",
      "\n",
      "                                                            \n",
      "\n",
      "\n",
      "                                                          \n",
      "                                                            \n",
      "\n",
      "                                                          \n",
      "\n",
      "\n",
      "\n",
      "                                                          \r"
     ]
    },
    {
     "name": "stdout",
     "output_type": "stream",
     "text": [
      "Moviepy - video ready gifs/wiener_deconv\\10_out.mp4\n"
     ]
    },
    {
     "name": "stderr",
     "output_type": "stream",
     "text": [
      "t: 100%|██████████| 2/2 [3:52:50<00:00,  2.95it/s, now=None]\n",
      "\n",
      "\n",
      "t: 100%|██████████| 2/2 [01:52<00:00,  6.96it/s, now=None]\n",
      "t: 100%|██████████| 2/2 [3:52:18<00:00,  6.58it/s, now=None]\n",
      "\n",
      "t: 100%|██████████| 2/2 [02:53<00:00,  6.35it/s, now=None]\n",
      "\n",
      "\n",
      "\n",
      "                                                            \n",
      "\n",
      "\n",
      "                                                          \n",
      "                                                            \n",
      "\n",
      "                                                          \n",
      "\n",
      "\n",
      "\n",
      "                                                          \r"
     ]
    },
    {
     "name": "stdout",
     "output_type": "stream",
     "text": [
      "Moviepy - Building video gifs/blind_deconv\\11_out.mp4.\n"
     ]
    },
    {
     "name": "stderr",
     "output_type": "stream",
     "text": [
      "t: 100%|██████████| 2/2 [3:52:51<00:00,  2.95it/s, now=None]\n",
      "\n",
      "\n",
      "t: 100%|██████████| 2/2 [01:53<00:00,  6.96it/s, now=None]\n",
      "t: 100%|██████████| 2/2 [3:52:18<00:00,  6.58it/s, now=None]\n",
      "\n",
      "t: 100%|██████████| 2/2 [02:54<00:00,  6.35it/s, now=None]\n",
      "\n",
      "\n",
      "\n",
      "                                                            \n",
      "\n",
      "\n",
      "                                                          \n",
      "                                                            \n",
      "\n",
      "                                                          \n",
      "\n",
      "\n",
      "\n",
      "                                                          \r"
     ]
    },
    {
     "name": "stdout",
     "output_type": "stream",
     "text": [
      "Moviepy - Writing video gifs/blind_deconv\\11_out.mp4\n",
      "\n"
     ]
    },
    {
     "name": "stderr",
     "output_type": "stream",
     "text": [
      "t: 100%|██████████| 2/2 [3:52:51<00:00,  2.95it/s, now=None]\n",
      "\n",
      "\n",
      "t: 100%|██████████| 2/2 [01:53<00:00,  6.96it/s, now=None]\n",
      "t: 100%|██████████| 2/2 [3:52:18<00:00,  6.58it/s, now=None]\n",
      "\n",
      "t: 100%|██████████| 2/2 [02:54<00:00,  6.35it/s, now=None]\n",
      "\n",
      "\n",
      "\n",
      "t: 100%|██████████| 2/2 [00:46<00:00,  7.61it/s, now=None]\n",
      "\n",
      "\n",
      "\n",
      "\n",
      "t:   0%|          | 0/2 [00:00<?, ?it/s, now=None]\n",
      "\n",
      "\n",
      "\n",
      "\n",
      "t: 100%|██████████| 2/2 [00:00<00:00,  6.68it/s, now=None]\n",
      "\n",
      "\n",
      "\n",
      "\n",
      "                                                            \n",
      "\n",
      "\n",
      "                                                          \n",
      "                                                            \n",
      "\n",
      "                                                          \n",
      "\n",
      "\n",
      "\n",
      "                                                          \r"
     ]
    },
    {
     "name": "stdout",
     "output_type": "stream",
     "text": [
      "Moviepy - Done !\n"
     ]
    },
    {
     "name": "stderr",
     "output_type": "stream",
     "text": [
      "t: 100%|██████████| 2/2 [3:52:51<00:00,  2.95it/s, now=None]\n",
      "\n",
      "\n",
      "t: 100%|██████████| 2/2 [01:53<00:00,  6.96it/s, now=None]\n",
      "t: 100%|██████████| 2/2 [3:52:18<00:00,  6.58it/s, now=None]\n",
      "\n",
      "t: 100%|██████████| 2/2 [02:54<00:00,  6.35it/s, now=None]\n",
      "\n",
      "\n",
      "\n",
      "                                                            \n",
      "\n",
      "\n",
      "                                                          \n",
      "                                                            \n",
      "\n",
      "                                                          \n",
      "\n",
      "\n",
      "\n",
      "                                                          \r"
     ]
    },
    {
     "name": "stdout",
     "output_type": "stream",
     "text": [
      "Moviepy - video ready gifs/blind_deconv\\11_out.mp4\n"
     ]
    },
    {
     "name": "stderr",
     "output_type": "stream",
     "text": [
      "t: 100%|██████████| 2/2 [3:52:51<00:00,  2.95it/s, now=None]\n",
      "\n",
      "\n",
      "t: 100%|██████████| 2/2 [01:53<00:00,  6.96it/s, now=None]\n",
      "t: 100%|██████████| 2/2 [3:52:18<00:00,  6.58it/s, now=None]\n",
      "\n",
      "t: 100%|██████████| 2/2 [02:54<00:00,  6.35it/s, now=None]\n",
      "\n",
      "\n",
      "\n",
      "                                                            \n",
      "\n",
      "\n",
      "                                                          \n",
      "                                                            \n",
      "\n",
      "                                                          \n",
      "\n",
      "\n",
      "\n",
      "                                                          \r"
     ]
    },
    {
     "name": "stdout",
     "output_type": "stream",
     "text": [
      "Moviepy - Building video gifs/deblur_gan\\11_out.mp4.\n"
     ]
    },
    {
     "name": "stderr",
     "output_type": "stream",
     "text": [
      "t: 100%|██████████| 2/2 [3:52:51<00:00,  2.95it/s, now=None]\n",
      "\n",
      "\n",
      "t: 100%|██████████| 2/2 [01:53<00:00,  6.96it/s, now=None]\n",
      "t: 100%|██████████| 2/2 [3:52:18<00:00,  6.58it/s, now=None]\n",
      "\n",
      "t: 100%|██████████| 2/2 [02:54<00:00,  6.35it/s, now=None]\n",
      "\n",
      "\n",
      "\n",
      "                                                            \n",
      "\n",
      "\n",
      "                                                          \n",
      "                                                            \n",
      "\n",
      "                                                          \n",
      "\n",
      "\n",
      "\n",
      "                                                          \r"
     ]
    },
    {
     "name": "stdout",
     "output_type": "stream",
     "text": [
      "Moviepy - Writing video gifs/deblur_gan\\11_out.mp4\n",
      "\n"
     ]
    },
    {
     "name": "stderr",
     "output_type": "stream",
     "text": [
      "t: 100%|██████████| 2/2 [3:52:51<00:00,  2.95it/s, now=None]\n",
      "\n",
      "\n",
      "t: 100%|██████████| 2/2 [01:53<00:00,  6.96it/s, now=None]\n",
      "t: 100%|██████████| 2/2 [3:52:18<00:00,  6.58it/s, now=None]\n",
      "\n",
      "t: 100%|██████████| 2/2 [02:54<00:00,  6.35it/s, now=None]\n",
      "\n",
      "\n",
      "\n",
      "t: 100%|██████████| 2/2 [00:46<00:00,  7.61it/s, now=None]\n",
      "\n",
      "\n",
      "\n",
      "\n",
      "t:   0%|          | 0/2 [00:00<?, ?it/s, now=None]\n",
      "\n",
      "\n",
      "\n",
      "\n",
      "t: 100%|██████████| 2/2 [00:00<00:00,  7.47it/s, now=None]\n",
      "\n",
      "\n",
      "\n",
      "\n",
      "                                                            \n",
      "\n",
      "\n",
      "                                                          \n",
      "                                                            \n",
      "\n",
      "                                                          \n",
      "\n",
      "\n",
      "\n",
      "                                                          \r"
     ]
    },
    {
     "name": "stdout",
     "output_type": "stream",
     "text": [
      "Moviepy - Done !\n"
     ]
    },
    {
     "name": "stderr",
     "output_type": "stream",
     "text": [
      "t: 100%|██████████| 2/2 [3:52:52<00:00,  2.95it/s, now=None]\n",
      "\n",
      "\n",
      "t: 100%|██████████| 2/2 [01:54<00:00,  6.96it/s, now=None]\n",
      "t: 100%|██████████| 2/2 [3:52:19<00:00,  6.58it/s, now=None]\n",
      "\n",
      "t: 100%|██████████| 2/2 [02:55<00:00,  6.35it/s, now=None]\n",
      "\n",
      "\n",
      "\n",
      "                                                            \n",
      "\n",
      "\n",
      "                                                          \n",
      "                                                            \n",
      "\n",
      "                                                          \n",
      "\n",
      "\n",
      "\n",
      "                                                          \r"
     ]
    },
    {
     "name": "stdout",
     "output_type": "stream",
     "text": [
      "Moviepy - video ready gifs/deblur_gan\\11_out.mp4\n"
     ]
    },
    {
     "name": "stderr",
     "output_type": "stream",
     "text": [
      "t: 100%|██████████| 2/2 [3:52:52<00:00,  2.95it/s, now=None]\n",
      "\n",
      "\n",
      "t: 100%|██████████| 2/2 [01:54<00:00,  6.96it/s, now=None]\n",
      "t: 100%|██████████| 2/2 [3:52:19<00:00,  6.58it/s, now=None]\n",
      "\n",
      "t: 100%|██████████| 2/2 [02:55<00:00,  6.35it/s, now=None]\n",
      "\n",
      "\n",
      "\n",
      "                                                            \n",
      "\n",
      "\n",
      "                                                          \n",
      "                                                            \n",
      "\n",
      "                                                          \n",
      "\n",
      "\n",
      "\n",
      "                                                          \r"
     ]
    },
    {
     "name": "stdout",
     "output_type": "stream",
     "text": [
      "Moviepy - Building video gifs/wiener_deconv\\11_out.mp4.\n"
     ]
    },
    {
     "name": "stderr",
     "output_type": "stream",
     "text": [
      "t: 100%|██████████| 2/2 [3:52:52<00:00,  2.95it/s, now=None]\n",
      "\n",
      "\n",
      "t: 100%|██████████| 2/2 [01:54<00:00,  6.96it/s, now=None]\n",
      "t: 100%|██████████| 2/2 [3:52:19<00:00,  6.58it/s, now=None]\n",
      "\n",
      "t: 100%|██████████| 2/2 [02:55<00:00,  6.35it/s, now=None]\n",
      "\n",
      "\n",
      "\n",
      "                                                            \n",
      "\n",
      "\n",
      "                                                          \n",
      "                                                            \n",
      "\n",
      "                                                          \n",
      "\n",
      "\n",
      "\n",
      "                                                          \r"
     ]
    },
    {
     "name": "stdout",
     "output_type": "stream",
     "text": [
      "Moviepy - Writing video gifs/wiener_deconv\\11_out.mp4\n",
      "\n"
     ]
    },
    {
     "name": "stderr",
     "output_type": "stream",
     "text": [
      "t: 100%|██████████| 2/2 [3:52:52<00:00,  2.95it/s, now=None]\n",
      "\n",
      "\n",
      "t: 100%|██████████| 2/2 [01:54<00:00,  6.96it/s, now=None]\n",
      "t: 100%|██████████| 2/2 [3:52:19<00:00,  6.58it/s, now=None]\n",
      "\n",
      "t: 100%|██████████| 2/2 [02:55<00:00,  6.35it/s, now=None]\n",
      "\n",
      "\n",
      "\n",
      "t: 100%|██████████| 2/2 [00:47<00:00,  7.61it/s, now=None]\n",
      "\n",
      "\n",
      "\n",
      "\n",
      "t:   0%|          | 0/2 [00:00<?, ?it/s, now=None]\n",
      "\n",
      "\n",
      "\n",
      "\n",
      "t: 100%|██████████| 2/2 [00:00<00:00,  7.25it/s, now=None]\n",
      "\n",
      "\n",
      "\n",
      "\n",
      "                                                            \n",
      "\n",
      "\n",
      "                                                          \n",
      "                                                            \n",
      "\n",
      "                                                          \n",
      "\n",
      "\n",
      "\n",
      "                                                          \r"
     ]
    },
    {
     "name": "stdout",
     "output_type": "stream",
     "text": [
      "Moviepy - Done !\n"
     ]
    },
    {
     "name": "stderr",
     "output_type": "stream",
     "text": [
      "t: 100%|██████████| 2/2 [3:52:52<00:00,  2.95it/s, now=None]\n",
      "\n",
      "\n",
      "t: 100%|██████████| 2/2 [01:54<00:00,  6.96it/s, now=None]\n",
      "t: 100%|██████████| 2/2 [3:52:19<00:00,  6.58it/s, now=None]\n",
      "\n",
      "t: 100%|██████████| 2/2 [02:55<00:00,  6.35it/s, now=None]\n",
      "\n",
      "\n",
      "\n",
      "                                                            \n",
      "\n",
      "\n",
      "                                                          \n",
      "                                                            \n",
      "\n",
      "                                                          \n",
      "\n",
      "\n",
      "\n",
      "                                                          \r"
     ]
    },
    {
     "name": "stdout",
     "output_type": "stream",
     "text": [
      "Moviepy - video ready gifs/wiener_deconv\\11_out.mp4\n"
     ]
    },
    {
     "name": "stderr",
     "output_type": "stream",
     "text": [
      "t: 100%|██████████| 2/2 [3:52:52<00:00,  2.95it/s, now=None]\n",
      "\n",
      "\n",
      "t: 100%|██████████| 2/2 [01:54<00:00,  6.96it/s, now=None]\n",
      "t: 100%|██████████| 2/2 [3:52:19<00:00,  6.58it/s, now=None]\n",
      "\n",
      "t: 100%|██████████| 2/2 [02:55<00:00,  6.35it/s, now=None]\n",
      "\n",
      "\n",
      "\n",
      "                                                            \n",
      "\n",
      "\n",
      "                                                          \n",
      "                                                            \n",
      "\n",
      "                                                          \n",
      "\n",
      "\n",
      "\n",
      "                                                          \r"
     ]
    },
    {
     "name": "stdout",
     "output_type": "stream",
     "text": [
      "Moviepy - Building video gifs/blind_deconv\\12_out.mp4.\n"
     ]
    },
    {
     "name": "stderr",
     "output_type": "stream",
     "text": [
      "t: 100%|██████████| 2/2 [3:52:53<00:00,  2.95it/s, now=None]\n",
      "\n",
      "\n",
      "t: 100%|██████████| 2/2 [01:54<00:00,  6.96it/s, now=None]\n",
      "t: 100%|██████████| 2/2 [3:52:20<00:00,  6.58it/s, now=None]\n",
      "\n",
      "t: 100%|██████████| 2/2 [02:56<00:00,  6.35it/s, now=None]\n",
      "\n",
      "\n",
      "\n",
      "                                                            \n",
      "\n",
      "\n",
      "                                                          \n",
      "                                                            \n",
      "\n",
      "                                                          \n",
      "\n",
      "\n",
      "\n",
      "                                                          \r"
     ]
    },
    {
     "name": "stdout",
     "output_type": "stream",
     "text": [
      "Moviepy - Writing video gifs/blind_deconv\\12_out.mp4\n",
      "\n"
     ]
    },
    {
     "name": "stderr",
     "output_type": "stream",
     "text": [
      "t: 100%|██████████| 2/2 [3:52:53<00:00,  2.95it/s, now=None]\n",
      "\n",
      "\n",
      "t: 100%|██████████| 2/2 [01:54<00:00,  6.96it/s, now=None]\n",
      "t: 100%|██████████| 2/2 [3:52:20<00:00,  6.58it/s, now=None]\n",
      "\n",
      "t: 100%|██████████| 2/2 [02:56<00:00,  6.35it/s, now=None]\n",
      "\n",
      "\n",
      "\n",
      "t: 100%|██████████| 2/2 [00:48<00:00,  7.61it/s, now=None]\n",
      "\n",
      "\n",
      "\n",
      "\n",
      "t:   0%|          | 0/2 [00:00<?, ?it/s, now=None]\n",
      "\n",
      "\n",
      "\n",
      "\n",
      "t: 100%|██████████| 2/2 [00:00<00:00,  7.40it/s, now=None]\n",
      "\n",
      "\n",
      "\n",
      "\n",
      "                                                            \n",
      "\n",
      "\n",
      "                                                          \n",
      "                                                            \n",
      "\n",
      "                                                          \n",
      "\n",
      "\n",
      "\n",
      "                                                          \r"
     ]
    },
    {
     "name": "stdout",
     "output_type": "stream",
     "text": [
      "Moviepy - Done !\n"
     ]
    },
    {
     "name": "stderr",
     "output_type": "stream",
     "text": [
      "t: 100%|██████████| 2/2 [3:52:53<00:00,  2.95it/s, now=None]\n",
      "\n",
      "\n",
      "t: 100%|██████████| 2/2 [01:55<00:00,  6.96it/s, now=None]\n",
      "t: 100%|██████████| 2/2 [3:52:20<00:00,  6.58it/s, now=None]\n",
      "\n",
      "t: 100%|██████████| 2/2 [02:56<00:00,  6.35it/s, now=None]\n",
      "\n",
      "\n",
      "\n",
      "                                                            \n",
      "\n",
      "\n",
      "                                                          \n",
      "                                                            \n",
      "\n",
      "                                                          \n",
      "\n",
      "\n",
      "\n",
      "                                                          \r"
     ]
    },
    {
     "name": "stdout",
     "output_type": "stream",
     "text": [
      "Moviepy - video ready gifs/blind_deconv\\12_out.mp4\n"
     ]
    },
    {
     "name": "stderr",
     "output_type": "stream",
     "text": [
      "t: 100%|██████████| 2/2 [3:52:53<00:00,  2.95it/s, now=None]\n",
      "\n",
      "\n",
      "t: 100%|██████████| 2/2 [01:55<00:00,  6.96it/s, now=None]\n",
      "t: 100%|██████████| 2/2 [3:52:20<00:00,  6.58it/s, now=None]\n",
      "\n",
      "t: 100%|██████████| 2/2 [02:56<00:00,  6.35it/s, now=None]\n",
      "\n",
      "\n",
      "\n",
      "                                                            \n",
      "\n",
      "\n",
      "                                                          \n",
      "                                                            \n",
      "\n",
      "                                                          \n",
      "\n",
      "\n",
      "\n",
      "                                                          \r"
     ]
    },
    {
     "name": "stdout",
     "output_type": "stream",
     "text": [
      "Moviepy - Building video gifs/deblur_gan\\12_out.mp4.\n"
     ]
    },
    {
     "name": "stderr",
     "output_type": "stream",
     "text": [
      "t: 100%|██████████| 2/2 [3:52:53<00:00,  2.95it/s, now=None]\n",
      "\n",
      "\n",
      "t: 100%|██████████| 2/2 [01:55<00:00,  6.96it/s, now=None]\n",
      "t: 100%|██████████| 2/2 [3:52:20<00:00,  6.58it/s, now=None]\n",
      "\n",
      "t: 100%|██████████| 2/2 [02:56<00:00,  6.35it/s, now=None]\n",
      "\n",
      "\n",
      "\n",
      "                                                            \n",
      "\n",
      "\n",
      "                                                          \n",
      "                                                            \n",
      "\n",
      "                                                          \n",
      "\n",
      "\n",
      "\n",
      "                                                          \r"
     ]
    },
    {
     "name": "stdout",
     "output_type": "stream",
     "text": [
      "Moviepy - Writing video gifs/deblur_gan\\12_out.mp4\n",
      "\n"
     ]
    },
    {
     "name": "stderr",
     "output_type": "stream",
     "text": [
      "t: 100%|██████████| 2/2 [3:52:53<00:00,  2.95it/s, now=None]\n",
      "\n",
      "\n",
      "t: 100%|██████████| 2/2 [01:55<00:00,  6.96it/s, now=None]\n",
      "t: 100%|██████████| 2/2 [3:52:20<00:00,  6.58it/s, now=None]\n",
      "\n",
      "t: 100%|██████████| 2/2 [02:56<00:00,  6.35it/s, now=None]\n",
      "\n",
      "\n",
      "\n",
      "t: 100%|██████████| 2/2 [00:48<00:00,  7.61it/s, now=None]\n",
      "\n",
      "\n",
      "\n",
      "\n",
      "t:   0%|          | 0/2 [00:00<?, ?it/s, now=None]\n",
      "\n",
      "\n",
      "\n",
      "\n",
      "t: 100%|██████████| 2/2 [00:00<00:00,  7.46it/s, now=None]\n",
      "\n",
      "\n",
      "\n",
      "\n",
      "                                                            \n",
      "\n",
      "\n",
      "                                                          \n",
      "                                                            \n",
      "\n",
      "                                                          \n",
      "\n",
      "\n",
      "\n",
      "                                                          \r"
     ]
    },
    {
     "name": "stdout",
     "output_type": "stream",
     "text": [
      "Moviepy - Done !\n"
     ]
    },
    {
     "name": "stderr",
     "output_type": "stream",
     "text": [
      "t: 100%|██████████| 2/2 [3:52:54<00:00,  2.95it/s, now=None]\n",
      "\n",
      "\n",
      "t: 100%|██████████| 2/2 [01:55<00:00,  6.96it/s, now=None]\n",
      "t: 100%|██████████| 2/2 [3:52:21<00:00,  6.58it/s, now=None]\n",
      "\n",
      "t: 100%|██████████| 2/2 [02:57<00:00,  6.35it/s, now=None]\n",
      "\n",
      "\n",
      "\n",
      "                                                            \n",
      "\n",
      "\n",
      "                                                          \n",
      "                                                            \n",
      "\n",
      "                                                          \n",
      "\n",
      "\n",
      "\n",
      "                                                          \r"
     ]
    },
    {
     "name": "stdout",
     "output_type": "stream",
     "text": [
      "Moviepy - video ready gifs/deblur_gan\\12_out.mp4\n"
     ]
    },
    {
     "name": "stderr",
     "output_type": "stream",
     "text": [
      "t: 100%|██████████| 2/2 [3:52:54<00:00,  2.95it/s, now=None]\n",
      "\n",
      "\n",
      "t: 100%|██████████| 2/2 [01:55<00:00,  6.96it/s, now=None]\n",
      "t: 100%|██████████| 2/2 [3:52:21<00:00,  6.58it/s, now=None]\n",
      "\n",
      "t: 100%|██████████| 2/2 [02:57<00:00,  6.35it/s, now=None]\n",
      "\n",
      "\n",
      "\n",
      "                                                            \n",
      "\n",
      "\n",
      "                                                          \n",
      "                                                            \n",
      "\n",
      "                                                          \n",
      "\n",
      "\n",
      "\n",
      "                                                          \r"
     ]
    },
    {
     "name": "stdout",
     "output_type": "stream",
     "text": [
      "Moviepy - Building video gifs/wiener_deconv\\12_out.mp4.\n"
     ]
    },
    {
     "name": "stderr",
     "output_type": "stream",
     "text": [
      "t: 100%|██████████| 2/2 [3:52:54<00:00,  2.95it/s, now=None]\n",
      "\n",
      "\n",
      "t: 100%|██████████| 2/2 [01:55<00:00,  6.96it/s, now=None]\n",
      "t: 100%|██████████| 2/2 [3:52:21<00:00,  6.58it/s, now=None]\n",
      "\n",
      "t: 100%|██████████| 2/2 [02:57<00:00,  6.35it/s, now=None]\n",
      "\n",
      "\n",
      "\n",
      "                                                            \n",
      "\n",
      "\n",
      "                                                          \n",
      "                                                            \n",
      "\n",
      "                                                          \n",
      "\n",
      "\n",
      "\n",
      "                                                          \r"
     ]
    },
    {
     "name": "stdout",
     "output_type": "stream",
     "text": [
      "Moviepy - Writing video gifs/wiener_deconv\\12_out.mp4\n",
      "\n"
     ]
    },
    {
     "name": "stderr",
     "output_type": "stream",
     "text": [
      "t: 100%|██████████| 2/2 [3:52:54<00:00,  2.95it/s, now=None]\n",
      "\n",
      "\n",
      "t: 100%|██████████| 2/2 [01:56<00:00,  6.96it/s, now=None]\n",
      "t: 100%|██████████| 2/2 [3:52:21<00:00,  6.58it/s, now=None]\n",
      "\n",
      "t: 100%|██████████| 2/2 [02:57<00:00,  6.35it/s, now=None]\n",
      "\n",
      "\n",
      "\n",
      "t: 100%|██████████| 2/2 [00:49<00:00,  7.61it/s, now=None]\n",
      "\n",
      "\n",
      "\n",
      "\n",
      "t:   0%|          | 0/2 [00:00<?, ?it/s, now=None]\n",
      "\n",
      "\n",
      "\n",
      "\n",
      "t: 100%|██████████| 2/2 [00:00<00:00,  7.54it/s, now=None]\n",
      "\n",
      "\n",
      "\n",
      "\n",
      "                                                            \n",
      "\n",
      "\n",
      "                                                          \n",
      "                                                            \n",
      "\n",
      "                                                          \n",
      "\n",
      "\n",
      "\n",
      "                                                          \r"
     ]
    },
    {
     "name": "stdout",
     "output_type": "stream",
     "text": [
      "Moviepy - Done !\n"
     ]
    },
    {
     "name": "stderr",
     "output_type": "stream",
     "text": [
      "t: 100%|██████████| 2/2 [3:52:54<00:00,  2.95it/s, now=None]\n",
      "\n",
      "\n",
      "t: 100%|██████████| 2/2 [01:56<00:00,  6.96it/s, now=None]\n",
      "t: 100%|██████████| 2/2 [3:52:21<00:00,  6.58it/s, now=None]\n",
      "\n",
      "t: 100%|██████████| 2/2 [02:57<00:00,  6.35it/s, now=None]\n",
      "\n",
      "\n",
      "\n",
      "                                                            \n",
      "\n",
      "\n",
      "                                                          \n",
      "                                                            \n",
      "\n",
      "                                                          \n",
      "\n",
      "\n",
      "\n",
      "                                                          \r"
     ]
    },
    {
     "name": "stdout",
     "output_type": "stream",
     "text": [
      "Moviepy - video ready gifs/wiener_deconv\\12_out.mp4\n"
     ]
    },
    {
     "name": "stderr",
     "output_type": "stream",
     "text": [
      "t: 100%|██████████| 2/2 [3:52:54<00:00,  2.95it/s, now=None]\n",
      "\n",
      "\n",
      "t: 100%|██████████| 2/2 [01:56<00:00,  6.96it/s, now=None]\n",
      "t: 100%|██████████| 2/2 [3:52:21<00:00,  6.58it/s, now=None]\n",
      "\n",
      "t: 100%|██████████| 2/2 [02:57<00:00,  6.35it/s, now=None]\n",
      "\n",
      "\n",
      "\n",
      "                                                            \n",
      "\n",
      "\n",
      "                                                          \n",
      "                                                            \n",
      "\n",
      "                                                          \n",
      "\n",
      "\n",
      "\n",
      "                                                          \r"
     ]
    },
    {
     "name": "stdout",
     "output_type": "stream",
     "text": [
      "Moviepy - Building video gifs/blind_deconv\\13_out.mp4.\n"
     ]
    },
    {
     "name": "stderr",
     "output_type": "stream",
     "text": [
      "t: 100%|██████████| 2/2 [3:52:54<00:00,  2.95it/s, now=None]\n",
      "\n",
      "\n",
      "t: 100%|██████████| 2/2 [01:56<00:00,  6.96it/s, now=None]\n",
      "t: 100%|██████████| 2/2 [3:52:22<00:00,  6.58it/s, now=None]\n",
      "\n",
      "t: 100%|██████████| 2/2 [02:57<00:00,  6.35it/s, now=None]\n",
      "\n",
      "\n",
      "\n",
      "                                                            \n",
      "\n",
      "\n",
      "                                                          \n",
      "                                                            \n",
      "\n",
      "                                                          \n",
      "\n",
      "\n",
      "\n",
      "                                                          \r"
     ]
    },
    {
     "name": "stdout",
     "output_type": "stream",
     "text": [
      "Moviepy - Writing video gifs/blind_deconv\\13_out.mp4\n",
      "\n"
     ]
    },
    {
     "name": "stderr",
     "output_type": "stream",
     "text": [
      "t: 100%|██████████| 2/2 [3:52:54<00:00,  2.95it/s, now=None]\n",
      "\n",
      "\n",
      "t: 100%|██████████| 2/2 [01:56<00:00,  6.96it/s, now=None]\n",
      "t: 100%|██████████| 2/2 [3:52:22<00:00,  6.58it/s, now=None]\n",
      "\n",
      "t: 100%|██████████| 2/2 [02:57<00:00,  6.35it/s, now=None]\n",
      "\n",
      "\n",
      "\n",
      "t: 100%|██████████| 2/2 [00:49<00:00,  7.61it/s, now=None]\n",
      "\n",
      "\n",
      "\n",
      "\n",
      "t:   0%|          | 0/2 [00:00<?, ?it/s, now=None]\n",
      "\n",
      "\n",
      "\n",
      "\n",
      "t: 100%|██████████| 2/2 [00:00<00:00,  7.43it/s, now=None]\n",
      "\n",
      "\n",
      "\n",
      "\n",
      "                                                            \n",
      "\n",
      "\n",
      "                                                          \n",
      "                                                            \n",
      "\n",
      "                                                          \n",
      "\n",
      "\n",
      "\n",
      "                                                          \r"
     ]
    },
    {
     "name": "stdout",
     "output_type": "stream",
     "text": [
      "Moviepy - Done !\n"
     ]
    },
    {
     "name": "stderr",
     "output_type": "stream",
     "text": [
      "t: 100%|██████████| 2/2 [3:52:55<00:00,  2.95it/s, now=None]\n",
      "\n",
      "\n",
      "t: 100%|██████████| 2/2 [01:57<00:00,  6.96it/s, now=None]\n",
      "t: 100%|██████████| 2/2 [3:52:22<00:00,  6.58it/s, now=None]\n",
      "\n",
      "t: 100%|██████████| 2/2 [02:58<00:00,  6.35it/s, now=None]\n",
      "\n",
      "\n",
      "\n",
      "                                                            \n",
      "\n",
      "\n",
      "                                                          \n",
      "                                                            \n",
      "\n",
      "                                                          \n",
      "\n",
      "\n",
      "\n",
      "                                                          \r"
     ]
    },
    {
     "name": "stdout",
     "output_type": "stream",
     "text": [
      "Moviepy - video ready gifs/blind_deconv\\13_out.mp4\n"
     ]
    },
    {
     "name": "stderr",
     "output_type": "stream",
     "text": [
      "t: 100%|██████████| 2/2 [3:52:55<00:00,  2.95it/s, now=None]\n",
      "\n",
      "\n",
      "t: 100%|██████████| 2/2 [01:57<00:00,  6.96it/s, now=None]\n",
      "t: 100%|██████████| 2/2 [3:52:22<00:00,  6.58it/s, now=None]\n",
      "\n",
      "t: 100%|██████████| 2/2 [02:58<00:00,  6.35it/s, now=None]\n",
      "\n",
      "\n",
      "\n",
      "                                                            \n",
      "\n",
      "\n",
      "                                                          \n",
      "                                                            \n",
      "\n",
      "                                                          \n",
      "\n",
      "\n",
      "\n",
      "                                                          \r"
     ]
    },
    {
     "name": "stdout",
     "output_type": "stream",
     "text": [
      "Moviepy - Building video gifs/deblur_gan\\13_out.mp4.\n"
     ]
    },
    {
     "name": "stderr",
     "output_type": "stream",
     "text": [
      "t: 100%|██████████| 2/2 [3:52:55<00:00,  2.95it/s, now=None]\n",
      "\n",
      "\n",
      "t: 100%|██████████| 2/2 [01:57<00:00,  6.96it/s, now=None]\n",
      "t: 100%|██████████| 2/2 [3:52:22<00:00,  6.58it/s, now=None]\n",
      "\n",
      "t: 100%|██████████| 2/2 [02:58<00:00,  6.35it/s, now=None]\n",
      "\n",
      "\n",
      "\n",
      "                                                            \n",
      "\n",
      "\n",
      "                                                          \n",
      "                                                            \n",
      "\n",
      "                                                          \n",
      "\n",
      "\n",
      "\n",
      "                                                          \r"
     ]
    },
    {
     "name": "stdout",
     "output_type": "stream",
     "text": [
      "Moviepy - Writing video gifs/deblur_gan\\13_out.mp4\n",
      "\n"
     ]
    },
    {
     "name": "stderr",
     "output_type": "stream",
     "text": [
      "t: 100%|██████████| 2/2 [3:52:55<00:00,  2.95it/s, now=None]\n",
      "\n",
      "\n",
      "t: 100%|██████████| 2/2 [01:57<00:00,  6.96it/s, now=None]\n",
      "t: 100%|██████████| 2/2 [3:52:22<00:00,  6.58it/s, now=None]\n",
      "\n",
      "t: 100%|██████████| 2/2 [02:58<00:00,  6.35it/s, now=None]\n",
      "\n",
      "\n",
      "\n",
      "t: 100%|██████████| 2/2 [00:50<00:00,  7.61it/s, now=None]\n",
      "\n",
      "\n",
      "\n",
      "\n",
      "t:   0%|          | 0/2 [00:00<?, ?it/s, now=None]\n",
      "\n",
      "\n",
      "\n",
      "\n",
      "t: 100%|██████████| 2/2 [00:00<00:00,  7.86it/s, now=None]\n",
      "\n",
      "\n",
      "\n",
      "\n",
      "                                                            \n",
      "\n",
      "\n",
      "                                                          \n",
      "                                                            \n",
      "\n",
      "                                                          \n",
      "\n",
      "\n",
      "\n",
      "                                                          \r"
     ]
    },
    {
     "name": "stdout",
     "output_type": "stream",
     "text": [
      "Moviepy - Done !\n"
     ]
    },
    {
     "name": "stderr",
     "output_type": "stream",
     "text": [
      "t: 100%|██████████| 2/2 [3:52:55<00:00,  2.95it/s, now=None]\n",
      "\n",
      "\n",
      "t: 100%|██████████| 2/2 [01:57<00:00,  6.96it/s, now=None]\n",
      "t: 100%|██████████| 2/2 [3:52:23<00:00,  6.58it/s, now=None]\n",
      "\n",
      "t: 100%|██████████| 2/2 [02:58<00:00,  6.35it/s, now=None]\n",
      "\n",
      "\n",
      "\n",
      "                                                            \n",
      "\n",
      "\n",
      "                                                          \n",
      "                                                            \n",
      "\n",
      "                                                          \n",
      "\n",
      "\n",
      "\n",
      "                                                          \r"
     ]
    },
    {
     "name": "stdout",
     "output_type": "stream",
     "text": [
      "Moviepy - video ready gifs/deblur_gan\\13_out.mp4\n"
     ]
    },
    {
     "name": "stderr",
     "output_type": "stream",
     "text": [
      "t: 100%|██████████| 2/2 [3:52:56<00:00,  2.95it/s, now=None]\n",
      "\n",
      "\n",
      "t: 100%|██████████| 2/2 [01:57<00:00,  6.96it/s, now=None]\n",
      "t: 100%|██████████| 2/2 [3:52:23<00:00,  6.58it/s, now=None]\n",
      "\n",
      "t: 100%|██████████| 2/2 [02:58<00:00,  6.35it/s, now=None]\n",
      "\n",
      "\n",
      "\n",
      "                                                            \n",
      "\n",
      "\n",
      "                                                          \n",
      "                                                            \n",
      "\n",
      "                                                          \n",
      "\n",
      "\n",
      "\n",
      "                                                          \r"
     ]
    },
    {
     "name": "stdout",
     "output_type": "stream",
     "text": [
      "Moviepy - Building video gifs/wiener_deconv\\13_out.mp4.\n"
     ]
    },
    {
     "name": "stderr",
     "output_type": "stream",
     "text": [
      "t: 100%|██████████| 2/2 [3:52:56<00:00,  2.95it/s, now=None]\n",
      "\n",
      "\n",
      "t: 100%|██████████| 2/2 [01:57<00:00,  6.96it/s, now=None]\n",
      "t: 100%|██████████| 2/2 [3:52:23<00:00,  6.58it/s, now=None]\n",
      "\n",
      "t: 100%|██████████| 2/2 [02:58<00:00,  6.35it/s, now=None]\n",
      "\n",
      "\n",
      "\n",
      "                                                            \n",
      "\n",
      "\n",
      "                                                          \n",
      "                                                            \n",
      "\n",
      "                                                          \n",
      "\n",
      "\n",
      "\n",
      "                                                          \r"
     ]
    },
    {
     "name": "stdout",
     "output_type": "stream",
     "text": [
      "Moviepy - Writing video gifs/wiener_deconv\\13_out.mp4\n",
      "\n"
     ]
    },
    {
     "name": "stderr",
     "output_type": "stream",
     "text": [
      "t: 100%|██████████| 2/2 [3:52:56<00:00,  2.95it/s, now=None]\n",
      "\n",
      "\n",
      "t: 100%|██████████| 2/2 [01:57<00:00,  6.96it/s, now=None]\n",
      "t: 100%|██████████| 2/2 [3:52:23<00:00,  6.58it/s, now=None]\n",
      "\n",
      "t: 100%|██████████| 2/2 [02:58<00:00,  6.35it/s, now=None]\n",
      "\n",
      "\n",
      "\n",
      "t: 100%|██████████| 2/2 [00:50<00:00,  7.61it/s, now=None]\n",
      "\n",
      "\n",
      "\n",
      "\n",
      "t:   0%|          | 0/2 [00:00<?, ?it/s, now=None]\n",
      "\n",
      "\n",
      "\n",
      "\n",
      "t: 100%|██████████| 2/2 [00:00<00:00,  7.01it/s, now=None]\n",
      "\n",
      "\n",
      "\n",
      "\n",
      "                                                            \n",
      "\n",
      "\n",
      "                                                          \n",
      "                                                            \n",
      "\n",
      "                                                          \n",
      "\n",
      "\n",
      "\n",
      "                                                          \r"
     ]
    },
    {
     "name": "stdout",
     "output_type": "stream",
     "text": [
      "Moviepy - Done !\n"
     ]
    },
    {
     "name": "stderr",
     "output_type": "stream",
     "text": [
      "t: 100%|██████████| 2/2 [3:52:56<00:00,  2.95it/s, now=None]\n",
      "\n",
      "\n",
      "t: 100%|██████████| 2/2 [01:58<00:00,  6.96it/s, now=None]\n",
      "t: 100%|██████████| 2/2 [3:52:23<00:00,  6.58it/s, now=None]\n",
      "\n",
      "t: 100%|██████████| 2/2 [02:59<00:00,  6.35it/s, now=None]\n",
      "\n",
      "\n",
      "\n",
      "                                                            \n",
      "\n",
      "\n",
      "                                                          \n",
      "                                                            \n",
      "\n",
      "                                                          \n",
      "\n",
      "\n",
      "\n",
      "                                                          \r"
     ]
    },
    {
     "name": "stdout",
     "output_type": "stream",
     "text": [
      "Moviepy - video ready gifs/wiener_deconv\\13_out.mp4\n"
     ]
    },
    {
     "name": "stderr",
     "output_type": "stream",
     "text": [
      "t: 100%|██████████| 2/2 [3:52:56<00:00,  2.95it/s, now=None]\n",
      "\n",
      "\n",
      "t: 100%|██████████| 2/2 [01:58<00:00,  6.96it/s, now=None]\n",
      "t: 100%|██████████| 2/2 [3:52:23<00:00,  6.58it/s, now=None]\n",
      "\n",
      "t: 100%|██████████| 2/2 [02:59<00:00,  6.35it/s, now=None]\n",
      "\n",
      "\n",
      "\n",
      "                                                            \n",
      "\n",
      "\n",
      "                                                          \n",
      "                                                            \n",
      "\n",
      "                                                          \n",
      "\n",
      "\n",
      "\n",
      "                                                          \r"
     ]
    },
    {
     "name": "stdout",
     "output_type": "stream",
     "text": [
      "Moviepy - Building video gifs/blind_deconv\\14_out.mp4.\n"
     ]
    },
    {
     "name": "stderr",
     "output_type": "stream",
     "text": [
      "t: 100%|██████████| 2/2 [3:52:56<00:00,  2.95it/s, now=None]\n",
      "\n",
      "\n",
      "t: 100%|██████████| 2/2 [01:58<00:00,  6.96it/s, now=None]\n",
      "t: 100%|██████████| 2/2 [3:52:23<00:00,  6.58it/s, now=None]\n",
      "\n",
      "t: 100%|██████████| 2/2 [02:59<00:00,  6.35it/s, now=None]\n",
      "\n",
      "\n",
      "\n",
      "                                                            \n",
      "\n",
      "\n",
      "                                                          \n",
      "                                                            \n",
      "\n",
      "                                                          \n",
      "\n",
      "\n",
      "\n",
      "                                                          \r"
     ]
    },
    {
     "name": "stdout",
     "output_type": "stream",
     "text": [
      "Moviepy - Writing video gifs/blind_deconv\\14_out.mp4\n",
      "\n"
     ]
    },
    {
     "name": "stderr",
     "output_type": "stream",
     "text": [
      "t: 100%|██████████| 2/2 [3:52:56<00:00,  2.95it/s, now=None]\n",
      "\n",
      "\n",
      "t: 100%|██████████| 2/2 [01:58<00:00,  6.96it/s, now=None]\n",
      "t: 100%|██████████| 2/2 [3:52:24<00:00,  6.58it/s, now=None]\n",
      "\n",
      "t: 100%|██████████| 2/2 [02:59<00:00,  6.35it/s, now=None]\n",
      "\n",
      "\n",
      "\n",
      "t: 100%|██████████| 2/2 [00:51<00:00,  7.61it/s, now=None]\n",
      "\n",
      "\n",
      "\n",
      "\n",
      "t:   0%|          | 0/2 [00:00<?, ?it/s, now=None]\n",
      "\n",
      "\n",
      "\n",
      "\n",
      "t: 100%|██████████| 2/2 [00:00<00:00,  6.63it/s, now=None]\n",
      "\n",
      "\n",
      "\n",
      "\n",
      "                                                            \n",
      "\n",
      "\n",
      "                                                          \n",
      "                                                            \n",
      "\n",
      "                                                          \n",
      "\n",
      "\n",
      "\n",
      "                                                          \r"
     ]
    },
    {
     "name": "stdout",
     "output_type": "stream",
     "text": [
      "Moviepy - Done !\n"
     ]
    },
    {
     "name": "stderr",
     "output_type": "stream",
     "text": [
      "t: 100%|██████████| 2/2 [3:52:57<00:00,  2.95it/s, now=None]\n",
      "\n",
      "\n",
      "t: 100%|██████████| 2/2 [01:59<00:00,  6.96it/s, now=None]\n",
      "t: 100%|██████████| 2/2 [3:52:24<00:00,  6.58it/s, now=None]\n",
      "\n",
      "t: 100%|██████████| 2/2 [03:00<00:00,  6.35it/s, now=None]\n",
      "\n",
      "\n",
      "\n",
      "                                                            \n",
      "\n",
      "\n",
      "                                                          \n",
      "                                                            \n",
      "\n",
      "                                                          \n",
      "\n",
      "\n",
      "\n",
      "                                                          \r"
     ]
    },
    {
     "name": "stdout",
     "output_type": "stream",
     "text": [
      "Moviepy - video ready gifs/blind_deconv\\14_out.mp4\n"
     ]
    },
    {
     "name": "stderr",
     "output_type": "stream",
     "text": [
      "t: 100%|██████████| 2/2 [3:52:57<00:00,  2.95it/s, now=None]\n",
      "\n",
      "\n",
      "t: 100%|██████████| 2/2 [01:59<00:00,  6.96it/s, now=None]\n",
      "t: 100%|██████████| 2/2 [3:52:24<00:00,  6.58it/s, now=None]\n",
      "\n",
      "t: 100%|██████████| 2/2 [03:00<00:00,  6.35it/s, now=None]\n",
      "\n",
      "\n",
      "\n",
      "                                                            \n",
      "\n",
      "\n",
      "                                                          \n",
      "                                                            \n",
      "\n",
      "                                                          \n",
      "\n",
      "\n",
      "\n",
      "                                                          \r"
     ]
    },
    {
     "name": "stdout",
     "output_type": "stream",
     "text": [
      "Moviepy - Building video gifs/deblur_gan\\14_out.mp4.\n"
     ]
    },
    {
     "name": "stderr",
     "output_type": "stream",
     "text": [
      "t: 100%|██████████| 2/2 [3:52:57<00:00,  2.95it/s, now=None]\n",
      "\n",
      "\n",
      "t: 100%|██████████| 2/2 [01:59<00:00,  6.96it/s, now=None]\n",
      "t: 100%|██████████| 2/2 [3:52:24<00:00,  6.58it/s, now=None]\n",
      "\n",
      "t: 100%|██████████| 2/2 [03:00<00:00,  6.35it/s, now=None]\n",
      "\n",
      "\n",
      "\n",
      "                                                            \n",
      "\n",
      "\n",
      "                                                          \n",
      "                                                            \n",
      "\n",
      "                                                          \n",
      "\n",
      "\n",
      "\n",
      "                                                          \r"
     ]
    },
    {
     "name": "stdout",
     "output_type": "stream",
     "text": [
      "Moviepy - Writing video gifs/deblur_gan\\14_out.mp4\n",
      "\n"
     ]
    },
    {
     "name": "stderr",
     "output_type": "stream",
     "text": [
      "t: 100%|██████████| 2/2 [3:52:57<00:00,  2.95it/s, now=None]\n",
      "\n",
      "\n",
      "t: 100%|██████████| 2/2 [01:59<00:00,  6.96it/s, now=None]\n",
      "t: 100%|██████████| 2/2 [3:52:24<00:00,  6.58it/s, now=None]\n",
      "\n",
      "t: 100%|██████████| 2/2 [03:00<00:00,  6.35it/s, now=None]\n",
      "\n",
      "\n",
      "\n",
      "t: 100%|██████████| 2/2 [00:52<00:00,  7.61it/s, now=None]\n",
      "\n",
      "\n",
      "\n",
      "\n",
      "t:   0%|          | 0/2 [00:00<?, ?it/s, now=None]\n",
      "\n",
      "\n",
      "\n",
      "\n",
      "t: 100%|██████████| 2/2 [00:00<00:00,  7.34it/s, now=None]\n",
      "\n",
      "\n",
      "\n",
      "\n",
      "                                                            \n",
      "\n",
      "\n",
      "                                                          \n",
      "                                                            \n",
      "\n",
      "                                                          \n",
      "\n",
      "\n",
      "\n",
      "                                                          \r"
     ]
    },
    {
     "name": "stdout",
     "output_type": "stream",
     "text": [
      "Moviepy - Done !\n"
     ]
    },
    {
     "name": "stderr",
     "output_type": "stream",
     "text": [
      "t: 100%|██████████| 2/2 [3:52:57<00:00,  2.95it/s, now=None]\n",
      "\n",
      "\n",
      "t: 100%|██████████| 2/2 [01:59<00:00,  6.96it/s, now=None]\n",
      "t: 100%|██████████| 2/2 [3:52:25<00:00,  6.58it/s, now=None]\n",
      "\n",
      "t: 100%|██████████| 2/2 [03:00<00:00,  6.35it/s, now=None]\n",
      "\n",
      "\n",
      "\n",
      "                                                            \n",
      "\n",
      "\n",
      "                                                          \n",
      "                                                            \n",
      "\n",
      "                                                          \n",
      "\n",
      "\n",
      "\n",
      "                                                          \r"
     ]
    },
    {
     "name": "stdout",
     "output_type": "stream",
     "text": [
      "Moviepy - video ready gifs/deblur_gan\\14_out.mp4\n"
     ]
    },
    {
     "name": "stderr",
     "output_type": "stream",
     "text": [
      "t: 100%|██████████| 2/2 [3:52:57<00:00,  2.95it/s, now=None]\n",
      "\n",
      "\n",
      "t: 100%|██████████| 2/2 [01:59<00:00,  6.96it/s, now=None]\n",
      "t: 100%|██████████| 2/2 [3:52:25<00:00,  6.58it/s, now=None]\n",
      "\n",
      "t: 100%|██████████| 2/2 [03:00<00:00,  6.35it/s, now=None]\n",
      "\n",
      "\n",
      "\n",
      "                                                            \n",
      "\n",
      "\n",
      "                                                          \n",
      "                                                            \n",
      "\n",
      "                                                          \n",
      "\n",
      "\n",
      "\n",
      "                                                          \r"
     ]
    },
    {
     "name": "stdout",
     "output_type": "stream",
     "text": [
      "Moviepy - Building video gifs/wiener_deconv\\14_out.mp4.\n"
     ]
    },
    {
     "name": "stderr",
     "output_type": "stream",
     "text": [
      "t: 100%|██████████| 2/2 [3:52:57<00:00,  2.95it/s, now=None]\n",
      "\n",
      "\n",
      "t: 100%|██████████| 2/2 [01:59<00:00,  6.96it/s, now=None]\n",
      "t: 100%|██████████| 2/2 [3:52:25<00:00,  6.58it/s, now=None]\n",
      "\n",
      "t: 100%|██████████| 2/2 [03:00<00:00,  6.35it/s, now=None]\n",
      "\n",
      "\n",
      "\n",
      "                                                            \n",
      "\n",
      "\n",
      "                                                          \n",
      "                                                            \n",
      "\n",
      "                                                          \n",
      "\n",
      "\n",
      "\n",
      "                                                          \r"
     ]
    },
    {
     "name": "stdout",
     "output_type": "stream",
     "text": [
      "Moviepy - Writing video gifs/wiener_deconv\\14_out.mp4\n",
      "\n"
     ]
    },
    {
     "name": "stderr",
     "output_type": "stream",
     "text": [
      "t: 100%|██████████| 2/2 [3:52:58<00:00,  2.95it/s, now=None]\n",
      "\n",
      "\n",
      "t: 100%|██████████| 2/2 [01:59<00:00,  6.96it/s, now=None]\n",
      "t: 100%|██████████| 2/2 [3:52:25<00:00,  6.58it/s, now=None]\n",
      "\n",
      "t: 100%|██████████| 2/2 [03:00<00:00,  6.35it/s, now=None]\n",
      "\n",
      "\n",
      "\n",
      "t: 100%|██████████| 2/2 [00:52<00:00,  7.61it/s, now=None]\n",
      "\n",
      "\n",
      "\n",
      "\n",
      "t:   0%|          | 0/2 [00:00<?, ?it/s, now=None]\n",
      "\n",
      "\n",
      "\n",
      "\n",
      "t: 100%|██████████| 2/2 [00:00<00:00,  6.17it/s, now=None]\n",
      "\n",
      "\n",
      "\n",
      "\n",
      "                                                            \n",
      "\n",
      "\n",
      "                                                          \n",
      "                                                            \n",
      "\n",
      "                                                          \n",
      "\n",
      "\n",
      "\n",
      "                                                          \r"
     ]
    },
    {
     "name": "stdout",
     "output_type": "stream",
     "text": [
      "Moviepy - Done !\n"
     ]
    },
    {
     "name": "stderr",
     "output_type": "stream",
     "text": [
      "t: 100%|██████████| 2/2 [3:52:58<00:00,  2.95it/s, now=None]\n",
      "\n",
      "\n",
      "t: 100%|██████████| 2/2 [02:00<00:00,  6.96it/s, now=None]\n",
      "t: 100%|██████████| 2/2 [3:52:25<00:00,  6.58it/s, now=None]\n",
      "\n",
      "t: 100%|██████████| 2/2 [03:01<00:00,  6.35it/s, now=None]\n",
      "\n",
      "\n",
      "\n",
      "                                                            \n",
      "\n",
      "\n",
      "                                                          \n",
      "                                                            \n",
      "\n",
      "                                                          \n",
      "\n",
      "\n",
      "\n",
      "                                                          \r"
     ]
    },
    {
     "name": "stdout",
     "output_type": "stream",
     "text": [
      "Moviepy - video ready gifs/wiener_deconv\\14_out.mp4\n"
     ]
    },
    {
     "name": "stderr",
     "output_type": "stream",
     "text": [
      "t: 100%|██████████| 2/2 [3:52:58<00:00,  2.95it/s, now=None]\n",
      "\n",
      "\n",
      "t: 100%|██████████| 2/2 [02:00<00:00,  6.96it/s, now=None]\n",
      "t: 100%|██████████| 2/2 [3:52:25<00:00,  6.58it/s, now=None]\n",
      "\n",
      "t: 100%|██████████| 2/2 [03:01<00:00,  6.35it/s, now=None]\n",
      "\n",
      "\n",
      "\n",
      "                                                            \n",
      "\n",
      "\n",
      "                                                          \n",
      "                                                            \n",
      "\n",
      "                                                          \n",
      "\n",
      "\n",
      "\n",
      "                                                          \r"
     ]
    },
    {
     "name": "stdout",
     "output_type": "stream",
     "text": [
      "Moviepy - Building video gifs/blind_deconv\\15_out.mp4.\n"
     ]
    },
    {
     "name": "stderr",
     "output_type": "stream",
     "text": [
      "t: 100%|██████████| 2/2 [3:52:59<00:00,  2.95it/s, now=None]\n",
      "\n",
      "\n",
      "t: 100%|██████████| 2/2 [02:00<00:00,  6.96it/s, now=None]\n",
      "t: 100%|██████████| 2/2 [3:52:26<00:00,  6.58it/s, now=None]\n",
      "\n",
      "t: 100%|██████████| 2/2 [03:01<00:00,  6.35it/s, now=None]\n",
      "\n",
      "\n",
      "\n",
      "                                                            \n",
      "\n",
      "\n",
      "                                                          \n",
      "                                                            \n",
      "\n",
      "                                                          \n",
      "\n",
      "\n",
      "\n",
      "                                                          \r"
     ]
    },
    {
     "name": "stdout",
     "output_type": "stream",
     "text": [
      "Moviepy - Writing video gifs/blind_deconv\\15_out.mp4\n",
      "\n"
     ]
    },
    {
     "name": "stderr",
     "output_type": "stream",
     "text": [
      "t: 100%|██████████| 2/2 [3:52:59<00:00,  2.95it/s, now=None]\n",
      "\n",
      "\n",
      "t: 100%|██████████| 2/2 [02:00<00:00,  6.96it/s, now=None]\n",
      "t: 100%|██████████| 2/2 [3:52:26<00:00,  6.58it/s, now=None]\n",
      "\n",
      "t: 100%|██████████| 2/2 [03:01<00:00,  6.35it/s, now=None]\n",
      "\n",
      "\n",
      "\n",
      "t: 100%|██████████| 2/2 [00:53<00:00,  7.61it/s, now=None]\n",
      "\n",
      "\n",
      "\n",
      "\n",
      "t:   0%|          | 0/2 [00:00<?, ?it/s, now=None]\n",
      "\n",
      "\n",
      "\n",
      "\n",
      "t: 100%|██████████| 2/2 [00:00<00:00,  6.05it/s, now=None]\n",
      "\n",
      "\n",
      "\n",
      "\n",
      "                                                            \n",
      "\n",
      "\n",
      "                                                          \n",
      "                                                            \n",
      "\n",
      "                                                          \n",
      "\n",
      "\n",
      "\n",
      "                                                          \r"
     ]
    },
    {
     "name": "stdout",
     "output_type": "stream",
     "text": [
      "Moviepy - Done !\n"
     ]
    },
    {
     "name": "stderr",
     "output_type": "stream",
     "text": [
      "t: 100%|██████████| 2/2 [3:52:59<00:00,  2.95it/s, now=None]\n",
      "\n",
      "\n",
      "t: 100%|██████████| 2/2 [02:01<00:00,  6.96it/s, now=None]\n",
      "t: 100%|██████████| 2/2 [3:52:26<00:00,  6.58it/s, now=None]\n",
      "\n",
      "t: 100%|██████████| 2/2 [03:02<00:00,  6.35it/s, now=None]\n",
      "\n",
      "\n",
      "\n",
      "                                                            \n",
      "\n",
      "\n",
      "                                                          \n",
      "                                                            \n",
      "\n",
      "                                                          \n",
      "\n",
      "\n",
      "\n",
      "                                                          \r"
     ]
    },
    {
     "name": "stdout",
     "output_type": "stream",
     "text": [
      "Moviepy - video ready gifs/blind_deconv\\15_out.mp4\n"
     ]
    },
    {
     "name": "stderr",
     "output_type": "stream",
     "text": [
      "t: 100%|██████████| 2/2 [3:52:59<00:00,  2.95it/s, now=None]\n",
      "\n",
      "\n",
      "t: 100%|██████████| 2/2 [02:01<00:00,  6.96it/s, now=None]\n",
      "t: 100%|██████████| 2/2 [3:52:26<00:00,  6.58it/s, now=None]\n",
      "\n",
      "t: 100%|██████████| 2/2 [03:02<00:00,  6.35it/s, now=None]\n",
      "\n",
      "\n",
      "\n",
      "                                                            \n",
      "\n",
      "\n",
      "                                                          \n",
      "                                                            \n",
      "\n",
      "                                                          \n",
      "\n",
      "\n",
      "\n",
      "                                                          \r"
     ]
    },
    {
     "name": "stdout",
     "output_type": "stream",
     "text": [
      "Moviepy - Building video gifs/deblur_gan\\15_out.mp4.\n"
     ]
    },
    {
     "name": "stderr",
     "output_type": "stream",
     "text": [
      "t: 100%|██████████| 2/2 [3:52:59<00:00,  2.95it/s, now=None]\n",
      "\n",
      "\n",
      "t: 100%|██████████| 2/2 [02:01<00:00,  6.96it/s, now=None]\n",
      "t: 100%|██████████| 2/2 [3:52:26<00:00,  6.58it/s, now=None]\n",
      "\n",
      "t: 100%|██████████| 2/2 [03:02<00:00,  6.35it/s, now=None]\n",
      "\n",
      "\n",
      "\n",
      "                                                            \n",
      "\n",
      "\n",
      "                                                          \n",
      "                                                            \n",
      "\n",
      "                                                          \n",
      "\n",
      "\n",
      "\n",
      "                                                          \r"
     ]
    },
    {
     "name": "stdout",
     "output_type": "stream",
     "text": [
      "Moviepy - Writing video gifs/deblur_gan\\15_out.mp4\n",
      "\n"
     ]
    },
    {
     "name": "stderr",
     "output_type": "stream",
     "text": [
      "t: 100%|██████████| 2/2 [3:52:59<00:00,  2.95it/s, now=None]\n",
      "\n",
      "\n",
      "t: 100%|██████████| 2/2 [02:01<00:00,  6.96it/s, now=None]\n",
      "t: 100%|██████████| 2/2 [3:52:26<00:00,  6.58it/s, now=None]\n",
      "\n",
      "t: 100%|██████████| 2/2 [03:02<00:00,  6.35it/s, now=None]\n",
      "\n",
      "\n",
      "\n",
      "t: 100%|██████████| 2/2 [00:54<00:00,  7.61it/s, now=None]\n",
      "\n",
      "\n",
      "\n",
      "\n",
      "t:   0%|          | 0/2 [00:00<?, ?it/s, now=None]\n",
      "\n",
      "\n",
      "\n",
      "\n",
      "t: 100%|██████████| 2/2 [00:00<00:00,  6.89it/s, now=None]\n",
      "\n",
      "\n",
      "\n",
      "\n",
      "                                                            \n",
      "\n",
      "\n",
      "                                                          \n",
      "                                                            \n",
      "\n",
      "                                                          \n",
      "\n",
      "\n",
      "\n",
      "                                                          \r"
     ]
    },
    {
     "name": "stdout",
     "output_type": "stream",
     "text": [
      "Moviepy - Done !\n"
     ]
    },
    {
     "name": "stderr",
     "output_type": "stream",
     "text": [
      "t: 100%|██████████| 2/2 [3:53:00<00:00,  2.95it/s, now=None]\n",
      "\n",
      "\n",
      "t: 100%|██████████| 2/2 [02:02<00:00,  6.96it/s, now=None]\n",
      "t: 100%|██████████| 2/2 [3:52:27<00:00,  6.58it/s, now=None]\n",
      "\n",
      "t: 100%|██████████| 2/2 [03:03<00:00,  6.35it/s, now=None]\n",
      "\n",
      "\n",
      "\n",
      "                                                            \n",
      "\n",
      "\n",
      "                                                          \n",
      "                                                            \n",
      "\n",
      "                                                          \n",
      "\n",
      "\n",
      "\n",
      "                                                          \r"
     ]
    },
    {
     "name": "stdout",
     "output_type": "stream",
     "text": [
      "Moviepy - video ready gifs/deblur_gan\\15_out.mp4\n"
     ]
    },
    {
     "name": "stderr",
     "output_type": "stream",
     "text": [
      "t: 100%|██████████| 2/2 [3:53:00<00:00,  2.95it/s, now=None]\n",
      "\n",
      "\n",
      "t: 100%|██████████| 2/2 [02:02<00:00,  6.96it/s, now=None]\n",
      "t: 100%|██████████| 2/2 [3:52:27<00:00,  6.58it/s, now=None]\n",
      "\n",
      "t: 100%|██████████| 2/2 [03:03<00:00,  6.35it/s, now=None]\n",
      "\n",
      "\n",
      "\n",
      "                                                            \n",
      "\n",
      "\n",
      "                                                          \n",
      "                                                            \n",
      "\n",
      "                                                          \n",
      "\n",
      "\n",
      "\n",
      "                                                          \r"
     ]
    },
    {
     "name": "stdout",
     "output_type": "stream",
     "text": [
      "Moviepy - Building video gifs/wiener_deconv\\15_out.mp4.\n"
     ]
    },
    {
     "name": "stderr",
     "output_type": "stream",
     "text": [
      "t: 100%|██████████| 2/2 [3:53:00<00:00,  2.95it/s, now=None]\n",
      "\n",
      "\n",
      "t: 100%|██████████| 2/2 [02:02<00:00,  6.96it/s, now=None]\n",
      "t: 100%|██████████| 2/2 [3:52:27<00:00,  6.58it/s, now=None]\n",
      "\n",
      "t: 100%|██████████| 2/2 [03:03<00:00,  6.35it/s, now=None]\n",
      "\n",
      "\n",
      "\n",
      "                                                            \n",
      "\n",
      "\n",
      "                                                          \n",
      "                                                            \n",
      "\n",
      "                                                          \n",
      "\n",
      "\n",
      "\n",
      "                                                          \r"
     ]
    },
    {
     "name": "stdout",
     "output_type": "stream",
     "text": [
      "Moviepy - Writing video gifs/wiener_deconv\\15_out.mp4\n",
      "\n"
     ]
    },
    {
     "name": "stderr",
     "output_type": "stream",
     "text": [
      "t: 100%|██████████| 2/2 [3:53:00<00:00,  2.95it/s, now=None]\n",
      "\n",
      "\n",
      "t: 100%|██████████| 2/2 [02:02<00:00,  6.96it/s, now=None]\n",
      "t: 100%|██████████| 2/2 [3:52:27<00:00,  6.58it/s, now=None]\n",
      "\n",
      "t: 100%|██████████| 2/2 [03:03<00:00,  6.35it/s, now=None]\n",
      "\n",
      "\n",
      "\n",
      "t: 100%|██████████| 2/2 [00:55<00:00,  7.61it/s, now=None]\n",
      "\n",
      "\n",
      "\n",
      "\n",
      "t:   0%|          | 0/2 [00:00<?, ?it/s, now=None]\n",
      "\n",
      "\n",
      "\n",
      "\n",
      "t: 100%|██████████| 2/2 [00:00<00:00,  5.64it/s, now=None]\n",
      "\n",
      "\n",
      "\n",
      "\n",
      "                                                            \n",
      "\n",
      "\n",
      "                                                          \n",
      "                                                            \n",
      "\n",
      "                                                          \n",
      "\n",
      "\n",
      "\n",
      "                                                          \r"
     ]
    },
    {
     "name": "stdout",
     "output_type": "stream",
     "text": [
      "Moviepy - Done !\n"
     ]
    },
    {
     "name": "stderr",
     "output_type": "stream",
     "text": [
      "t: 100%|██████████| 2/2 [3:53:00<00:00,  2.95it/s, now=None]\n",
      "\n",
      "\n",
      "t: 100%|██████████| 2/2 [02:02<00:00,  6.96it/s, now=None]\n",
      "t: 100%|██████████| 2/2 [3:52:28<00:00,  6.58it/s, now=None]\n",
      "\n",
      "t: 100%|██████████| 2/2 [03:03<00:00,  6.35it/s, now=None]\n",
      "\n",
      "\n",
      "\n",
      "                                                            \n",
      "\n",
      "\n",
      "                                                          \n",
      "                                                            \n",
      "\n",
      "                                                          \n",
      "\n",
      "\n",
      "\n",
      "                                                          \r"
     ]
    },
    {
     "name": "stdout",
     "output_type": "stream",
     "text": [
      "Moviepy - video ready gifs/wiener_deconv\\15_out.mp4\n"
     ]
    },
    {
     "name": "stderr",
     "output_type": "stream",
     "text": [
      "t: 100%|██████████| 2/2 [3:53:00<00:00,  2.95it/s, now=None]\n",
      "\n",
      "\n",
      "t: 100%|██████████| 2/2 [02:02<00:00,  6.96it/s, now=None]\n",
      "t: 100%|██████████| 2/2 [3:52:28<00:00,  6.58it/s, now=None]\n",
      "\n",
      "t: 100%|██████████| 2/2 [03:03<00:00,  6.35it/s, now=None]\n",
      "\n",
      "\n",
      "\n",
      "                                                            \n",
      "\n",
      "\n",
      "                                                          \n",
      "                                                            \n",
      "\n",
      "                                                          \n",
      "\n",
      "\n",
      "\n",
      "                                                          \r"
     ]
    },
    {
     "name": "stdout",
     "output_type": "stream",
     "text": [
      "Moviepy - Building video gifs/blind_deconv\\16_out.mp4.\n"
     ]
    },
    {
     "name": "stderr",
     "output_type": "stream",
     "text": [
      "t: 100%|██████████| 2/2 [3:53:01<00:00,  2.95it/s, now=None]\n",
      "\n",
      "\n",
      "t: 100%|██████████| 2/2 [02:03<00:00,  6.96it/s, now=None]\n",
      "t: 100%|██████████| 2/2 [3:52:28<00:00,  6.58it/s, now=None]\n",
      "\n",
      "t: 100%|██████████| 2/2 [03:04<00:00,  6.35it/s, now=None]\n",
      "\n",
      "\n",
      "\n",
      "                                                            \n",
      "\n",
      "\n",
      "                                                          \n",
      "                                                            \n",
      "\n",
      "                                                          \n",
      "\n",
      "\n",
      "\n",
      "                                                          \r"
     ]
    },
    {
     "name": "stdout",
     "output_type": "stream",
     "text": [
      "Moviepy - Writing video gifs/blind_deconv\\16_out.mp4\n",
      "\n"
     ]
    },
    {
     "name": "stderr",
     "output_type": "stream",
     "text": [
      "t: 100%|██████████| 2/2 [3:53:01<00:00,  2.95it/s, now=None]\n",
      "\n",
      "\n",
      "t: 100%|██████████| 2/2 [02:03<00:00,  6.96it/s, now=None]\n",
      "t: 100%|██████████| 2/2 [3:52:28<00:00,  6.58it/s, now=None]\n",
      "\n",
      "t: 100%|██████████| 2/2 [03:04<00:00,  6.35it/s, now=None]\n",
      "\n",
      "\n",
      "\n",
      "t: 100%|██████████| 2/2 [00:56<00:00,  7.61it/s, now=None]\n",
      "\n",
      "\n",
      "\n",
      "\n",
      "t:   0%|          | 0/2 [00:00<?, ?it/s, now=None]\n",
      "\n",
      "\n",
      "\n",
      "\n",
      "t: 100%|██████████| 2/2 [00:00<00:00,  6.06it/s, now=None]\n",
      "\n",
      "\n",
      "\n",
      "\n",
      "                                                            \n",
      "\n",
      "\n",
      "                                                          \n",
      "                                                            \n",
      "\n",
      "                                                          \n",
      "\n",
      "\n",
      "\n",
      "                                                          \r"
     ]
    },
    {
     "name": "stdout",
     "output_type": "stream",
     "text": [
      "Moviepy - Done !\n"
     ]
    },
    {
     "name": "stderr",
     "output_type": "stream",
     "text": [
      "t: 100%|██████████| 2/2 [3:53:01<00:00,  2.95it/s, now=None]\n",
      "\n",
      "\n",
      "t: 100%|██████████| 2/2 [02:03<00:00,  6.96it/s, now=None]\n",
      "t: 100%|██████████| 2/2 [3:52:28<00:00,  6.58it/s, now=None]\n",
      "\n",
      "t: 100%|██████████| 2/2 [03:04<00:00,  6.35it/s, now=None]\n",
      "\n",
      "\n",
      "\n",
      "                                                            \n",
      "\n",
      "\n",
      "                                                          \n",
      "                                                            \n",
      "\n",
      "                                                          \n",
      "\n",
      "\n",
      "\n",
      "                                                          \r"
     ]
    },
    {
     "name": "stdout",
     "output_type": "stream",
     "text": [
      "Moviepy - video ready gifs/blind_deconv\\16_out.mp4\n"
     ]
    },
    {
     "name": "stderr",
     "output_type": "stream",
     "text": [
      "t: 100%|██████████| 2/2 [3:53:01<00:00,  2.95it/s, now=None]\n",
      "\n",
      "\n",
      "t: 100%|██████████| 2/2 [02:03<00:00,  6.96it/s, now=None]\n",
      "t: 100%|██████████| 2/2 [3:52:28<00:00,  6.58it/s, now=None]\n",
      "\n",
      "t: 100%|██████████| 2/2 [03:04<00:00,  6.35it/s, now=None]\n",
      "\n",
      "\n",
      "\n",
      "                                                            \n",
      "\n",
      "\n",
      "                                                          \n",
      "                                                            \n",
      "\n",
      "                                                          \n",
      "\n",
      "\n",
      "\n",
      "                                                          \r"
     ]
    },
    {
     "name": "stdout",
     "output_type": "stream",
     "text": [
      "Moviepy - Building video gifs/deblur_gan\\16_out.mp4.\n"
     ]
    },
    {
     "name": "stderr",
     "output_type": "stream",
     "text": [
      "t: 100%|██████████| 2/2 [3:53:01<00:00,  2.95it/s, now=None]\n",
      "\n",
      "\n",
      "t: 100%|██████████| 2/2 [02:03<00:00,  6.96it/s, now=None]\n",
      "t: 100%|██████████| 2/2 [3:52:28<00:00,  6.58it/s, now=None]\n",
      "\n",
      "t: 100%|██████████| 2/2 [03:04<00:00,  6.35it/s, now=None]\n",
      "\n",
      "\n",
      "\n",
      "                                                            \n",
      "\n",
      "\n",
      "                                                          \n",
      "                                                            \n",
      "\n",
      "                                                          \n",
      "\n",
      "\n",
      "\n",
      "                                                          \r"
     ]
    },
    {
     "name": "stdout",
     "output_type": "stream",
     "text": [
      "Moviepy - Writing video gifs/deblur_gan\\16_out.mp4\n",
      "\n"
     ]
    },
    {
     "name": "stderr",
     "output_type": "stream",
     "text": [
      "t: 100%|██████████| 2/2 [3:53:01<00:00,  2.95it/s, now=None]\n",
      "\n",
      "\n",
      "t: 100%|██████████| 2/2 [02:03<00:00,  6.96it/s, now=None]\n",
      "t: 100%|██████████| 2/2 [3:52:28<00:00,  6.58it/s, now=None]\n",
      "\n",
      "t: 100%|██████████| 2/2 [03:04<00:00,  6.35it/s, now=None]\n",
      "\n",
      "\n",
      "\n",
      "t: 100%|██████████| 2/2 [00:56<00:00,  7.61it/s, now=None]\n",
      "\n",
      "\n",
      "\n",
      "\n",
      "t:   0%|          | 0/2 [00:00<?, ?it/s, now=None]\n",
      "\n",
      "\n",
      "\n",
      "\n",
      "t: 100%|██████████| 2/2 [00:00<00:00,  6.68it/s, now=None]\n",
      "\n",
      "\n",
      "\n",
      "\n",
      "                                                            \n",
      "\n",
      "\n",
      "                                                          \n",
      "                                                            \n",
      "\n",
      "                                                          \n",
      "\n",
      "\n",
      "\n",
      "                                                          \r"
     ]
    },
    {
     "name": "stdout",
     "output_type": "stream",
     "text": [
      "Moviepy - Done !\n"
     ]
    },
    {
     "name": "stderr",
     "output_type": "stream",
     "text": [
      "t: 100%|██████████| 2/2 [3:53:02<00:00,  2.95it/s, now=None]\n",
      "\n",
      "\n",
      "t: 100%|██████████| 2/2 [02:04<00:00,  6.96it/s, now=None]\n",
      "t: 100%|██████████| 2/2 [3:52:29<00:00,  6.58it/s, now=None]\n",
      "\n",
      "t: 100%|██████████| 2/2 [03:05<00:00,  6.35it/s, now=None]\n",
      "\n",
      "\n",
      "\n",
      "                                                            \n",
      "\n",
      "\n",
      "                                                          \n",
      "                                                            \n",
      "\n",
      "                                                          \n",
      "\n",
      "\n",
      "\n",
      "                                                          \r"
     ]
    },
    {
     "name": "stdout",
     "output_type": "stream",
     "text": [
      "Moviepy - video ready gifs/deblur_gan\\16_out.mp4\n"
     ]
    },
    {
     "name": "stderr",
     "output_type": "stream",
     "text": [
      "t: 100%|██████████| 2/2 [3:53:02<00:00,  2.95it/s, now=None]\n",
      "\n",
      "\n",
      "t: 100%|██████████| 2/2 [02:04<00:00,  6.96it/s, now=None]\n",
      "t: 100%|██████████| 2/2 [3:52:29<00:00,  6.58it/s, now=None]\n",
      "\n",
      "t: 100%|██████████| 2/2 [03:05<00:00,  6.35it/s, now=None]\n",
      "\n",
      "\n",
      "\n",
      "                                                            \n",
      "\n",
      "\n",
      "                                                          \n",
      "                                                            \n",
      "\n",
      "                                                          \n",
      "\n",
      "\n",
      "\n",
      "                                                          \r"
     ]
    },
    {
     "name": "stdout",
     "output_type": "stream",
     "text": [
      "Moviepy - Building video gifs/wiener_deconv\\16_out.mp4.\n"
     ]
    },
    {
     "name": "stderr",
     "output_type": "stream",
     "text": [
      "t: 100%|██████████| 2/2 [3:53:02<00:00,  2.95it/s, now=None]\n",
      "\n",
      "\n",
      "t: 100%|██████████| 2/2 [02:04<00:00,  6.96it/s, now=None]\n",
      "t: 100%|██████████| 2/2 [3:52:29<00:00,  6.58it/s, now=None]\n",
      "\n",
      "t: 100%|██████████| 2/2 [03:05<00:00,  6.35it/s, now=None]\n",
      "\n",
      "\n",
      "\n",
      "                                                            \n",
      "\n",
      "\n",
      "                                                          \n",
      "                                                            \n",
      "\n",
      "                                                          \n",
      "\n",
      "\n",
      "\n",
      "                                                          \r"
     ]
    },
    {
     "name": "stdout",
     "output_type": "stream",
     "text": [
      "Moviepy - Writing video gifs/wiener_deconv\\16_out.mp4\n",
      "\n"
     ]
    },
    {
     "name": "stderr",
     "output_type": "stream",
     "text": [
      "t: 100%|██████████| 2/2 [3:53:02<00:00,  2.95it/s, now=None]\n",
      "\n",
      "\n",
      "t: 100%|██████████| 2/2 [02:04<00:00,  6.96it/s, now=None]\n",
      "t: 100%|██████████| 2/2 [3:52:29<00:00,  6.58it/s, now=None]\n",
      "\n",
      "t: 100%|██████████| 2/2 [03:05<00:00,  6.35it/s, now=None]\n",
      "\n",
      "\n",
      "\n",
      "t: 100%|██████████| 2/2 [00:57<00:00,  7.61it/s, now=None]\n",
      "\n",
      "\n",
      "\n",
      "\n",
      "t:   0%|          | 0/2 [00:00<?, ?it/s, now=None]\n",
      "\n",
      "\n",
      "\n",
      "\n",
      "t: 100%|██████████| 2/2 [00:00<00:00,  5.84it/s, now=None]\n",
      "\n",
      "\n",
      "\n",
      "\n",
      "                                                            \n",
      "\n",
      "\n",
      "                                                          \n",
      "                                                            \n",
      "\n",
      "                                                          \n",
      "\n",
      "\n",
      "\n",
      "                                                          \r"
     ]
    },
    {
     "name": "stdout",
     "output_type": "stream",
     "text": [
      "Moviepy - Done !\n"
     ]
    },
    {
     "name": "stderr",
     "output_type": "stream",
     "text": [
      "t: 100%|██████████| 2/2 [3:53:03<00:00,  2.95it/s, now=None]\n",
      "\n",
      "\n",
      "t: 100%|██████████| 2/2 [02:05<00:00,  6.96it/s, now=None]\n",
      "t: 100%|██████████| 2/2 [3:52:30<00:00,  6.58it/s, now=None]\n",
      "\n",
      "t: 100%|██████████| 2/2 [03:06<00:00,  6.35it/s, now=None]\n",
      "\n",
      "\n",
      "\n",
      "                                                            \n",
      "\n",
      "\n",
      "                                                          \n",
      "                                                            \n",
      "\n",
      "                                                          \n",
      "\n",
      "\n",
      "\n",
      "                                                          \r"
     ]
    },
    {
     "name": "stdout",
     "output_type": "stream",
     "text": [
      "Moviepy - video ready gifs/wiener_deconv\\16_out.mp4\n"
     ]
    },
    {
     "name": "stderr",
     "output_type": "stream",
     "text": [
      "t: 100%|██████████| 2/2 [3:53:03<00:00,  2.95it/s, now=None]\n",
      "\n",
      "\n",
      "t: 100%|██████████| 2/2 [02:05<00:00,  6.96it/s, now=None]\n",
      "t: 100%|██████████| 2/2 [3:52:30<00:00,  6.58it/s, now=None]\n",
      "\n",
      "t: 100%|██████████| 2/2 [03:06<00:00,  6.35it/s, now=None]\n",
      "\n",
      "\n",
      "\n",
      "                                                            \n",
      "\n",
      "\n",
      "                                                          \n",
      "                                                            \n",
      "\n",
      "                                                          \n",
      "\n",
      "\n",
      "\n",
      "                                                          \r"
     ]
    },
    {
     "name": "stdout",
     "output_type": "stream",
     "text": [
      "Moviepy - Building video gifs/blind_deconv\\17_out.mp4.\n"
     ]
    },
    {
     "name": "stderr",
     "output_type": "stream",
     "text": [
      "t: 100%|██████████| 2/2 [3:53:03<00:00,  2.95it/s, now=None]\n",
      "\n",
      "\n",
      "t: 100%|██████████| 2/2 [02:05<00:00,  6.96it/s, now=None]\n",
      "t: 100%|██████████| 2/2 [3:52:30<00:00,  6.58it/s, now=None]\n",
      "\n",
      "t: 100%|██████████| 2/2 [03:06<00:00,  6.35it/s, now=None]\n",
      "\n",
      "\n",
      "\n",
      "                                                            \n",
      "\n",
      "\n",
      "                                                          \n",
      "                                                            \n",
      "\n",
      "                                                          \n",
      "\n",
      "\n",
      "\n",
      "                                                          \r"
     ]
    },
    {
     "name": "stdout",
     "output_type": "stream",
     "text": [
      "Moviepy - Writing video gifs/blind_deconv\\17_out.mp4\n",
      "\n"
     ]
    },
    {
     "name": "stderr",
     "output_type": "stream",
     "text": [
      "t: 100%|██████████| 2/2 [3:53:03<00:00,  2.95it/s, now=None]\n",
      "\n",
      "\n",
      "t: 100%|██████████| 2/2 [02:05<00:00,  6.96it/s, now=None]\n",
      "t: 100%|██████████| 2/2 [3:52:30<00:00,  6.58it/s, now=None]\n",
      "\n",
      "t: 100%|██████████| 2/2 [03:06<00:00,  6.35it/s, now=None]\n",
      "\n",
      "\n",
      "\n",
      "t: 100%|██████████| 2/2 [00:58<00:00,  7.61it/s, now=None]\n",
      "\n",
      "\n",
      "\n",
      "\n",
      "t:   0%|          | 0/2 [00:00<?, ?it/s, now=None]\n",
      "\n",
      "\n",
      "\n",
      "\n",
      "t: 100%|██████████| 2/2 [00:00<00:00,  6.33it/s, now=None]\n",
      "\n",
      "\n",
      "\n",
      "\n",
      "                                                            \n",
      "\n",
      "\n",
      "                                                          \n",
      "                                                            \n",
      "\n",
      "                                                          \n",
      "\n",
      "\n",
      "\n",
      "                                                          \r"
     ]
    },
    {
     "name": "stdout",
     "output_type": "stream",
     "text": [
      "Moviepy - Done !\n"
     ]
    },
    {
     "name": "stderr",
     "output_type": "stream",
     "text": [
      "t: 100%|██████████| 2/2 [3:53:03<00:00,  2.95it/s, now=None]\n",
      "\n",
      "\n",
      "t: 100%|██████████| 2/2 [02:05<00:00,  6.96it/s, now=None]\n",
      "t: 100%|██████████| 2/2 [3:52:31<00:00,  6.58it/s, now=None]\n",
      "\n",
      "t: 100%|██████████| 2/2 [03:06<00:00,  6.35it/s, now=None]\n",
      "\n",
      "\n",
      "\n",
      "                                                            \n",
      "\n",
      "\n",
      "                                                          \n",
      "                                                            \n",
      "\n",
      "                                                          \n",
      "\n",
      "\n",
      "\n",
      "                                                          \r"
     ]
    },
    {
     "name": "stdout",
     "output_type": "stream",
     "text": [
      "Moviepy - video ready gifs/blind_deconv\\17_out.mp4\n"
     ]
    },
    {
     "name": "stderr",
     "output_type": "stream",
     "text": [
      "t: 100%|██████████| 2/2 [3:53:03<00:00,  2.95it/s, now=None]\n",
      "\n",
      "\n",
      "t: 100%|██████████| 2/2 [02:05<00:00,  6.96it/s, now=None]\n",
      "t: 100%|██████████| 2/2 [3:52:31<00:00,  6.58it/s, now=None]\n",
      "\n",
      "t: 100%|██████████| 2/2 [03:06<00:00,  6.35it/s, now=None]\n",
      "\n",
      "\n",
      "\n",
      "                                                            \n",
      "\n",
      "\n",
      "                                                          \n",
      "                                                            \n",
      "\n",
      "                                                          \n",
      "\n",
      "\n",
      "\n",
      "                                                          \r"
     ]
    },
    {
     "name": "stdout",
     "output_type": "stream",
     "text": [
      "Moviepy - Building video gifs/deblur_gan\\17_out.mp4.\n"
     ]
    },
    {
     "name": "stderr",
     "output_type": "stream",
     "text": [
      "t: 100%|██████████| 2/2 [3:53:04<00:00,  2.95it/s, now=None]\n",
      "\n",
      "\n",
      "t: 100%|██████████| 2/2 [02:05<00:00,  6.96it/s, now=None]\n",
      "t: 100%|██████████| 2/2 [3:52:31<00:00,  6.58it/s, now=None]\n",
      "\n",
      "t: 100%|██████████| 2/2 [03:06<00:00,  6.35it/s, now=None]\n",
      "\n",
      "\n",
      "\n",
      "                                                            \n",
      "\n",
      "\n",
      "                                                          \n",
      "                                                            \n",
      "\n",
      "                                                          \n",
      "\n",
      "\n",
      "\n",
      "                                                          \r"
     ]
    },
    {
     "name": "stdout",
     "output_type": "stream",
     "text": [
      "Moviepy - Writing video gifs/deblur_gan\\17_out.mp4\n",
      "\n"
     ]
    },
    {
     "name": "stderr",
     "output_type": "stream",
     "text": [
      "t: 100%|██████████| 2/2 [3:53:04<00:00,  2.95it/s, now=None]\n",
      "\n",
      "\n",
      "t: 100%|██████████| 2/2 [02:05<00:00,  6.96it/s, now=None]\n",
      "t: 100%|██████████| 2/2 [3:52:31<00:00,  6.58it/s, now=None]\n",
      "\n",
      "t: 100%|██████████| 2/2 [03:06<00:00,  6.35it/s, now=None]\n",
      "\n",
      "\n",
      "\n",
      "t: 100%|██████████| 2/2 [00:58<00:00,  7.61it/s, now=None]\n",
      "\n",
      "\n",
      "\n",
      "\n",
      "t:   0%|          | 0/2 [00:00<?, ?it/s, now=None]\n",
      "\n",
      "\n",
      "\n",
      "\n",
      "t: 100%|██████████| 2/2 [00:00<00:00,  7.18it/s, now=None]\n",
      "\n",
      "\n",
      "\n",
      "\n",
      "                                                            \n",
      "\n",
      "\n",
      "                                                          \n",
      "                                                            \n",
      "\n",
      "                                                          \n",
      "\n",
      "\n",
      "\n",
      "                                                          \r"
     ]
    },
    {
     "name": "stdout",
     "output_type": "stream",
     "text": [
      "Moviepy - Done !\n"
     ]
    },
    {
     "name": "stderr",
     "output_type": "stream",
     "text": [
      "t: 100%|██████████| 2/2 [3:53:04<00:00,  2.95it/s, now=None]\n",
      "\n",
      "\n",
      "t: 100%|██████████| 2/2 [02:06<00:00,  6.96it/s, now=None]\n",
      "t: 100%|██████████| 2/2 [3:52:31<00:00,  6.58it/s, now=None]\n",
      "\n",
      "t: 100%|██████████| 2/2 [03:07<00:00,  6.35it/s, now=None]\n",
      "\n",
      "\n",
      "\n",
      "                                                            \n",
      "\n",
      "\n",
      "                                                          \n",
      "                                                            \n",
      "\n",
      "                                                          \n",
      "\n",
      "\n",
      "\n",
      "                                                          \r"
     ]
    },
    {
     "name": "stdout",
     "output_type": "stream",
     "text": [
      "Moviepy - video ready gifs/deblur_gan\\17_out.mp4\n"
     ]
    },
    {
     "name": "stderr",
     "output_type": "stream",
     "text": [
      "t: 100%|██████████| 2/2 [3:53:04<00:00,  2.95it/s, now=None]\n",
      "\n",
      "\n",
      "t: 100%|██████████| 2/2 [02:06<00:00,  6.96it/s, now=None]\n",
      "t: 100%|██████████| 2/2 [3:52:31<00:00,  6.58it/s, now=None]\n",
      "\n",
      "t: 100%|██████████| 2/2 [03:07<00:00,  6.35it/s, now=None]\n",
      "\n",
      "\n",
      "\n",
      "                                                            \n",
      "\n",
      "\n",
      "                                                          \n",
      "                                                            \n",
      "\n",
      "                                                          \n",
      "\n",
      "\n",
      "\n",
      "                                                          \r"
     ]
    },
    {
     "name": "stdout",
     "output_type": "stream",
     "text": [
      "Moviepy - Building video gifs/wiener_deconv\\17_out.mp4.\n"
     ]
    },
    {
     "name": "stderr",
     "output_type": "stream",
     "text": [
      "t: 100%|██████████| 2/2 [3:53:04<00:00,  2.95it/s, now=None]\n",
      "\n",
      "\n",
      "t: 100%|██████████| 2/2 [02:06<00:00,  6.96it/s, now=None]\n",
      "t: 100%|██████████| 2/2 [3:52:31<00:00,  6.58it/s, now=None]\n",
      "\n",
      "t: 100%|██████████| 2/2 [03:07<00:00,  6.35it/s, now=None]\n",
      "\n",
      "\n",
      "\n",
      "                                                            \n",
      "\n",
      "\n",
      "                                                          \n",
      "                                                            \n",
      "\n",
      "                                                          \n",
      "\n",
      "\n",
      "\n",
      "                                                          \r"
     ]
    },
    {
     "name": "stdout",
     "output_type": "stream",
     "text": [
      "Moviepy - Writing video gifs/wiener_deconv\\17_out.mp4\n",
      "\n"
     ]
    },
    {
     "name": "stderr",
     "output_type": "stream",
     "text": [
      "t: 100%|██████████| 2/2 [3:53:04<00:00,  2.95it/s, now=None]\n",
      "\n",
      "\n",
      "t: 100%|██████████| 2/2 [02:06<00:00,  6.96it/s, now=None]\n",
      "t: 100%|██████████| 2/2 [3:52:31<00:00,  6.58it/s, now=None]\n",
      "\n",
      "t: 100%|██████████| 2/2 [03:07<00:00,  6.35it/s, now=None]\n",
      "\n",
      "\n",
      "\n",
      "t: 100%|██████████| 2/2 [00:59<00:00,  7.61it/s, now=None]\n",
      "\n",
      "\n",
      "\n",
      "\n",
      "t:   0%|          | 0/2 [00:00<?, ?it/s, now=None]\n",
      "\n",
      "\n",
      "\n",
      "\n",
      "t: 100%|██████████| 2/2 [00:00<00:00,  6.94it/s, now=None]\n",
      "\n",
      "\n",
      "\n",
      "\n",
      "                                                            \n",
      "\n",
      "\n",
      "                                                          \n",
      "                                                            \n",
      "\n",
      "                                                          \n",
      "\n",
      "\n",
      "\n",
      "                                                          \r"
     ]
    },
    {
     "name": "stdout",
     "output_type": "stream",
     "text": [
      "Moviepy - Done !\n"
     ]
    },
    {
     "name": "stderr",
     "output_type": "stream",
     "text": [
      "t: 100%|██████████| 2/2 [3:53:05<00:00,  2.95it/s, now=None]\n",
      "\n",
      "\n",
      "t: 100%|██████████| 2/2 [02:07<00:00,  6.96it/s, now=None]\n",
      "t: 100%|██████████| 2/2 [3:52:32<00:00,  6.58it/s, now=None]\n",
      "\n",
      "t: 100%|██████████| 2/2 [03:08<00:00,  6.35it/s, now=None]\n",
      "\n",
      "\n",
      "\n",
      "                                                            \n",
      "\n",
      "\n",
      "                                                          \n",
      "                                                            \n",
      "\n",
      "                                                          \n",
      "\n",
      "\n",
      "\n",
      "                                                          \r"
     ]
    },
    {
     "name": "stdout",
     "output_type": "stream",
     "text": [
      "Moviepy - video ready gifs/wiener_deconv\\17_out.mp4\n"
     ]
    },
    {
     "name": "stderr",
     "output_type": "stream",
     "text": [
      "t: 100%|██████████| 2/2 [3:53:05<00:00,  2.95it/s, now=None]\n",
      "\n",
      "\n",
      "t: 100%|██████████| 2/2 [02:07<00:00,  6.96it/s, now=None]\n",
      "t: 100%|██████████| 2/2 [3:52:32<00:00,  6.58it/s, now=None]\n",
      "\n",
      "t: 100%|██████████| 2/2 [03:08<00:00,  6.35it/s, now=None]\n",
      "\n",
      "\n",
      "\n",
      "                                                            \n",
      "\n",
      "\n",
      "                                                          \n",
      "                                                            \n",
      "\n",
      "                                                          \n",
      "\n",
      "\n",
      "\n",
      "                                                          \r"
     ]
    },
    {
     "name": "stdout",
     "output_type": "stream",
     "text": [
      "Moviepy - Building video gifs/blind_deconv\\18_out.mp4.\n"
     ]
    },
    {
     "name": "stderr",
     "output_type": "stream",
     "text": [
      "t: 100%|██████████| 2/2 [3:53:05<00:00,  2.95it/s, now=None]\n",
      "\n",
      "\n",
      "t: 100%|██████████| 2/2 [02:07<00:00,  6.96it/s, now=None]\n",
      "t: 100%|██████████| 2/2 [3:52:32<00:00,  6.58it/s, now=None]\n",
      "\n",
      "t: 100%|██████████| 2/2 [03:08<00:00,  6.35it/s, now=None]\n",
      "\n",
      "\n",
      "\n",
      "                                                            \n",
      "\n",
      "\n",
      "                                                          \n",
      "                                                            \n",
      "\n",
      "                                                          \n",
      "\n",
      "\n",
      "\n",
      "                                                          \r"
     ]
    },
    {
     "name": "stdout",
     "output_type": "stream",
     "text": [
      "Moviepy - Writing video gifs/blind_deconv\\18_out.mp4\n",
      "\n"
     ]
    },
    {
     "name": "stderr",
     "output_type": "stream",
     "text": [
      "t: 100%|██████████| 2/2 [3:53:05<00:00,  2.95it/s, now=None]\n",
      "\n",
      "\n",
      "t: 100%|██████████| 2/2 [02:07<00:00,  6.96it/s, now=None]\n",
      "t: 100%|██████████| 2/2 [3:52:32<00:00,  6.58it/s, now=None]\n",
      "\n",
      "t: 100%|██████████| 2/2 [03:08<00:00,  6.35it/s, now=None]\n",
      "\n",
      "\n",
      "\n",
      "t: 100%|██████████| 2/2 [01:00<00:00,  7.61it/s, now=None]\n",
      "\n",
      "\n",
      "\n",
      "\n",
      "t:   0%|          | 0/2 [00:00<?, ?it/s, now=None]\n",
      "\n",
      "\n",
      "\n",
      "\n",
      "t: 100%|██████████| 2/2 [00:00<00:00,  6.28it/s, now=None]\n",
      "\n",
      "\n",
      "\n",
      "\n",
      "                                                            \n",
      "\n",
      "\n",
      "                                                          \n",
      "                                                            \n",
      "\n",
      "                                                          \n",
      "\n",
      "\n",
      "\n",
      "                                                          \r"
     ]
    },
    {
     "name": "stdout",
     "output_type": "stream",
     "text": [
      "Moviepy - Done !\n"
     ]
    },
    {
     "name": "stderr",
     "output_type": "stream",
     "text": [
      "t: 100%|██████████| 2/2 [3:53:06<00:00,  2.95it/s, now=None]\n",
      "\n",
      "\n",
      "t: 100%|██████████| 2/2 [02:07<00:00,  6.96it/s, now=None]\n",
      "t: 100%|██████████| 2/2 [3:52:33<00:00,  6.58it/s, now=None]\n",
      "\n",
      "t: 100%|██████████| 2/2 [03:08<00:00,  6.35it/s, now=None]\n",
      "\n",
      "\n",
      "\n",
      "                                                            \n",
      "\n",
      "\n",
      "                                                          \n",
      "                                                            \n",
      "\n",
      "                                                          \n",
      "\n",
      "\n",
      "\n",
      "                                                          \r"
     ]
    },
    {
     "name": "stdout",
     "output_type": "stream",
     "text": [
      "Moviepy - video ready gifs/blind_deconv\\18_out.mp4\n"
     ]
    },
    {
     "name": "stderr",
     "output_type": "stream",
     "text": [
      "t: 100%|██████████| 2/2 [3:53:06<00:00,  2.95it/s, now=None]\n",
      "\n",
      "\n",
      "t: 100%|██████████| 2/2 [02:07<00:00,  6.96it/s, now=None]\n",
      "t: 100%|██████████| 2/2 [3:52:33<00:00,  6.58it/s, now=None]\n",
      "\n",
      "t: 100%|██████████| 2/2 [03:08<00:00,  6.35it/s, now=None]\n",
      "\n",
      "\n",
      "\n",
      "                                                            \n",
      "\n",
      "\n",
      "                                                          \n",
      "                                                            \n",
      "\n",
      "                                                          \n",
      "\n",
      "\n",
      "\n",
      "                                                          \r"
     ]
    },
    {
     "name": "stdout",
     "output_type": "stream",
     "text": [
      "Moviepy - Building video gifs/deblur_gan\\18_out.mp4.\n"
     ]
    },
    {
     "name": "stderr",
     "output_type": "stream",
     "text": [
      "t: 100%|██████████| 2/2 [3:53:06<00:00,  2.95it/s, now=None]\n",
      "\n",
      "\n",
      "t: 100%|██████████| 2/2 [02:07<00:00,  6.96it/s, now=None]\n",
      "t: 100%|██████████| 2/2 [3:52:33<00:00,  6.58it/s, now=None]\n",
      "\n",
      "t: 100%|██████████| 2/2 [03:09<00:00,  6.35it/s, now=None]\n",
      "\n",
      "\n",
      "\n",
      "                                                            \n",
      "\n",
      "\n",
      "                                                          \n",
      "                                                            \n",
      "\n",
      "                                                          \n",
      "\n",
      "\n",
      "\n",
      "                                                          \r"
     ]
    },
    {
     "name": "stdout",
     "output_type": "stream",
     "text": [
      "Moviepy - Writing video gifs/deblur_gan\\18_out.mp4\n",
      "\n"
     ]
    },
    {
     "name": "stderr",
     "output_type": "stream",
     "text": [
      "t: 100%|██████████| 2/2 [3:53:06<00:00,  2.95it/s, now=None]\n",
      "\n",
      "\n",
      "t: 100%|██████████| 2/2 [02:07<00:00,  6.96it/s, now=None]\n",
      "t: 100%|██████████| 2/2 [3:52:33<00:00,  6.58it/s, now=None]\n",
      "\n",
      "t: 100%|██████████| 2/2 [03:09<00:00,  6.35it/s, now=None]\n",
      "\n",
      "\n",
      "\n",
      "t: 100%|██████████| 2/2 [01:01<00:00,  7.61it/s, now=None]\n",
      "\n",
      "\n",
      "\n",
      "\n",
      "t:   0%|          | 0/2 [00:00<?, ?it/s, now=None]\n",
      "\n",
      "\n",
      "\n",
      "\n",
      "t: 100%|██████████| 2/2 [00:00<00:00,  7.38it/s, now=None]\n",
      "\n",
      "\n",
      "\n",
      "\n",
      "                                                            \n",
      "\n",
      "\n",
      "                                                          \n",
      "                                                            \n",
      "\n",
      "                                                          \n",
      "\n",
      "\n",
      "\n",
      "                                                          \r"
     ]
    },
    {
     "name": "stdout",
     "output_type": "stream",
     "text": [
      "Moviepy - Done !\n"
     ]
    },
    {
     "name": "stderr",
     "output_type": "stream",
     "text": [
      "t: 100%|██████████| 2/2 [3:53:06<00:00,  2.95it/s, now=None]\n",
      "\n",
      "\n",
      "t: 100%|██████████| 2/2 [02:08<00:00,  6.96it/s, now=None]\n",
      "t: 100%|██████████| 2/2 [3:52:33<00:00,  6.58it/s, now=None]\n",
      "\n",
      "t: 100%|██████████| 2/2 [03:09<00:00,  6.35it/s, now=None]\n",
      "\n",
      "\n",
      "\n",
      "                                                            \n",
      "\n",
      "\n",
      "                                                          \n",
      "                                                            \n",
      "\n",
      "                                                          \n",
      "\n",
      "\n",
      "\n",
      "                                                          \r"
     ]
    },
    {
     "name": "stdout",
     "output_type": "stream",
     "text": [
      "Moviepy - video ready gifs/deblur_gan\\18_out.mp4\n"
     ]
    },
    {
     "name": "stderr",
     "output_type": "stream",
     "text": [
      "t: 100%|██████████| 2/2 [3:53:06<00:00,  2.95it/s, now=None]\n",
      "\n",
      "\n",
      "t: 100%|██████████| 2/2 [02:08<00:00,  6.96it/s, now=None]\n",
      "t: 100%|██████████| 2/2 [3:52:33<00:00,  6.58it/s, now=None]\n",
      "\n",
      "t: 100%|██████████| 2/2 [03:09<00:00,  6.35it/s, now=None]\n",
      "\n",
      "\n",
      "\n",
      "                                                            \n",
      "\n",
      "\n",
      "                                                          \n",
      "                                                            \n",
      "\n",
      "                                                          \n",
      "\n",
      "\n",
      "\n",
      "                                                          \r"
     ]
    },
    {
     "name": "stdout",
     "output_type": "stream",
     "text": [
      "Moviepy - Building video gifs/wiener_deconv\\18_out.mp4.\n"
     ]
    },
    {
     "name": "stderr",
     "output_type": "stream",
     "text": [
      "t: 100%|██████████| 2/2 [3:53:06<00:00,  2.95it/s, now=None]\n",
      "\n",
      "\n",
      "t: 100%|██████████| 2/2 [02:08<00:00,  6.96it/s, now=None]\n",
      "t: 100%|██████████| 2/2 [3:52:33<00:00,  6.58it/s, now=None]\n",
      "\n",
      "t: 100%|██████████| 2/2 [03:09<00:00,  6.35it/s, now=None]\n",
      "\n",
      "\n",
      "\n",
      "                                                            \n",
      "\n",
      "\n",
      "                                                          \n",
      "                                                            \n",
      "\n",
      "                                                          \n",
      "\n",
      "\n",
      "\n",
      "                                                          \r"
     ]
    },
    {
     "name": "stdout",
     "output_type": "stream",
     "text": [
      "Moviepy - Writing video gifs/wiener_deconv\\18_out.mp4\n",
      "\n"
     ]
    },
    {
     "name": "stderr",
     "output_type": "stream",
     "text": [
      "t: 100%|██████████| 2/2 [3:53:06<00:00,  2.95it/s, now=None]\n",
      "\n",
      "\n",
      "t: 100%|██████████| 2/2 [02:08<00:00,  6.96it/s, now=None]\n",
      "t: 100%|██████████| 2/2 [3:52:33<00:00,  6.58it/s, now=None]\n",
      "\n",
      "t: 100%|██████████| 2/2 [03:09<00:00,  6.35it/s, now=None]\n",
      "\n",
      "\n",
      "\n",
      "t: 100%|██████████| 2/2 [01:01<00:00,  7.61it/s, now=None]\n",
      "\n",
      "\n",
      "\n",
      "\n",
      "t:   0%|          | 0/2 [00:00<?, ?it/s, now=None]\n",
      "\n",
      "\n",
      "\n",
      "\n",
      "t: 100%|██████████| 2/2 [00:00<00:00,  7.19it/s, now=None]\n",
      "\n",
      "\n",
      "\n",
      "\n",
      "                                                            \n",
      "\n",
      "\n",
      "                                                          \n",
      "                                                            \n",
      "\n",
      "                                                          \n",
      "\n",
      "\n",
      "\n",
      "                                                          \r"
     ]
    },
    {
     "name": "stdout",
     "output_type": "stream",
     "text": [
      "Moviepy - Done !\n"
     ]
    },
    {
     "name": "stderr",
     "output_type": "stream",
     "text": [
      "t: 100%|██████████| 2/2 [3:53:07<00:00,  2.95it/s, now=None]\n",
      "\n",
      "\n",
      "t: 100%|██████████| 2/2 [02:09<00:00,  6.96it/s, now=None]\n",
      "t: 100%|██████████| 2/2 [3:52:34<00:00,  6.58it/s, now=None]\n",
      "\n",
      "t: 100%|██████████| 2/2 [03:10<00:00,  6.35it/s, now=None]\n",
      "\n",
      "\n",
      "\n",
      "                                                            \n",
      "\n",
      "\n",
      "                                                          \n",
      "                                                            \n",
      "\n",
      "                                                          \n",
      "\n",
      "\n",
      "\n",
      "                                                          \r"
     ]
    },
    {
     "name": "stdout",
     "output_type": "stream",
     "text": [
      "Moviepy - video ready gifs/wiener_deconv\\18_out.mp4\n"
     ]
    },
    {
     "name": "stderr",
     "output_type": "stream",
     "text": [
      "t: 100%|██████████| 2/2 [3:53:07<00:00,  2.95it/s, now=None]\n",
      "\n",
      "\n",
      "t: 100%|██████████| 2/2 [02:09<00:00,  6.96it/s, now=None]\n",
      "t: 100%|██████████| 2/2 [3:52:34<00:00,  6.58it/s, now=None]\n",
      "\n",
      "t: 100%|██████████| 2/2 [03:10<00:00,  6.35it/s, now=None]\n",
      "\n",
      "\n",
      "\n",
      "                                                            \n",
      "\n",
      "\n",
      "                                                          \n",
      "                                                            \n",
      "\n",
      "                                                          \n",
      "\n",
      "\n",
      "\n",
      "                                                          \r"
     ]
    },
    {
     "name": "stdout",
     "output_type": "stream",
     "text": [
      "Moviepy - Building video gifs/blind_deconv\\19_out.mp4.\n"
     ]
    },
    {
     "name": "stderr",
     "output_type": "stream",
     "text": [
      "t: 100%|██████████| 2/2 [3:53:07<00:00,  2.95it/s, now=None]\n",
      "\n",
      "\n",
      "t: 100%|██████████| 2/2 [02:09<00:00,  6.96it/s, now=None]\n",
      "t: 100%|██████████| 2/2 [3:52:34<00:00,  6.58it/s, now=None]\n",
      "\n",
      "t: 100%|██████████| 2/2 [03:10<00:00,  6.35it/s, now=None]\n",
      "\n",
      "\n",
      "\n",
      "                                                            \n",
      "\n",
      "\n",
      "                                                          \n",
      "                                                            \n",
      "\n",
      "                                                          \n",
      "\n",
      "\n",
      "\n",
      "                                                          \r"
     ]
    },
    {
     "name": "stdout",
     "output_type": "stream",
     "text": [
      "Moviepy - Writing video gifs/blind_deconv\\19_out.mp4\n",
      "\n"
     ]
    },
    {
     "name": "stderr",
     "output_type": "stream",
     "text": [
      "t: 100%|██████████| 2/2 [3:53:07<00:00,  2.95it/s, now=None]\n",
      "\n",
      "\n",
      "t: 100%|██████████| 2/2 [02:09<00:00,  6.96it/s, now=None]\n",
      "t: 100%|██████████| 2/2 [3:52:34<00:00,  6.58it/s, now=None]\n",
      "\n",
      "t: 100%|██████████| 2/2 [03:10<00:00,  6.35it/s, now=None]\n",
      "\n",
      "\n",
      "\n",
      "t: 100%|██████████| 2/2 [01:02<00:00,  7.61it/s, now=None]\n",
      "\n",
      "\n",
      "\n",
      "\n",
      "t:   0%|          | 0/2 [00:00<?, ?it/s, now=None]\n",
      "\n",
      "\n",
      "\n",
      "\n",
      "t: 100%|██████████| 2/2 [00:00<00:00,  6.79it/s, now=None]\n",
      "\n",
      "\n",
      "\n",
      "\n",
      "                                                            \n",
      "\n",
      "\n",
      "                                                          \n",
      "                                                            \n",
      "\n",
      "                                                          \n",
      "\n",
      "\n",
      "\n",
      "                                                          \r"
     ]
    },
    {
     "name": "stdout",
     "output_type": "stream",
     "text": [
      "Moviepy - Done !\n"
     ]
    },
    {
     "name": "stderr",
     "output_type": "stream",
     "text": [
      "t: 100%|██████████| 2/2 [3:53:08<00:00,  2.95it/s, now=None]\n",
      "\n",
      "\n",
      "t: 100%|██████████| 2/2 [02:09<00:00,  6.96it/s, now=None]\n",
      "t: 100%|██████████| 2/2 [3:52:35<00:00,  6.58it/s, now=None]\n",
      "\n",
      "t: 100%|██████████| 2/2 [03:10<00:00,  6.35it/s, now=None]\n",
      "\n",
      "\n",
      "\n",
      "                                                            \n",
      "\n",
      "\n",
      "                                                          \n",
      "                                                            \n",
      "\n",
      "                                                          \n",
      "\n",
      "\n",
      "\n",
      "                                                          \r"
     ]
    },
    {
     "name": "stdout",
     "output_type": "stream",
     "text": [
      "Moviepy - video ready gifs/blind_deconv\\19_out.mp4\n"
     ]
    },
    {
     "name": "stderr",
     "output_type": "stream",
     "text": [
      "t: 100%|██████████| 2/2 [3:53:08<00:00,  2.95it/s, now=None]\n",
      "\n",
      "\n",
      "t: 100%|██████████| 2/2 [02:09<00:00,  6.96it/s, now=None]\n",
      "t: 100%|██████████| 2/2 [3:52:35<00:00,  6.58it/s, now=None]\n",
      "\n",
      "t: 100%|██████████| 2/2 [03:10<00:00,  6.35it/s, now=None]\n",
      "\n",
      "\n",
      "\n",
      "                                                            \n",
      "\n",
      "\n",
      "                                                          \n",
      "                                                            \n",
      "\n",
      "                                                          \n",
      "\n",
      "\n",
      "\n",
      "                                                          \r"
     ]
    },
    {
     "name": "stdout",
     "output_type": "stream",
     "text": [
      "Moviepy - Building video gifs/deblur_gan\\19_out.mp4.\n"
     ]
    },
    {
     "name": "stderr",
     "output_type": "stream",
     "text": [
      "t: 100%|██████████| 2/2 [3:53:08<00:00,  2.95it/s, now=None]\n",
      "\n",
      "\n",
      "t: 100%|██████████| 2/2 [02:09<00:00,  6.96it/s, now=None]\n",
      "t: 100%|██████████| 2/2 [3:52:35<00:00,  6.58it/s, now=None]\n",
      "\n",
      "t: 100%|██████████| 2/2 [03:10<00:00,  6.35it/s, now=None]\n",
      "\n",
      "\n",
      "\n",
      "                                                            \n",
      "\n",
      "\n",
      "                                                          \n",
      "                                                            \n",
      "\n",
      "                                                          \n",
      "\n",
      "\n",
      "\n",
      "                                                          \r"
     ]
    },
    {
     "name": "stdout",
     "output_type": "stream",
     "text": [
      "Moviepy - Writing video gifs/deblur_gan\\19_out.mp4\n",
      "\n"
     ]
    },
    {
     "name": "stderr",
     "output_type": "stream",
     "text": [
      "t: 100%|██████████| 2/2 [3:53:08<00:00,  2.95it/s, now=None]\n",
      "\n",
      "\n",
      "t: 100%|██████████| 2/2 [02:09<00:00,  6.96it/s, now=None]\n",
      "t: 100%|██████████| 2/2 [3:52:35<00:00,  6.58it/s, now=None]\n",
      "\n",
      "t: 100%|██████████| 2/2 [03:11<00:00,  6.35it/s, now=None]\n",
      "\n",
      "\n",
      "\n",
      "t: 100%|██████████| 2/2 [01:03<00:00,  7.61it/s, now=None]\n",
      "\n",
      "\n",
      "\n",
      "\n",
      "t:   0%|          | 0/2 [00:00<?, ?it/s, now=None]\n",
      "\n",
      "\n",
      "\n",
      "\n",
      "t: 100%|██████████| 2/2 [00:00<00:00,  5.64it/s, now=None]\n",
      "\n",
      "\n",
      "\n",
      "\n",
      "                                                            \n",
      "\n",
      "\n",
      "                                                          \n",
      "                                                            \n",
      "\n",
      "                                                          \n",
      "\n",
      "\n",
      "\n",
      "                                                          \r"
     ]
    },
    {
     "name": "stdout",
     "output_type": "stream",
     "text": [
      "Moviepy - Done !\n"
     ]
    },
    {
     "name": "stderr",
     "output_type": "stream",
     "text": [
      "t: 100%|██████████| 2/2 [3:53:08<00:00,  2.95it/s, now=None]\n",
      "\n",
      "\n",
      "t: 100%|██████████| 2/2 [02:10<00:00,  6.96it/s, now=None]\n",
      "t: 100%|██████████| 2/2 [3:52:35<00:00,  6.58it/s, now=None]\n",
      "\n",
      "t: 100%|██████████| 2/2 [03:11<00:00,  6.35it/s, now=None]\n",
      "\n",
      "\n",
      "\n",
      "                                                            \n",
      "\n",
      "\n",
      "                                                          \n",
      "                                                            \n",
      "\n",
      "                                                          \n",
      "\n",
      "\n",
      "\n",
      "                                                          \r"
     ]
    },
    {
     "name": "stdout",
     "output_type": "stream",
     "text": [
      "Moviepy - video ready gifs/deblur_gan\\19_out.mp4\n"
     ]
    },
    {
     "name": "stderr",
     "output_type": "stream",
     "text": [
      "t: 100%|██████████| 2/2 [3:53:08<00:00,  2.95it/s, now=None]\n",
      "\n",
      "\n",
      "t: 100%|██████████| 2/2 [02:10<00:00,  6.96it/s, now=None]\n",
      "t: 100%|██████████| 2/2 [3:52:35<00:00,  6.58it/s, now=None]\n",
      "\n",
      "t: 100%|██████████| 2/2 [03:11<00:00,  6.35it/s, now=None]\n",
      "\n",
      "\n",
      "\n",
      "                                                            \n",
      "\n",
      "\n",
      "                                                          \n",
      "                                                            \n",
      "\n",
      "                                                          \n",
      "\n",
      "\n",
      "\n",
      "                                                          \r"
     ]
    },
    {
     "name": "stdout",
     "output_type": "stream",
     "text": [
      "Moviepy - Building video gifs/wiener_deconv\\19_out.mp4.\n"
     ]
    },
    {
     "name": "stderr",
     "output_type": "stream",
     "text": [
      "t: 100%|██████████| 2/2 [3:53:08<00:00,  2.95it/s, now=None]\n",
      "\n",
      "\n",
      "t: 100%|██████████| 2/2 [02:10<00:00,  6.96it/s, now=None]\n",
      "t: 100%|██████████| 2/2 [3:52:35<00:00,  6.58it/s, now=None]\n",
      "\n",
      "t: 100%|██████████| 2/2 [03:11<00:00,  6.35it/s, now=None]\n",
      "\n",
      "\n",
      "\n",
      "                                                            \n",
      "\n",
      "\n",
      "                                                          \n",
      "                                                            \n",
      "\n",
      "                                                          \n",
      "\n",
      "\n",
      "\n",
      "                                                          \r"
     ]
    },
    {
     "name": "stdout",
     "output_type": "stream",
     "text": [
      "Moviepy - Writing video gifs/wiener_deconv\\19_out.mp4\n",
      "\n"
     ]
    },
    {
     "name": "stderr",
     "output_type": "stream",
     "text": [
      "t: 100%|██████████| 2/2 [3:53:08<00:00,  2.95it/s, now=None]\n",
      "\n",
      "\n",
      "t: 100%|██████████| 2/2 [02:10<00:00,  6.96it/s, now=None]\n",
      "t: 100%|██████████| 2/2 [3:52:35<00:00,  6.58it/s, now=None]\n",
      "\n",
      "t: 100%|██████████| 2/2 [03:11<00:00,  6.35it/s, now=None]\n",
      "\n",
      "\n",
      "\n",
      "t: 100%|██████████| 2/2 [01:03<00:00,  7.61it/s, now=None]\n",
      "\n",
      "\n",
      "\n",
      "\n",
      "t:   0%|          | 0/2 [00:00<?, ?it/s, now=None]\n",
      "\n",
      "\n",
      "\n",
      "\n",
      "t: 100%|██████████| 2/2 [00:00<00:00,  7.51it/s, now=None]\n",
      "\n",
      "\n",
      "\n",
      "\n",
      "                                                            \n",
      "\n",
      "\n",
      "                                                          \n",
      "                                                            \n",
      "\n",
      "                                                          \n",
      "\n",
      "\n",
      "\n",
      "                                                          \r"
     ]
    },
    {
     "name": "stdout",
     "output_type": "stream",
     "text": [
      "Moviepy - Done !\n"
     ]
    },
    {
     "name": "stderr",
     "output_type": "stream",
     "text": [
      "t: 100%|██████████| 2/2 [3:53:09<00:00,  2.95it/s, now=None]\n",
      "\n",
      "\n",
      "t: 100%|██████████| 2/2 [02:11<00:00,  6.96it/s, now=None]\n",
      "t: 100%|██████████| 2/2 [3:52:36<00:00,  6.58it/s, now=None]\n",
      "\n",
      "t: 100%|██████████| 2/2 [03:12<00:00,  6.35it/s, now=None]\n",
      "\n",
      "\n",
      "\n",
      "                                                            \n",
      "\n",
      "\n",
      "                                                          \n",
      "                                                            \n",
      "\n",
      "                                                          \n",
      "\n",
      "\n",
      "\n",
      "                                                          \r"
     ]
    },
    {
     "name": "stdout",
     "output_type": "stream",
     "text": [
      "Moviepy - video ready gifs/wiener_deconv\\19_out.mp4\n"
     ]
    },
    {
     "name": "stderr",
     "output_type": "stream",
     "text": [
      "t: 100%|██████████| 2/2 [3:53:09<00:00,  2.95it/s, now=None]\n",
      "\n",
      "\n",
      "t: 100%|██████████| 2/2 [02:11<00:00,  6.96it/s, now=None]\n",
      "t: 100%|██████████| 2/2 [3:52:36<00:00,  6.58it/s, now=None]\n",
      "\n",
      "t: 100%|██████████| 2/2 [03:12<00:00,  6.35it/s, now=None]\n",
      "\n",
      "\n",
      "\n",
      "t: 100%|██████████| 2/2 [01:04<00:00,  7.61it/s, now=None]"
     ]
    }
   ],
   "source": [
    "deconv_out = 'gifs/blind_deconv' \n",
    "gan_out = 'gifs/deblur_gan'\n",
    "wiener_out = 'gifs/wiener_deconv'\n",
    "# cv2.namedWindow('results', cv2.WINDOW_AUTOSIZE)\n",
    "try:\n",
    "    os.makedirs(deconv_out)\n",
    "    os.makedirs(gan_out)\n",
    "    os.makedirs(wiener_out)    \n",
    "except OSError:\n",
    "    pass\n",
    "\n",
    "for i, (gt, deconv, gan,wiener) in enumerate(zip(gt_frames,deconv_frames,gan_frames,wiener_frames)): \n",
    "    gt_im = cv2.cvtColor(cv2.imread(gt), cv2.COLOR_BGR2RGB)\n",
    "    deconv_im = cv2.cvtColor(cv2.imread(deconv), cv2.COLOR_BGR2RGB)\n",
    "    gan_im = cv2.cvtColor(cv2.imread(gan), cv2.COLOR_BGR2RGB)\n",
    "    wiener_im = cv2.cvtColor(cv2.imread(wiener), cv2.COLOR_BGR2RGB)\n",
    "    clip = ImageSequenceClip([gt_im,deconv_im], fps=4)\n",
    "    clip.write_videofile(os.path.join(deconv_out,f'{i}_out.mp4'))\n",
    "    clip = ImageSequenceClip([gt_im,gan_im], fps=4)\n",
    "    clip.write_videofile(os.path.join(gan_out,f'{i}_out.mp4'))\n",
    "    clip = ImageSequenceClip([gt_im,wiener_im], fps=4)\n",
    "    clip.write_videofile(os.path.join(wiener_out,f'{i}_out.mp4'))\n"
   ]
  }
 ],
 "metadata": {
  "kernelspec": {
   "display_name": "Python 3",
   "language": "python",
   "name": "python3"
  },
  "language_info": {
   "codemirror_mode": {
    "name": "ipython",
    "version": 3
   },
   "file_extension": ".py",
   "mimetype": "text/x-python",
   "name": "python",
   "nbconvert_exporter": "python",
   "pygments_lexer": "ipython3",
   "version": "3.7.7"
  }
 },
 "nbformat": 4,
 "nbformat_minor": 4
}
